{
  "cells": [
    {
      "cell_type": "markdown",
      "metadata": {
        "id": "view-in-github",
        "colab_type": "text"
      },
      "source": [
        "<a href=\"https://colab.research.google.com/github/profliuhao/CSIT355/blob/main/CSIT_355_Module_4_SQL.ipynb\" target=\"_parent\"><img src=\"https://colab.research.google.com/assets/colab-badge.svg\" alt=\"Open In Colab\"/></a>"
      ]
    },
    {
      "cell_type": "markdown",
      "metadata": {
        "id": "L1sXM0-YDLbu"
      },
      "source": [
        "# Module 4: SQL Queries\n",
        "\n",
        "### [name]\n",
        "### [student ID]"
      ]
    },
    {
      "cell_type": "markdown",
      "metadata": {
        "id": "VfXRexuHDLbv"
      },
      "source": [
        "## Instruction\n",
        "You need to finish all questions of both In-class exercise. Name your ipynb file as StudentName_lab2.ipynb and submit it on Canvas.\n",
        "\n",
        "PLEASE ENSURE THAT THE SCRIPT CAN CORRECTLY EXECUTE!!!"
      ]
    },
    {
      "cell_type": "code",
      "execution_count": 1,
      "metadata": {
        "id": "H8xqFGQ-DLbw"
      },
      "outputs": [],
      "source": [
        "# Let's start with load the extension sql\n",
        "%load_ext sql\n",
        "\n",
        "# and then connect to a database **lab4_SQL.db** using:\n",
        "%sql sqlite:///lab4_SQL.db"
      ]
    },
    {
      "cell_type": "code",
      "source": [
        "%%sql\n",
        "-- Create the \"Sailors\" table\n",
        "drop table if exists Sailors;\n",
        "drop table if exists Reserves;\n",
        "drop table if exists Boats;\n",
        "CREATE TABLE Sailors (\n",
        "    sid int PRIMARY KEY,\n",
        "    sname VARCHAR,\n",
        "    rating int,\n",
        "    age real\n",
        ");\n",
        "\n",
        "-- Create the \"Reserves\" table\n",
        "CREATE TABLE Reserves (\n",
        "    sid int,\n",
        "    bid int,\n",
        "    day DATE,\n",
        "    PRIMARY KEY (sid, bid),\n",
        "    FOREIGN KEY (sid) REFERENCES Sailors(sid),\n",
        "    FOREIGN KEY (bid) REFERENCES Boats(bid)\n",
        ");\n",
        "\n",
        "-- Create the \"Boats\" table\n",
        "CREATE TABLE Boats (\n",
        "    bid int PRIMARY KEY,\n",
        "    name VARCHAR,\n",
        "    color VARCHAR\n",
        ");\n",
        "\n",
        "-- Insert rows into the \"Sailors\" table\n",
        "delete from Sailors;\n",
        "INSERT INTO Sailors (sid, sname, rating, age) VALUES\n",
        "    (22, 'Dustin', 7, 45),\n",
        "    (29, 'Brutus', 1, 33),\n",
        "    (31, 'Lubber', 8, 55.5),\n",
        "    (32, 'Andy', 8, 25.5),\n",
        "    (58, 'Rusty', 10, 35),\n",
        "    (64, 'Horatio', 7, 35),\n",
        "    (71, 'Zorba', 10, 16),\n",
        "    (74, 'Horatio', 9, 35),\n",
        "    (85, 'Art', 3, 25.5),\n",
        "    (95, 'Bob', 3, 63.5);\n",
        "\n",
        "-- Insert rows into the \"Boats\" table\n",
        "delete from Boats;\n",
        "INSERT INTO Boats (bid, name, color) VALUES\n",
        "    (101, 'Interlake', 'blue'),\n",
        "    (102, 'Interlake-2', 'red'),\n",
        "    (103, 'Clipper', 'green'),\n",
        "    (104, 'Marine', 'red');\n",
        "\n",
        "-- Insert rows into the \"Reserves\" table\n",
        "delete from Reserves;\n",
        "INSERT INTO Reserves (sid, bid, day) VALUES\n",
        "    (22, 101, '10/10/98'),\n",
        "    (22, 102, '10/11/98'),\n",
        "    (22, 103, '10/8/98'),\n",
        "    (22, 104, '10/7/98'),\n",
        "    (31, 102, '11/10/98'),\n",
        "    (31, 103, '10/6/98'),\n",
        "    (31, 104, '11/12/98'),\n",
        "    (64, 101, '9/5/98'),\n",
        "    (64, 102, '9/8/98'),\n",
        "    (74, 103, '9/8/98');\n",
        "\n"
      ],
      "metadata": {
        "colab": {
          "base_uri": "https://localhost:8080/"
        },
        "id": "e5AUxYtFQWM9",
        "outputId": "ddb10b41-0682-4e87-c76d-bc146afed665"
      },
      "execution_count": 2,
      "outputs": [
        {
          "output_type": "stream",
          "name": "stdout",
          "text": [
            " * sqlite:///lab4_SQL.db\n",
            "Done.\n",
            "Done.\n",
            "Done.\n",
            "Done.\n",
            "Done.\n",
            "Done.\n",
            "0 rows affected.\n",
            "10 rows affected.\n",
            "0 rows affected.\n",
            "4 rows affected.\n",
            "0 rows affected.\n",
            "10 rows affected.\n"
          ]
        },
        {
          "output_type": "execute_result",
          "data": {
            "text/plain": [
              "[]"
            ]
          },
          "metadata": {},
          "execution_count": 2
        }
      ]
    },
    {
      "cell_type": "markdown",
      "source": [
        "##Class Examples\n"
      ],
      "metadata": {
        "id": "xpejA9AaU-zu"
      }
    },
    {
      "cell_type": "markdown",
      "source": [
        "### Example 1\n",
        "Use \"=\" in Where clause (Be careful!)"
      ],
      "metadata": {
        "id": "P2j3GPNzXNR5"
      }
    },
    {
      "cell_type": "code",
      "source": [
        "%%sql\n",
        "Select S.sname\n",
        "From Sailors S\n",
        "WHERE S.sid = (\n",
        "  select R.sid\n",
        "  from Reserves R\n",
        "  where R.bid = 103\n",
        ")"
      ],
      "metadata": {
        "colab": {
          "base_uri": "https://localhost:8080/",
          "height": 96
        },
        "id": "mxcVTRplVZ0k",
        "outputId": "d05e83e3-fbd2-493d-e8bf-5ee8746478f3"
      },
      "execution_count": 3,
      "outputs": [
        {
          "output_type": "stream",
          "name": "stdout",
          "text": [
            " * sqlite:///lab4_SQL.db\n",
            "Done.\n"
          ]
        },
        {
          "output_type": "execute_result",
          "data": {
            "text/plain": [
              "[('Dustin',)]"
            ],
            "text/html": [
              "<table>\n",
              "    <thead>\n",
              "        <tr>\n",
              "            <th>sname</th>\n",
              "        </tr>\n",
              "    </thead>\n",
              "    <tbody>\n",
              "        <tr>\n",
              "            <td>Dustin</td>\n",
              "        </tr>\n",
              "    </tbody>\n",
              "</table>"
            ]
          },
          "metadata": {},
          "execution_count": 3
        }
      ]
    },
    {
      "cell_type": "markdown",
      "source": [
        "### Example 2\n",
        "Use Exists in Where clause"
      ],
      "metadata": {
        "id": "pqFbp85ZXPjU"
      }
    },
    {
      "cell_type": "code",
      "source": [
        "%%sql\n",
        "Select S.sname\n",
        "From Sailors S\n",
        "WHERE exists (\n",
        "  select *\n",
        "  from Reserves R\n",
        "  where R.bid = 103 and S.sid=R.sid\n",
        ")"
      ],
      "metadata": {
        "colab": {
          "base_uri": "https://localhost:8080/",
          "height": 139
        },
        "id": "QdoVPJy0VCG8",
        "outputId": "ae5f5e2e-2b54-432b-e2e5-8a6a7141c750"
      },
      "execution_count": 4,
      "outputs": [
        {
          "output_type": "stream",
          "name": "stdout",
          "text": [
            " * sqlite:///lab4_SQL.db\n",
            "Done.\n"
          ]
        },
        {
          "output_type": "execute_result",
          "data": {
            "text/plain": [
              "[('Dustin',), ('Lubber',), ('Horatio',)]"
            ],
            "text/html": [
              "<table>\n",
              "    <thead>\n",
              "        <tr>\n",
              "            <th>sname</th>\n",
              "        </tr>\n",
              "    </thead>\n",
              "    <tbody>\n",
              "        <tr>\n",
              "            <td>Dustin</td>\n",
              "        </tr>\n",
              "        <tr>\n",
              "            <td>Lubber</td>\n",
              "        </tr>\n",
              "        <tr>\n",
              "            <td>Horatio</td>\n",
              "        </tr>\n",
              "    </tbody>\n",
              "</table>"
            ]
          },
          "metadata": {},
          "execution_count": 4
        }
      ]
    },
    {
      "cell_type": "markdown",
      "source": [
        "### Example 3\n",
        "Use IN in Where clause"
      ],
      "metadata": {
        "id": "ohwUodbnXReq"
      }
    },
    {
      "cell_type": "code",
      "source": [
        "%%sql\n",
        "Select S.sname\n",
        "From Sailors S\n",
        "WHERE S.sid in (\n",
        "  select R.sid\n",
        "  from Reserves R\n",
        "  where R.bid = 103\n",
        ")"
      ],
      "metadata": {
        "colab": {
          "base_uri": "https://localhost:8080/",
          "height": 139
        },
        "id": "HsNBHyPxVnCj",
        "outputId": "1668dc3b-0a83-42a0-fe4a-0a9146c284c2"
      },
      "execution_count": 5,
      "outputs": [
        {
          "output_type": "stream",
          "name": "stdout",
          "text": [
            " * sqlite:///lab4_SQL.db\n",
            "Done.\n"
          ]
        },
        {
          "output_type": "execute_result",
          "data": {
            "text/plain": [
              "[('Dustin',), ('Lubber',), ('Horatio',)]"
            ],
            "text/html": [
              "<table>\n",
              "    <thead>\n",
              "        <tr>\n",
              "            <th>sname</th>\n",
              "        </tr>\n",
              "    </thead>\n",
              "    <tbody>\n",
              "        <tr>\n",
              "            <td>Dustin</td>\n",
              "        </tr>\n",
              "        <tr>\n",
              "            <td>Lubber</td>\n",
              "        </tr>\n",
              "        <tr>\n",
              "            <td>Horatio</td>\n",
              "        </tr>\n",
              "    </tbody>\n",
              "</table>"
            ]
          },
          "metadata": {},
          "execution_count": 5
        }
      ]
    },
    {
      "cell_type": "markdown",
      "source": [
        "### Example 4\n",
        "\n",
        "ANY and ALL  (not supported in SQLite, but in Mysql)"
      ],
      "metadata": {
        "id": "HjT_ET1KXT3Y"
      }
    },
    {
      "cell_type": "code",
      "source": [
        "%%sql\n",
        "\n",
        "-- SQLite does not support ANY\n",
        "Select S.sname\n",
        "From Sailors S\n",
        "WHERE S.rating > ANY (\n",
        "  select S1.rating\n",
        "  from Sailors S1, Reserves R1\n",
        "  where S1.sid =R1.sid and R1.bid = 103\n",
        ")"
      ],
      "metadata": {
        "id": "pJfXoXFUTS9y",
        "colab": {
          "base_uri": "https://localhost:8080/"
        },
        "outputId": "d3f1aa38-64f2-4d1c-e913-e992ace0300f"
      },
      "execution_count": 6,
      "outputs": [
        {
          "output_type": "stream",
          "name": "stdout",
          "text": [
            " * sqlite:///lab4_SQL.db\n",
            "(sqlite3.OperationalError) near \"select\": syntax error\n",
            "[SQL: -- SQLite does not support ANY\n",
            "Select S.sname\n",
            "From Sailors S\n",
            "WHERE S.rating > ANY (\n",
            "  select S1.rating \n",
            "  from Sailors S1, Reserves R1\n",
            "  where S1.sid =R1.sid and R1.bid = 103 \n",
            ")]\n",
            "(Background on this error at: https://sqlalche.me/e/20/e3q8)\n"
          ]
        }
      ]
    },
    {
      "cell_type": "code",
      "source": [
        "%%sql\n",
        "\n",
        "-- SQLite does not support ALL\n",
        "\n",
        "Select S.sname\n",
        "From Sailors S\n",
        "WHERE S.age >= ALL (\n",
        "  select S1.age\n",
        "  from Sailors S1\n",
        ")"
      ],
      "metadata": {
        "colab": {
          "base_uri": "https://localhost:8080/"
        },
        "id": "AESTfOTnWLGJ",
        "outputId": "ceb39016-17c3-41fa-d04b-cad43b93dabe"
      },
      "execution_count": 7,
      "outputs": [
        {
          "output_type": "stream",
          "name": "stdout",
          "text": [
            " * sqlite:///lab4_SQL.db\n",
            "(sqlite3.OperationalError) near \"ALL\": syntax error\n",
            "[SQL: -- SQLite does not support ALL\n",
            "\n",
            "Select S.sname\n",
            "From Sailors S\n",
            "WHERE S.age >= ALL (\n",
            "  select S1.age \n",
            "  from Sailors S1 \n",
            ")]\n",
            "(Background on this error at: https://sqlalche.me/e/20/e3q8)\n"
          ]
        }
      ]
    },
    {
      "cell_type": "markdown",
      "source": [
        "### Example 5\n",
        "subquery in From clause"
      ],
      "metadata": {
        "id": "3zc5HXXPXVqF"
      }
    },
    {
      "cell_type": "code",
      "source": [
        "%%sql\n",
        "select SQ.sname, SQ.bname\n",
        "from\n",
        "  (\n",
        "  select S.sname, B.name as bname\n",
        "  from Sailors S, Boats B, Reserves R\n",
        "  where S.sid=R.sid and B.bid=R.bid\n",
        "  ) SQ\n",
        "where SQ.bname='Interlake';\n"
      ],
      "metadata": {
        "colab": {
          "base_uri": "https://localhost:8080/",
          "height": 118
        },
        "id": "Da0vruLLWcsK",
        "outputId": "44099e8b-63b8-45a4-b9dc-05ee226928c6"
      },
      "execution_count": 8,
      "outputs": [
        {
          "output_type": "stream",
          "name": "stdout",
          "text": [
            " * sqlite:///lab4_SQL.db\n",
            "Done.\n"
          ]
        },
        {
          "output_type": "execute_result",
          "data": {
            "text/plain": [
              "[('Dustin', 'Interlake'), ('Horatio', 'Interlake')]"
            ],
            "text/html": [
              "<table>\n",
              "    <thead>\n",
              "        <tr>\n",
              "            <th>sname</th>\n",
              "            <th>bname</th>\n",
              "        </tr>\n",
              "    </thead>\n",
              "    <tbody>\n",
              "        <tr>\n",
              "            <td>Dustin</td>\n",
              "            <td>Interlake</td>\n",
              "        </tr>\n",
              "        <tr>\n",
              "            <td>Horatio</td>\n",
              "            <td>Interlake</td>\n",
              "        </tr>\n",
              "    </tbody>\n",
              "</table>"
            ]
          },
          "metadata": {},
          "execution_count": 8
        }
      ]
    },
    {
      "cell_type": "markdown",
      "source": [
        "### Example 6\n",
        "Rewriting INTERSECT Queries using IN"
      ],
      "metadata": {
        "id": "cp2BBcE4Xaiq"
      }
    },
    {
      "cell_type": "code",
      "source": [
        "%%sql\n",
        "-- set operation (no duplicates!)\n",
        "select S.sid\n",
        "from Sailors S, Boats B, Reserves R\n",
        "where S.sid=R.sid and B.bid=R.bid and B.color='red'\n",
        "\n",
        "INTERSECT\n",
        "\n",
        "select S2.sid\n",
        "from Sailors S2, Boats B2, Reserves R2\n",
        "where S2.sid=R2.sid and B2.bid=R2.bid and B2.color='green'\n"
      ],
      "metadata": {
        "colab": {
          "base_uri": "https://localhost:8080/",
          "height": 118
        },
        "id": "mL4iJlBCa6Hs",
        "outputId": "8de63888-f4e0-4d59-d09b-28bbd6fc440f"
      },
      "execution_count": 23,
      "outputs": [
        {
          "output_type": "stream",
          "name": "stdout",
          "text": [
            " * sqlite:///lab4_SQL.db\n",
            "Done.\n"
          ]
        },
        {
          "output_type": "execute_result",
          "data": {
            "text/plain": [
              "[(22,), (31,)]"
            ],
            "text/html": [
              "<table>\n",
              "    <thead>\n",
              "        <tr>\n",
              "            <th>sid</th>\n",
              "        </tr>\n",
              "    </thead>\n",
              "    <tbody>\n",
              "        <tr>\n",
              "            <td>22</td>\n",
              "        </tr>\n",
              "        <tr>\n",
              "            <td>31</td>\n",
              "        </tr>\n",
              "    </tbody>\n",
              "</table>"
            ]
          },
          "metadata": {},
          "execution_count": 23
        }
      ]
    },
    {
      "cell_type": "code",
      "source": [
        "%%sql\n",
        "select S.sid\n",
        "from Sailors S, Boats B, Reserves R\n",
        "where S.sid=R.sid and B.bid=R.bid and B.color='red'\n",
        "and S.sid in (\n",
        "  select S2.sid\n",
        "  from Sailors S2, Boats B2, Reserves R2\n",
        "  where S2.sid=R2.sid and B2.bid=R2.bid and B2.color='green'\n",
        ")"
      ],
      "metadata": {
        "colab": {
          "base_uri": "https://localhost:8080/",
          "height": 160
        },
        "id": "PQU28hBpXboO",
        "outputId": "ed0d3df8-6b2f-4dae-d2b7-2079ed1e2de1"
      },
      "execution_count": 15,
      "outputs": [
        {
          "output_type": "stream",
          "name": "stdout",
          "text": [
            " * sqlite:///lab4_SQL.db\n",
            "Done.\n"
          ]
        },
        {
          "output_type": "execute_result",
          "data": {
            "text/plain": [
              "[(22,), (22,), (31,), (31,)]"
            ],
            "text/html": [
              "<table>\n",
              "    <thead>\n",
              "        <tr>\n",
              "            <th>sid</th>\n",
              "        </tr>\n",
              "    </thead>\n",
              "    <tbody>\n",
              "        <tr>\n",
              "            <td>22</td>\n",
              "        </tr>\n",
              "        <tr>\n",
              "            <td>22</td>\n",
              "        </tr>\n",
              "        <tr>\n",
              "            <td>31</td>\n",
              "        </tr>\n",
              "        <tr>\n",
              "            <td>31</td>\n",
              "        </tr>\n",
              "    </tbody>\n",
              "</table>"
            ]
          },
          "metadata": {},
          "execution_count": 15
        }
      ]
    },
    {
      "cell_type": "markdown",
      "source": [
        "### Example Exercise 1\n",
        "Find sids of sailors who've reserved only green boats"
      ],
      "metadata": {
        "id": "gtmeeUhlYPX2"
      }
    },
    {
      "cell_type": "code",
      "source": [
        "%%sql\n",
        "select R.sid\n",
        "from Reserves R, Boats B\n",
        "where B.bid=R.bid and B.color='green'\n",
        "and R.sid not in (\n",
        "  select R1.sid\n",
        "  from Reserves R1, Boats B1\n",
        "  where B1.bid=R1.bid and B1.color<>'green'\n",
        ")"
      ],
      "metadata": {
        "colab": {
          "base_uri": "https://localhost:8080/",
          "height": 96
        },
        "id": "rap_G70DYT5_",
        "outputId": "b31d1c74-59a0-40e8-f492-799626382fa8"
      },
      "execution_count": 19,
      "outputs": [
        {
          "output_type": "stream",
          "name": "stdout",
          "text": [
            " * sqlite:///lab4_SQL.db\n",
            "Done.\n"
          ]
        },
        {
          "output_type": "execute_result",
          "data": {
            "text/plain": [
              "[(74,)]"
            ],
            "text/html": [
              "<table>\n",
              "    <thead>\n",
              "        <tr>\n",
              "            <th>sid</th>\n",
              "        </tr>\n",
              "    </thead>\n",
              "    <tbody>\n",
              "        <tr>\n",
              "            <td>74</td>\n",
              "        </tr>\n",
              "    </tbody>\n",
              "</table>"
            ]
          },
          "metadata": {},
          "execution_count": 19
        }
      ]
    },
    {
      "cell_type": "code",
      "source": [
        "%%sql\n",
        "select R.sid\n",
        "from Reserves R\n",
        "where not exists(\n",
        "  select *\n",
        "  from Reserves R1, Boats B1\n",
        "  where R.sid=R1.sid\n",
        "  and B1.bid=R1.bid\n",
        "  and B1.color<>'green'\n",
        "\n",
        ")\n",
        "\n",
        ""
      ],
      "metadata": {
        "colab": {
          "base_uri": "https://localhost:8080/",
          "height": 96
        },
        "id": "o0yaEMxOYTx5",
        "outputId": "4e1fde55-817e-4163-9f0e-fc97dd109aa7"
      },
      "execution_count": 20,
      "outputs": [
        {
          "output_type": "stream",
          "name": "stdout",
          "text": [
            " * sqlite:///lab4_SQL.db\n",
            "Done.\n"
          ]
        },
        {
          "output_type": "execute_result",
          "data": {
            "text/plain": [
              "[(74,)]"
            ],
            "text/html": [
              "<table>\n",
              "    <thead>\n",
              "        <tr>\n",
              "            <th>sid</th>\n",
              "        </tr>\n",
              "    </thead>\n",
              "    <tbody>\n",
              "        <tr>\n",
              "            <td>74</td>\n",
              "        </tr>\n",
              "    </tbody>\n",
              "</table>"
            ]
          },
          "metadata": {},
          "execution_count": 20
        }
      ]
    },
    {
      "cell_type": "markdown",
      "source": [
        "### Example Exercise 2\n",
        "Find sids of sailors who've the highest rating"
      ],
      "metadata": {
        "id": "SRzPNXGiZu8i"
      }
    },
    {
      "cell_type": "code",
      "source": [
        "%%sql\n",
        "select S1.sname\n",
        "from Sailors S1\n",
        "where S1.sid not in (\n",
        "  select S2.sid\n",
        "  from Sailors S2, Sailors S3\n",
        "  where S2.rating < S3.rating\n",
        ")"
      ],
      "metadata": {
        "colab": {
          "base_uri": "https://localhost:8080/",
          "height": 118
        },
        "id": "x6AFSsuMZxnO",
        "outputId": "34d52af1-a105-48c1-c82d-a2db321b3991"
      },
      "execution_count": 22,
      "outputs": [
        {
          "output_type": "stream",
          "name": "stdout",
          "text": [
            " * sqlite:///lab4_SQL.db\n",
            "Done.\n"
          ]
        },
        {
          "output_type": "execute_result",
          "data": {
            "text/plain": [
              "[('Rusty',), ('Zorba',)]"
            ],
            "text/html": [
              "<table>\n",
              "    <thead>\n",
              "        <tr>\n",
              "            <th>sname</th>\n",
              "        </tr>\n",
              "    </thead>\n",
              "    <tbody>\n",
              "        <tr>\n",
              "            <td>Rusty</td>\n",
              "        </tr>\n",
              "        <tr>\n",
              "            <td>Zorba</td>\n",
              "        </tr>\n",
              "    </tbody>\n",
              "</table>"
            ]
          },
          "metadata": {},
          "execution_count": 22
        }
      ]
    },
    {
      "cell_type": "markdown",
      "source": [
        "## Class Exercises\n"
      ],
      "metadata": {
        "id": "ZEz0Nx8uVCxj"
      }
    },
    {
      "cell_type": "markdown",
      "source": [
        "### Exercise 1\n",
        "Find sailor names who’ve reserved all boats"
      ],
      "metadata": {
        "collapsed": false,
        "id": "GuPiPB9VPEdM"
      }
    },
    {
      "cell_type": "code",
      "source": [
        "%%sql\n",
        "\n"
      ],
      "metadata": {
        "colab": {
          "base_uri": "https://localhost:8080/"
        },
        "id": "gJ-DkUIyQ8Cq",
        "outputId": "f9872763-f988-46ce-9f26-1bf5ecc7ecee"
      },
      "execution_count": 9,
      "outputs": [
        {
          "output_type": "stream",
          "name": "stdout",
          "text": [
            " * sqlite:///lab4_SQL.db\n"
          ]
        }
      ]
    },
    {
      "cell_type": "markdown",
      "source": [
        "### Exercise 2\n",
        "Find sailor names who've reserved all red boats\n"
      ],
      "metadata": {
        "id": "MWdnfg3zT531"
      }
    },
    {
      "cell_type": "code",
      "source": [
        "%%sql\n",
        "\n"
      ],
      "metadata": {
        "colab": {
          "base_uri": "https://localhost:8080/"
        },
        "id": "dEgEV9uJUJSB",
        "outputId": "bc4ec5ca-7fa1-411f-db76-763f5c551e27"
      },
      "execution_count": 10,
      "outputs": [
        {
          "output_type": "stream",
          "name": "stdout",
          "text": [
            " * sqlite:///lab4_SQL.db\n"
          ]
        }
      ]
    },
    {
      "cell_type": "markdown",
      "metadata": {
        "id": "Gx4I6gRUDLbw"
      },
      "source": [
        "### Exercise 3"
      ]
    },
    {
      "cell_type": "markdown",
      "metadata": {
        "id": "eX_xNuMfDLbx"
      },
      "source": [
        "Write SQL declarations for creating the schemas of the following three tables. Include necessary key constraints.\n",
        "\n",
        "1. Employee(<u>eid</u>:integer, ename:string, age:integer, salary:real)\n",
        "\n",
        "2. Works(<u>eid</u>:integer, <u>did</u>:integer, pct_time:integer)\n",
        "\n",
        "3. Department(<u>did</u>:integer, dname:string, budge:real, managerid:integer)\n",
        "\n",
        "The keys are underlined in each relation. Relation **Employee** stores employee information such as unique identifier **eid**, employee name **ename**, **age** and **salary**. Relation **Department** stores the department unique identifier **did**, department name **dname**, the department **budget** and **managerid** which is the **eid** of the employee who is managing the department. The **managerid** value must always be found in the **eid** field of a record of the Employee relation. The Works relation tracks which\n",
        "employee works in which department, and what **percentage** of the time s/he allocates to that department. Note that, an employee can work in several departments."
      ]
    },
    {
      "cell_type": "code",
      "execution_count": 11,
      "metadata": {
        "id": "b_gspMStDLbx",
        "outputId": "d73ad235-b6fc-464e-c046-d3246929430b",
        "colab": {
          "base_uri": "https://localhost:8080/"
        }
      },
      "outputs": [
        {
          "output_type": "stream",
          "name": "stdout",
          "text": [
            " * sqlite:///lab4_SQL.db\n",
            "Done.\n",
            "Done.\n",
            "Done.\n",
            "Done.\n"
          ]
        },
        {
          "output_type": "execute_result",
          "data": {
            "text/plain": [
              "[]"
            ]
          },
          "metadata": {},
          "execution_count": 11
        }
      ],
      "source": [
        "%%sql\n",
        "\n",
        "drop table if exists Employee;\n",
        "drop table if exists Department;\n",
        "drop table if exists Works;\n",
        "\n",
        "-- your code goes below\n",
        "\n"
      ]
    },
    {
      "cell_type": "markdown",
      "metadata": {
        "id": "uDwQmAeoDLbx"
      },
      "source": [
        "### Insert values to tables\n",
        "Execute the cell below to insert values to the three tables.\n",
        "1. Employee\n",
        "\n",
        "| eid     | ename         | age | salary |  \n",
        "|---------|---------------|-----|--------|\n",
        "| 101     | Andrew Fuller | 40  | 50000  |\n",
        "| 102     | Justin Peacock| 25  | 20000  |\n",
        "| 103     | Nancy Buchanan| 35  | 30000  |\n",
        "| 104     | Robert King   | 30  | 20000  |\n",
        "\n",
        "2. Works:\n",
        "\n",
        "| eid     | did  | pct_time |\n",
        "|---------|------|----------|\n",
        "| 101     | 1001 | 100      |\n",
        "| 102     | 1001 | 20       |\n",
        "| 102     | 1002 | 50       |\n",
        "| 102     | 1003 | 10       |\n",
        "| 103     | 1003 | 90       |\n",
        "| 103     | 1001 | 10       |\n",
        "| 104     | 1001 | 20       |\n",
        "| 104     | 1002 | 70       |\n",
        "\n",
        "3. Department:\n",
        "\n",
        "| did     | dname    | budget  | managerid |\n",
        "|---------|----------|---------|-----------|\n",
        "| 1001    | IT       | 500000  | 101       |\n",
        "| 1002    | Computing| 750000  | 104       |\n",
        "| 1003    | Finance  | 350000  | 103       |\n",
        "\n",
        "\n"
      ]
    },
    {
      "cell_type": "code",
      "execution_count": 12,
      "metadata": {
        "id": "xDD0fem7DLby",
        "outputId": "94d547df-6f3f-4c04-8b08-d7ea32a5835e",
        "colab": {
          "base_uri": "https://localhost:8080/"
        }
      },
      "outputs": [
        {
          "output_type": "stream",
          "name": "stdout",
          "text": [
            " * sqlite:///lab4_SQL.db\n",
            "(sqlite3.OperationalError) no such table: Employee\n",
            "[SQL: DELETE FROM Employee;]\n",
            "(Background on this error at: https://sqlalche.me/e/20/e3q8)\n"
          ]
        }
      ],
      "source": [
        "%%sql\n",
        "DELETE FROM Employee;\n",
        "DELETE FROM Works;\n",
        "DELETE FROM Department;\n",
        "insert into Employee values ( 101,'Andrew Fuller', 40, 50000);\n",
        "insert into Employee values ( 102, 'Justin Peacock', 25, 20000);\n",
        "insert into Employee values ( 103, 'Nancy Buchanan', 35, 30000);\n",
        "insert into Employee values ( 104, 'Robert King', 30, 20000);\n",
        "\n",
        "insert into Department values (1001, 'IT', 500000, 101);\n",
        "insert into Department values (1002, 'Computing', 750000, 104);\n",
        "insert into Department values (1003, 'Finance', 350000, 103);\n",
        "\n",
        "insert into Works values (101, 1001, 100);\n",
        "insert into Works values (102, 1001, 20);\n",
        "insert into Works values (102, 1002, 50);\n",
        "insert into Works values (102, 1003, 10);\n",
        "insert into Works values (103, 1003, 90);\n",
        "insert into Works values (103, 1001, 10);\n",
        "insert into Works values (104, 1001, 20);\n",
        "insert into Works values (104, 1002, 70);"
      ]
    },
    {
      "cell_type": "markdown",
      "metadata": {
        "id": "w1QIkWW8DLbz"
      },
      "source": [
        "### Exercise 4\n",
        "Find the name of departments who employ only persons of age 30 or younger. List each name only once."
      ]
    },
    {
      "cell_type": "code",
      "execution_count": 13,
      "metadata": {
        "id": "lV9yTw45DLbz",
        "outputId": "3f7456ee-3a4d-4814-9749-42c4fccabb4a",
        "colab": {
          "base_uri": "https://localhost:8080/"
        }
      },
      "outputs": [
        {
          "output_type": "stream",
          "name": "stdout",
          "text": [
            " * sqlite:///lab4_SQL.db\n"
          ]
        }
      ],
      "source": [
        "%%sql\n",
        "\n",
        "\n"
      ]
    },
    {
      "cell_type": "markdown",
      "metadata": {
        "id": "zoQO9zX8DLbz"
      },
      "source": [
        "### Exercise 5\n",
        "Find the names of employees who work in all departments"
      ]
    },
    {
      "cell_type": "code",
      "execution_count": 14,
      "metadata": {
        "id": "qd_tek3UDLbz",
        "outputId": "61dd94e2-88b7-4412-ae44-a45b5bb596a7",
        "colab": {
          "base_uri": "https://localhost:8080/"
        }
      },
      "outputs": [
        {
          "output_type": "stream",
          "name": "stdout",
          "text": [
            " * sqlite:///lab4_SQL.db\n"
          ]
        }
      ],
      "source": [
        "%%sql\n",
        "\n",
        "\n",
        "\n"
      ]
    }
  ],
  "metadata": {
    "kernelspec": {
      "display_name": "Python 3",
      "language": "python",
      "name": "python3"
    },
    "language_info": {
      "codemirror_mode": {
        "name": "ipython",
        "version": 3
      },
      "file_extension": ".py",
      "mimetype": "text/x-python",
      "name": "python",
      "nbconvert_exporter": "python",
      "pygments_lexer": "ipython3",
      "version": "3.6.9"
    },
    "colab": {
      "provenance": [],
      "toc_visible": true,
      "include_colab_link": true
    }
  },
  "nbformat": 4,
  "nbformat_minor": 0
}