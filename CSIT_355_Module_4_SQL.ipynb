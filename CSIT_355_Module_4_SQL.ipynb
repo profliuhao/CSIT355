{
 "cells": [
  {
   "cell_type": "markdown",
   "metadata": {
    "id": "L1sXM0-YDLbu"
   },
   "source": [
    "# Module 4: SQL Queries\n",
    "\n",
    "### [name]\n",
    "### [student ID]"
   ]
  },
  {
   "cell_type": "markdown",
   "metadata": {
    "id": "VfXRexuHDLbv"
   },
   "source": [
    "## Instruction\n",
    "You need to finish all questions of both In-class exercise. Name your ipynb file as StudentName_lab2.ipynb and submit it on Canvas.\n",
    "\n",
    "PLEASE ENSURE THAT THE SCRIPT CAN CORRECTLY EXECUTE!!!"
   ]
  },
  {
   "cell_type": "code",
   "execution_count": null,
   "metadata": {
    "id": "H8xqFGQ-DLbw"
   },
   "outputs": [],
   "source": [
    "# Let's start with load the extension sql\n",
    "%load_ext sql\n",
    "\n",
    "# and then connect to a database **lab4_SQL.db** using:\n",
    "%sql sqlite:///lab4_SQL.db"
   ]
  },
  {
   "cell_type": "code",
   "source": [
    "%%sql\n",
    "-- Create the \"Sailors\" table\n",
    "drop table if exists Sailors;\n",
    "drop table if exists Reserves;\n",
    "drop table if exists Boats;\n",
    "CREATE TABLE Sailors (\n",
    "    sid int PRIMARY KEY,\n",
    "    sname VARCHAR,\n",
    "    rating int,\n",
    "    age real\n",
    ");\n",
    "\n",
    "-- Create the \"Reserves\" table\n",
    "CREATE TABLE Reserves (\n",
    "    sid int,\n",
    "    bid int,\n",
    "    day DATE,\n",
    "    PRIMARY KEY (sid, bid),\n",
    "    FOREIGN KEY (sid) REFERENCES Sailors(sid),\n",
    "    FOREIGN KEY (bid) REFERENCES Boats(bid)\n",
    ");\n",
    "\n",
    "-- Create the \"Boats\" table\n",
    "CREATE TABLE Boats (\n",
    "    bid int PRIMARY KEY,\n",
    "    name VARCHAR,\n",
    "    color VARCHAR\n",
    ");\n",
    "\n",
    "-- Insert rows into the \"Sailors\" table\n",
    "delete from Sailors;\n",
    "INSERT INTO Sailors (sid, sname, rating, age) VALUES\n",
    "    (22, 'Dustin', 7, 45),\n",
    "    (29, 'Brutus', 1, 33),\n",
    "    (31, 'Lubber', 8, 55.5),\n",
    "    (32, 'Andy', 8, 25.5),\n",
    "    (58, 'Rusty', 10, 35),\n",
    "    (64, 'Horatio', 7, 35),\n",
    "    (71, 'Zorba', 10, 16),\n",
    "    (74, 'Horatio', 9, 35),\n",
    "    (85, 'Art', 3, 25.5),\n",
    "    (95, 'Bob', 3, 63.5);\n",
    "\n",
    "-- Insert rows into the \"Boats\" table\n",
    "delete from Boats;\n",
    "INSERT INTO Boats (bid, name, color) VALUES\n",
    "    (101, 'Interlake', 'blue'),\n",
    "    (102, 'Interlake', 'red'),\n",
    "    (103, 'Clipper', 'green'),\n",
    "    (104, 'Marine', 'red');\n",
    "\n",
    "-- Insert rows into the \"Reserves\" table\n",
    "delete from Reserves;\n",
    "INSERT INTO Reserves (sid, bid, day) VALUES\n",
    "    (22, 101, '10/10/98'),\n",
    "    (22, 102, '10/11/98'),\n",
    "    (22, 103, '10/8/98'),\n",
    "    (22, 104, '10/7/98'),\n",
    "    (31, 102, '11/10/98'),\n",
    "    (31, 103, '10/6/98'),\n",
    "    (31, 104, '11/12/98'),\n",
    "    (64, 101, '9/5/98'),\n",
    "    (64, 102, '9/8/98'),\n",
    "    (74, 103, '9/8/98');\n",
    "\n"
   ],
   "metadata": {
    "colab": {
     "base_uri": "https://localhost:8080/"
    },
    "id": "e5AUxYtFQWM9",
    "outputId": "f5eb201a-292b-48eb-a651-3c3589caeba3"
   },
   "execution_count": null,
   "outputs": [
    {
     "output_type": "stream",
     "name": "stdout",
     "text": [
      "   sqlite:///class6.db\n",
      " * sqlite:///lab2_SQL.db\n",
      "Done.\n",
      "Done.\n",
      "Done.\n",
      "Done.\n",
      "Done.\n",
      "Done.\n",
      "0 rows affected.\n",
      "10 rows affected.\n",
      "0 rows affected.\n",
      "4 rows affected.\n",
      "0 rows affected.\n",
      "10 rows affected.\n"
     ]
    },
    {
     "output_type": "execute_result",
     "data": {
      "text/plain": [
       "[]"
      ]
     },
     "metadata": {},
     "execution_count": 23
    }
   ]
  },
  {
   "cell_type": "markdown",
   "source": [
    "### Exercise 1\n",
    "Find sailor names who’ve reserved all boats"
   ],
   "metadata": {
    "collapsed": false
   }
  },
  {
   "cell_type": "code",
   "source": [
    "%%sql\n",
    "\n"
   ],
   "metadata": {
    "colab": {
     "base_uri": "https://localhost:8080/",
     "height": 176
    },
    "id": "gJ-DkUIyQ8Cq",
    "outputId": "571008a0-580f-41fe-9dff-d9687a6d9d17"
   },
   "execution_count": null,
   "outputs": []
  },
  {
   "cell_type": "markdown",
   "source": [
    "### Exercise 2\n",
    "Find sailor names who've reserved all red boats\n"
   ],
   "metadata": {
    "id": "MWdnfg3zT531"
   }
  },
  {
   "cell_type": "code",
   "source": [
    "%%sql\n",
    "\n"
   ],
   "metadata": {
    "colab": {
     "base_uri": "https://localhost:8080/",
     "height": 176
    },
    "id": "dEgEV9uJUJSB",
    "outputId": "eadf5e27-1dbf-45bd-d006-f38f120e46bc"
   },
   "execution_count": null,
   "outputs": []
  },
  {
   "cell_type": "markdown",
   "metadata": {
    "id": "Gx4I6gRUDLbw"
   },
   "source": [
    "### Exercise 3"
   ]
  },
  {
   "cell_type": "markdown",
   "metadata": {
    "id": "eX_xNuMfDLbx"
   },
   "source": [
    "Write SQL declarations for creating the schemas of the following three tables. Include necessary key constraints.\n",
    "\n",
    "1. Employee(<u>eid</u>:integer, ename:string, age:integer, salary:real)\n",
    "\n",
    "2. Works(<u>eid</u>:integer, <u>did</u>:integer, pct_time:integer)\n",
    "\n",
    "3. Department(<u>did</u>:integer, dname:string, budge:real, managerid:integer)\n",
    "\n",
    "The keys are underlined in each relation. Relation **Employee** stores employee information such as unique identifier **eid**, employee name **ename**, **age** and **salary**. Relation **Department** stores the department unique identifier **did**, department name **dname**, the department **budget** and **managerid** which is the **eid** of the employee who is managing the department. The **managerid** value must always be found in the **eid** field of a record of the Employee relation. The Works relation tracks which\n",
    "employee works in which department, and what **percentage** of the time s/he allocates to that department. Note that, an employee can work in several departments."
   ]
  },
  {
   "cell_type": "code",
   "execution_count": null,
   "metadata": {
    "id": "b_gspMStDLbx"
   },
   "outputs": [],
   "source": [
    "%%sql\n",
    "\n",
    "drop table if exists Employee;\n",
    "drop table if exists Department;\n",
    "drop table if exists Works;\n",
    "\n",
    "-- your code goes below\n",
    "\n"
   ]
  },
  {
   "cell_type": "markdown",
   "metadata": {
    "id": "uDwQmAeoDLbx"
   },
   "source": [
    "### Insert values to tables\n",
    "Execute the cell below to insert values to the three tables.\n",
    "1. Employee\n",
    "\n",
    "| eid     | ename         | age | salary |  \n",
    "|---------|---------------|-----|--------|\n",
    "| 101     | Andrew Fuller | 40  | 50000  |\n",
    "| 102     | Justin Peacock| 25  | 20000  |\n",
    "| 103     | Nancy Buchanan| 35  | 30000  |\n",
    "| 104     | Robert King   | 30  | 20000  |\n",
    "\n",
    "2. Works:\n",
    "\n",
    "| eid     | did  | pct_time |\n",
    "|---------|------|----------|\n",
    "| 101     | 1001 | 100      |\n",
    "| 102     | 1001 | 20       |\n",
    "| 102     | 1002 | 50       |\n",
    "| 102     | 1003 | 10       |\n",
    "| 103     | 1003 | 90       |\n",
    "| 103     | 1001 | 10       |\n",
    "| 104     | 1001 | 20       |\n",
    "| 104     | 1002 | 70       |\n",
    "\n",
    "3. Department:\n",
    "\n",
    "| did     | dname    | budget  | managerid |\n",
    "|---------|----------|---------|-----------|\n",
    "| 1001    | IT       | 500000  | 101       |\n",
    "| 1002    | Computing| 750000  | 104       |\n",
    "| 1003    | Finance  | 350000  | 103       |\n",
    "\n",
    "\n"
   ]
  },
  {
   "cell_type": "code",
   "execution_count": null,
   "metadata": {
    "id": "xDD0fem7DLby"
   },
   "outputs": [],
   "source": [
    "%%sql\n",
    "DELETE FROM Employee;\n",
    "DELETE FROM Works;\n",
    "DELETE FROM Department;\n",
    "insert into Employee values ( 101,'Andrew Fuller', 40, 50000);\n",
    "insert into Employee values ( 102, 'Justin Peacock', 25, 20000);\n",
    "insert into Employee values ( 103, 'Nancy Buchanan', 35, 30000);\n",
    "insert into Employee values ( 104, 'Robert King', 30, 20000);\n",
    "\n",
    "insert into Department values (1001, 'IT', 500000, 101);\n",
    "insert into Department values (1002, 'Computing', 750000, 104);\n",
    "insert into Department values (1003, 'Finance', 350000, 103);\n",
    "\n",
    "insert into Works values (101, 1001, 100);\n",
    "insert into Works values (102, 1001, 20);\n",
    "insert into Works values (102, 1002, 50);\n",
    "insert into Works values (102, 1003, 10);\n",
    "insert into Works values (103, 1003, 90);\n",
    "insert into Works values (103, 1001, 10);\n",
    "insert into Works values (104, 1001, 20);\n",
    "insert into Works values (104, 1002, 70);"
   ]
  },
  {
   "cell_type": "markdown",
   "metadata": {
    "id": "w1QIkWW8DLbz"
   },
   "source": [
    "### Exercise 4\n",
    "Find the name of departments who employ only persons of age 30 or younger. List each name only once."
   ]
  },
  {
   "cell_type": "code",
   "execution_count": null,
   "metadata": {
    "id": "lV9yTw45DLbz"
   },
   "outputs": [],
   "source": [
    "%%sql\n",
    "\n",
    "\n"
   ]
  },
  {
   "cell_type": "markdown",
   "metadata": {
    "id": "zoQO9zX8DLbz"
   },
   "source": [
    "### Exercise 5\n",
    "Find the names of employees who work in all departments"
   ]
  },
  {
   "cell_type": "code",
   "execution_count": null,
   "metadata": {
    "id": "qd_tek3UDLbz"
   },
   "outputs": [],
   "source": [
    "%%sql\n",
    "\n",
    "\n",
    "\n"
   ]
  }
 ],
 "metadata": {
  "kernelspec": {
   "display_name": "Python 3",
   "language": "python",
   "name": "python3"
  },
  "language_info": {
   "codemirror_mode": {
    "name": "ipython",
    "version": 3
   },
   "file_extension": ".py",
   "mimetype": "text/x-python",
   "name": "python",
   "nbconvert_exporter": "python",
   "pygments_lexer": "ipython3",
   "version": "3.6.9"
  },
  "colab": {
   "provenance": [],
   "include_colab_link": true
  }
 },
 "nbformat": 4,
 "nbformat_minor": 0
}
