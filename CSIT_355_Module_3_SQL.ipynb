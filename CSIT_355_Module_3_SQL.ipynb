{
 "cells": [
  {
   "cell_type": "markdown",
   "metadata": {
    "id": "view-in-github",
    "colab_type": "text"
   },
   "source": [
    "<a href=\"https://colab.research.google.com/github/profliuhao/CSIT355/blob/main/CSIT_355_Module_3_and_4_SQL.ipynb\" target=\"_parent\"><img src=\"https://colab.research.google.com/assets/colab-badge.svg\" alt=\"Open In Colab\"/></a>"
   ]
  },
  {
   "cell_type": "markdown",
   "metadata": {
    "id": "L1sXM0-YDLbu"
   },
   "source": [
    "# Lab 2: SQL Queries\n",
    "\n",
    "### [name]\n",
    "### [student ID]"
   ]
  },
  {
   "cell_type": "markdown",
   "metadata": {
    "id": "VfXRexuHDLbv"
   },
   "source": [
    "## Instruction\n",
    "You need to finish all questions of both In-class exercise. Name your ipynb file as StudentName_lab2.ipynb and submit it on Canvas.\n",
    "\n",
    "PLEASE ENSURE THAT THE SCRIPT CAN CORRECTLY EXECUTE!!!"
   ]
  },
  {
   "cell_type": "code",
   "execution_count": null,
   "metadata": {
    "id": "H8xqFGQ-DLbw"
   },
   "outputs": [],
   "source": [
    "# Let's start with load the extension sql\n",
    "%load_ext sql\n",
    "\n",
    "# and then connect to a database **lab2_SQL.db** using:\n",
    "%sql sqlite:///lab2_SQL.db"
   ]
  },
  {
   "cell_type": "markdown",
   "source": [
    "## Examples in class\n"
   ],
   "metadata": {
    "id": "0YjJQrobK8ra"
   }
  },
  {
   "cell_type": "code",
   "source": [
    "%%sql\n",
    "DROP TABLE IF EXISTS Students;\n",
    "\n",
    "CREATE TABLE Students (\n",
    "  sid CHAR(20),\n",
    "  name CHAR(20),\n",
    "  login CHAR(10),\n",
    "  age INT,\n",
    "  gpa FLOAT\n",
    ");\n",
    "\n",
    "-- insert students values\n",
    "INSERT INTO Students (sid, name, login, age, gpa)\n",
    "VALUES\n",
    "  ('S001', 'John Doe', 'johnd', 22, 3.5),\n",
    "  ('S002', 'Jane Smith', 'janes', 20, 3.9),\n",
    "  ('S003', 'Bob Johnson', 'bobj', 21, 3.2),\n",
    "  ('S004', 'Alice Brown', 'aliceb', 23, 3.7),\n",
    "  ('S005', 'Eva Wilson', 'evaw', 19, 3.8);"
   ],
   "metadata": {
    "colab": {
     "base_uri": "https://localhost:8080/"
    },
    "id": "QQuHslWGHwuy",
    "outputId": "c3f287c9-a5ba-49f3-a907-806f2cf11859"
   },
   "execution_count": null,
   "outputs": [
    {
     "output_type": "stream",
     "name": "stdout",
     "text": [
      " * sqlite:///lab2_SQL.db\n",
      "Done.\n",
      "Done.\n",
      "(sqlite3.OperationalError) foreign key mismatch - \"Enrolled\" referencing \"Students\"\n",
      "[SQL: -- insert students values\n",
      "INSERT INTO Students (sid, name, login, age, gpa)\n",
      "VALUES\n",
      "  ('S001', 'John Doe', 'johnd', 22, 3.5),\n",
      "  ('S002', 'Jane Smith', 'janes', 20, 3.9),\n",
      "  ('S003', 'Bob Johnson', 'bobj', 21, 3.2),\n",
      "  ('S004', 'Alice Brown', 'aliceb', 23, 3.7),\n",
      "  ('S005', 'Eva Wilson', 'evaw', 19, 3.8);]\n",
      "(Background on this error at: https://sqlalche.me/e/20/e3q8)\n"
     ]
    }
   ]
  },
  {
   "cell_type": "code",
   "source": [
    "%%sql\n",
    "-- Create the Enrolled table\n",
    "DROP TABLE IF EXISTS Enrolled;\n",
    "\n",
    "CREATE TABLE Enrolled (\n",
    "  sid CHAR(20),\n",
    "  cid CHAR(20),\n",
    "  grade CHAR(2)\n",
    ");\n",
    "\n",
    "-- Insert fake data into the Enrolled table\n",
    "INSERT INTO Enrolled (sid, cid, grade)\n",
    "VALUES\n",
    "  ('S001', 'C001', 'A'),\n",
    "  ('S001', 'C002', 'B'),\n",
    "  ('S002', 'C001', 'B+'),\n",
    "  ('S003', 'C002', 'A-'),\n",
    "  ('S004', 'C001', 'A'),\n",
    "  ('S005', 'C003', 'B');\n",
    "\n",
    "\n"
   ],
   "metadata": {
    "colab": {
     "base_uri": "https://localhost:8080/"
    },
    "id": "0jSIybx0HlU3",
    "outputId": "362d8cdd-9e04-4a67-a8b1-942bbfee017b"
   },
   "execution_count": null,
   "outputs": [
    {
     "output_type": "stream",
     "name": "stdout",
     "text": [
      " * sqlite:///lab2_SQL.db\n",
      "Done.\n",
      "Done.\n",
      "6 rows affected.\n"
     ]
    },
    {
     "output_type": "execute_result",
     "data": {
      "text/plain": [
       "[]"
      ]
     },
     "metadata": {},
     "execution_count": 6
    }
   ]
  },
  {
   "cell_type": "code",
   "source": [
    "%%sql\n",
    "select * from students;\n"
   ],
   "metadata": {
    "colab": {
     "base_uri": "https://localhost:8080/",
     "height": 182
    },
    "id": "phRbNcXQH6ME",
    "outputId": "d594493d-a4a8-45a1-9a1a-3f70ac4da112"
   },
   "execution_count": null,
   "outputs": [
    {
     "output_type": "stream",
     "name": "stdout",
     "text": [
      " * sqlite:///lab2_SQL.db\n",
      "Done.\n"
     ]
    },
    {
     "output_type": "execute_result",
     "data": {
      "text/plain": [
       "[('S001', 'John Doe', 'johnd', 22, 3.5),\n",
       " ('S002', 'Jane Smith', 'janes', 20, 3.9),\n",
       " ('S003', 'Bob Johnson', 'bobj', 21, 3.2),\n",
       " ('S004', 'Alice Brown', 'aliceb', 23, 3.7),\n",
       " ('S005', 'Eva Wilson', 'evaw', 19, 3.8)]"
      ],
      "text/html": [
       "<table>\n",
       "    <thead>\n",
       "        <tr>\n",
       "            <th>sid</th>\n",
       "            <th>name</th>\n",
       "            <th>login</th>\n",
       "            <th>age</th>\n",
       "            <th>gpa</th>\n",
       "        </tr>\n",
       "    </thead>\n",
       "    <tbody>\n",
       "        <tr>\n",
       "            <td>S001</td>\n",
       "            <td>John Doe</td>\n",
       "            <td>johnd</td>\n",
       "            <td>22</td>\n",
       "            <td>3.5</td>\n",
       "        </tr>\n",
       "        <tr>\n",
       "            <td>S002</td>\n",
       "            <td>Jane Smith</td>\n",
       "            <td>janes</td>\n",
       "            <td>20</td>\n",
       "            <td>3.9</td>\n",
       "        </tr>\n",
       "        <tr>\n",
       "            <td>S003</td>\n",
       "            <td>Bob Johnson</td>\n",
       "            <td>bobj</td>\n",
       "            <td>21</td>\n",
       "            <td>3.2</td>\n",
       "        </tr>\n",
       "        <tr>\n",
       "            <td>S004</td>\n",
       "            <td>Alice Brown</td>\n",
       "            <td>aliceb</td>\n",
       "            <td>23</td>\n",
       "            <td>3.7</td>\n",
       "        </tr>\n",
       "        <tr>\n",
       "            <td>S005</td>\n",
       "            <td>Eva Wilson</td>\n",
       "            <td>evaw</td>\n",
       "            <td>19</td>\n",
       "            <td>3.8</td>\n",
       "        </tr>\n",
       "    </tbody>\n",
       "</table>"
      ]
     },
     "metadata": {},
     "execution_count": 7
    }
   ]
  },
  {
   "cell_type": "code",
   "source": [
    "%%sql\n",
    "ALTER TABLE students\n",
    "ADD firstYear INTEGER; -- DEFAULT 1;\n",
    "\n"
   ],
   "metadata": {
    "colab": {
     "base_uri": "https://localhost:8080/"
    },
    "id": "OKOWj9nvH-U9",
    "outputId": "c9a28200-d51f-4b4e-8595-d3e9cd5008b7"
   },
   "execution_count": null,
   "outputs": [
    {
     "output_type": "stream",
     "name": "stdout",
     "text": [
      " * sqlite:///lab2_SQL.db\n",
      "Done.\n"
     ]
    },
    {
     "output_type": "execute_result",
     "data": {
      "text/plain": [
       "[]"
      ]
     },
     "metadata": {},
     "execution_count": 8
    }
   ]
  },
  {
   "cell_type": "code",
   "source": [
    "%%sql\n",
    "select * from students;"
   ],
   "metadata": {
    "colab": {
     "base_uri": "https://localhost:8080/",
     "height": 182
    },
    "id": "owdihaJOIH-q",
    "outputId": "4bb39a8e-d95a-4e28-c526-208e5177841a"
   },
   "execution_count": null,
   "outputs": [
    {
     "output_type": "stream",
     "name": "stdout",
     "text": [
      " * sqlite:///lab2_SQL.db\n",
      "Done.\n"
     ]
    },
    {
     "output_type": "execute_result",
     "data": {
      "text/plain": [
       "[('S001', 'John Doe', 'johnd', 22, 3.5, None),\n",
       " ('S002', 'Jane Smith', 'janes', 20, 3.9, None),\n",
       " ('S003', 'Bob Johnson', 'bobj', 21, 3.2, None),\n",
       " ('S004', 'Alice Brown', 'aliceb', 23, 3.7, None),\n",
       " ('S005', 'Eva Wilson', 'evaw', 19, 3.8, None)]"
      ],
      "text/html": [
       "<table>\n",
       "    <thead>\n",
       "        <tr>\n",
       "            <th>sid</th>\n",
       "            <th>name</th>\n",
       "            <th>login</th>\n",
       "            <th>age</th>\n",
       "            <th>gpa</th>\n",
       "            <th>firstYear</th>\n",
       "        </tr>\n",
       "    </thead>\n",
       "    <tbody>\n",
       "        <tr>\n",
       "            <td>S001</td>\n",
       "            <td>John Doe</td>\n",
       "            <td>johnd</td>\n",
       "            <td>22</td>\n",
       "            <td>3.5</td>\n",
       "            <td>None</td>\n",
       "        </tr>\n",
       "        <tr>\n",
       "            <td>S002</td>\n",
       "            <td>Jane Smith</td>\n",
       "            <td>janes</td>\n",
       "            <td>20</td>\n",
       "            <td>3.9</td>\n",
       "            <td>None</td>\n",
       "        </tr>\n",
       "        <tr>\n",
       "            <td>S003</td>\n",
       "            <td>Bob Johnson</td>\n",
       "            <td>bobj</td>\n",
       "            <td>21</td>\n",
       "            <td>3.2</td>\n",
       "            <td>None</td>\n",
       "        </tr>\n",
       "        <tr>\n",
       "            <td>S004</td>\n",
       "            <td>Alice Brown</td>\n",
       "            <td>aliceb</td>\n",
       "            <td>23</td>\n",
       "            <td>3.7</td>\n",
       "            <td>None</td>\n",
       "        </tr>\n",
       "        <tr>\n",
       "            <td>S005</td>\n",
       "            <td>Eva Wilson</td>\n",
       "            <td>evaw</td>\n",
       "            <td>19</td>\n",
       "            <td>3.8</td>\n",
       "            <td>None</td>\n",
       "        </tr>\n",
       "    </tbody>\n",
       "</table>"
      ]
     },
     "metadata": {},
     "execution_count": 9
    }
   ]
  },
  {
   "cell_type": "code",
   "source": [
    "%%sql\n",
    "ALTER TABLE students\n",
    "DROP COLUMN firstYear;"
   ],
   "metadata": {
    "colab": {
     "base_uri": "https://localhost:8080/"
    },
    "id": "v787RAV2IH1w",
    "outputId": "3b32d220-2b2f-44cd-f266-d03ce423d6db"
   },
   "execution_count": null,
   "outputs": [
    {
     "output_type": "stream",
     "name": "stdout",
     "text": [
      " * sqlite:///lab2_SQL.db\n",
      "Done.\n"
     ]
    },
    {
     "output_type": "execute_result",
     "data": {
      "text/plain": [
       "[]"
      ]
     },
     "metadata": {},
     "execution_count": 10
    }
   ]
  },
  {
   "cell_type": "code",
   "source": [
    "%%sql\n",
    "select * from students;"
   ],
   "metadata": {
    "colab": {
     "base_uri": "https://localhost:8080/",
     "height": 182
    },
    "id": "f6mY-rxfIOMp",
    "outputId": "05320740-cf0e-4987-8a81-6d2c83f92f18"
   },
   "execution_count": null,
   "outputs": [
    {
     "output_type": "stream",
     "name": "stdout",
     "text": [
      " * sqlite:///lab2_SQL.db\n",
      "Done.\n"
     ]
    },
    {
     "output_type": "execute_result",
     "data": {
      "text/plain": [
       "[('S001', 'John Doe', 'johnd', 22, 3.5),\n",
       " ('S002', 'Jane Smith', 'janes', 20, 3.9),\n",
       " ('S003', 'Bob Johnson', 'bobj', 21, 3.2),\n",
       " ('S004', 'Alice Brown', 'aliceb', 23, 3.7),\n",
       " ('S005', 'Eva Wilson', 'evaw', 19, 3.8)]"
      ],
      "text/html": [
       "<table>\n",
       "    <thead>\n",
       "        <tr>\n",
       "            <th>sid</th>\n",
       "            <th>name</th>\n",
       "            <th>login</th>\n",
       "            <th>age</th>\n",
       "            <th>gpa</th>\n",
       "        </tr>\n",
       "    </thead>\n",
       "    <tbody>\n",
       "        <tr>\n",
       "            <td>S001</td>\n",
       "            <td>John Doe</td>\n",
       "            <td>johnd</td>\n",
       "            <td>22</td>\n",
       "            <td>3.5</td>\n",
       "        </tr>\n",
       "        <tr>\n",
       "            <td>S002</td>\n",
       "            <td>Jane Smith</td>\n",
       "            <td>janes</td>\n",
       "            <td>20</td>\n",
       "            <td>3.9</td>\n",
       "        </tr>\n",
       "        <tr>\n",
       "            <td>S003</td>\n",
       "            <td>Bob Johnson</td>\n",
       "            <td>bobj</td>\n",
       "            <td>21</td>\n",
       "            <td>3.2</td>\n",
       "        </tr>\n",
       "        <tr>\n",
       "            <td>S004</td>\n",
       "            <td>Alice Brown</td>\n",
       "            <td>aliceb</td>\n",
       "            <td>23</td>\n",
       "            <td>3.7</td>\n",
       "        </tr>\n",
       "        <tr>\n",
       "            <td>S005</td>\n",
       "            <td>Eva Wilson</td>\n",
       "            <td>evaw</td>\n",
       "            <td>19</td>\n",
       "            <td>3.8</td>\n",
       "        </tr>\n",
       "    </tbody>\n",
       "</table>"
      ]
     },
     "metadata": {},
     "execution_count": 11
    }
   ]
  },
  {
   "cell_type": "code",
   "source": [
    "%%sql\n",
    "-- Create the Enrolled table\n",
    "DROP TABLE IF EXISTS Enrolled;\n",
    "\n",
    "CREATE TABLE Enrolled (\n",
    "sid CHAR(20),\n",
    "cid CHAR(20),\n",
    "grade CHAR (2),\n",
    "PRIMARY KEY (sid, cid))"
   ],
   "metadata": {
    "colab": {
     "base_uri": "https://localhost:8080/"
    },
    "id": "J6GBIHQ-HXPd",
    "outputId": "eb37dca4-8aab-49fe-84d3-8c0906d30d6e"
   },
   "execution_count": null,
   "outputs": [
    {
     "output_type": "stream",
     "name": "stdout",
     "text": [
      " * sqlite:///lab2_SQL.db\n",
      "Done.\n"
     ]
    },
    {
     "output_type": "execute_result",
     "data": {
      "text/plain": [
       "[]"
      ]
     },
     "metadata": {},
     "execution_count": 2
    }
   ]
  },
  {
   "cell_type": "code",
   "source": [
    "%%sql\n",
    "-- Create the Enrolled table\n",
    "DROP TABLE IF EXISTS Enrolled;\n",
    "\n",
    "CREATE TABLE Enrolled (\n",
    "sid CHAR(20) PRIMARY KEY,\n",
    "cid CHAR(20),\n",
    "grade CHAR (2),\n",
    "UNIQUE (cid, grade))"
   ],
   "metadata": {
    "colab": {
     "base_uri": "https://localhost:8080/"
    },
    "id": "4wnxxytdISHr",
    "outputId": "9972a04a-4f2d-4b34-b60a-34ff6ad2961a"
   },
   "execution_count": null,
   "outputs": [
    {
     "output_type": "stream",
     "name": "stdout",
     "text": [
      " * sqlite:///lab2_SQL.db\n",
      "(sqlite3.OperationalError) table Enrolled already exists\n",
      "[SQL: CREATE TABLE Enrolled (\n",
      "sid CHAR(20) PRIMARY KEY,\n",
      "cid CHAR(20),\n",
      "grade CHAR (2),\n",
      "UNIQUE (cid, grade))]\n",
      "(Background on this error at: https://sqlalche.me/e/20/e3q8)\n"
     ]
    }
   ]
  },
  {
   "cell_type": "markdown",
   "source": [
    "### Foreign key demo"
   ],
   "metadata": {
    "id": "pNangEJFMoFc"
   }
  },
  {
   "cell_type": "code",
   "source": [
    "%%sql\n",
    "DROP TABLE IF EXISTS Students;\n",
    "\n",
    "CREATE TABLE Students (\n",
    "  sid CHAR(20) PRIMARY KEY,\n",
    "  name CHAR(20),\n",
    "  login CHAR(10),\n",
    "  age INT,\n",
    "  gpa FLOAT\n",
    ");\n",
    "\n",
    "-- insert students values\n",
    "INSERT INTO Students (sid, name, login, age, gpa)\n",
    "VALUES\n",
    "  ('S001', 'John Doe', 'johnd', 22, 3.5),\n",
    "  ('S002', 'Jane Smith', 'janes', 20, 3.9),\n",
    "  ('S003', 'Bob Johnson', 'bobj', 21, 3.2),\n",
    "  ('S004', 'Alice Brown', 'aliceb', 23, 3.7),\n",
    "  ('S005', 'Eva Wilson', 'evaw', 19, 3.8);"
   ],
   "metadata": {
    "colab": {
     "base_uri": "https://localhost:8080/"
    },
    "id": "RdpFZXCYMmjv",
    "outputId": "ce2205ce-03b5-4065-b527-57f7c74ca213"
   },
   "execution_count": null,
   "outputs": [
    {
     "output_type": "stream",
     "name": "stdout",
     "text": [
      " * sqlite:///lab2_SQL.db\n",
      "Done.\n",
      "Done.\n",
      "5 rows affected.\n"
     ]
    },
    {
     "output_type": "execute_result",
     "data": {
      "text/plain": [
       "[]"
      ]
     },
     "metadata": {},
     "execution_count": 47
    }
   ]
  },
  {
   "cell_type": "code",
   "source": [
    "%%sql\n",
    "-- Create the Enrolled table\n",
    "DROP TABLE IF EXISTS Enrolled;\n",
    "\n",
    "CREATE TABLE Enrolled(\n",
    "student_id CHAR(20),\n",
    "cid CHAR(20),\n",
    "grade CHAR(10),\n",
    "PRIMARY KEY (student_id, cid),\n",
    "FOREIGN KEY (student_id) REFERENCES Students(sid)\n",
    ")\n",
    "\n"
   ],
   "metadata": {
    "colab": {
     "base_uri": "https://localhost:8080/"
    },
    "id": "yRZZTbrLJXxu",
    "outputId": "9a077c41-c93e-42c2-b0c8-30981a8d4274"
   },
   "execution_count": null,
   "outputs": [
    {
     "output_type": "stream",
     "name": "stdout",
     "text": [
      " * sqlite:///lab2_SQL.db\n",
      "Done.\n",
      "Done.\n"
     ]
    },
    {
     "output_type": "execute_result",
     "data": {
      "text/plain": [
       "[]"
      ]
     },
     "metadata": {},
     "execution_count": 48
    }
   ]
  },
  {
   "cell_type": "code",
   "source": [
    "%%sql\n",
    "PRAGMA foreign_keys = ON;\n",
    "PRAGMA table_info([Enrolled]);\n"
   ],
   "metadata": {
    "colab": {
     "base_uri": "https://localhost:8080/",
     "height": 157
    },
    "id": "V_oRmVjdKpZ0",
    "outputId": "d15a8bc0-bc02-415b-b8a3-018e5981eb42"
   },
   "execution_count": null,
   "outputs": [
    {
     "output_type": "stream",
     "name": "stdout",
     "text": [
      " * sqlite:///lab2_SQL.db\n",
      "Done.\n",
      "Done.\n"
     ]
    },
    {
     "output_type": "execute_result",
     "data": {
      "text/plain": [
       "[(0, 'student_id', 'CHAR(20)', 0, None, 1),\n",
       " (1, 'cid', 'CHAR(20)', 0, None, 2),\n",
       " (2, 'grade', 'CHAR(10)', 0, None, 0)]"
      ],
      "text/html": [
       "<table>\n",
       "    <thead>\n",
       "        <tr>\n",
       "            <th>cid</th>\n",
       "            <th>name</th>\n",
       "            <th>type</th>\n",
       "            <th>notnull</th>\n",
       "            <th>dflt_value</th>\n",
       "            <th>pk</th>\n",
       "        </tr>\n",
       "    </thead>\n",
       "    <tbody>\n",
       "        <tr>\n",
       "            <td>0</td>\n",
       "            <td>student_id</td>\n",
       "            <td>CHAR(20)</td>\n",
       "            <td>0</td>\n",
       "            <td>None</td>\n",
       "            <td>1</td>\n",
       "        </tr>\n",
       "        <tr>\n",
       "            <td>1</td>\n",
       "            <td>cid</td>\n",
       "            <td>CHAR(20)</td>\n",
       "            <td>0</td>\n",
       "            <td>None</td>\n",
       "            <td>2</td>\n",
       "        </tr>\n",
       "        <tr>\n",
       "            <td>2</td>\n",
       "            <td>grade</td>\n",
       "            <td>CHAR(10)</td>\n",
       "            <td>0</td>\n",
       "            <td>None</td>\n",
       "            <td>0</td>\n",
       "        </tr>\n",
       "    </tbody>\n",
       "</table>"
      ]
     },
     "metadata": {},
     "execution_count": 49
    }
   ]
  },
  {
   "cell_type": "code",
   "source": [
    "%%sql\n",
    "select * from Students;"
   ],
   "metadata": {
    "colab": {
     "base_uri": "https://localhost:8080/",
     "height": 182
    },
    "id": "K2po9ILVJfId",
    "outputId": "ca1c9683-fbf9-4d29-b29c-53a2f5e0e9ad"
   },
   "execution_count": null,
   "outputs": [
    {
     "output_type": "stream",
     "name": "stdout",
     "text": [
      " * sqlite:///lab2_SQL.db\n",
      "Done.\n"
     ]
    },
    {
     "output_type": "execute_result",
     "data": {
      "text/plain": [
       "[('S001', 'John Doe', 'johnd', 22, 3.5),\n",
       " ('S002', 'Jane Smith', 'janes', 20, 3.9),\n",
       " ('S003', 'Bob Johnson', 'bobj', 21, 3.2),\n",
       " ('S004', 'Alice Brown', 'aliceb', 23, 3.7),\n",
       " ('S005', 'Eva Wilson', 'evaw', 19, 3.8)]"
      ],
      "text/html": [
       "<table>\n",
       "    <thead>\n",
       "        <tr>\n",
       "            <th>sid</th>\n",
       "            <th>name</th>\n",
       "            <th>login</th>\n",
       "            <th>age</th>\n",
       "            <th>gpa</th>\n",
       "        </tr>\n",
       "    </thead>\n",
       "    <tbody>\n",
       "        <tr>\n",
       "            <td>S001</td>\n",
       "            <td>John Doe</td>\n",
       "            <td>johnd</td>\n",
       "            <td>22</td>\n",
       "            <td>3.5</td>\n",
       "        </tr>\n",
       "        <tr>\n",
       "            <td>S002</td>\n",
       "            <td>Jane Smith</td>\n",
       "            <td>janes</td>\n",
       "            <td>20</td>\n",
       "            <td>3.9</td>\n",
       "        </tr>\n",
       "        <tr>\n",
       "            <td>S003</td>\n",
       "            <td>Bob Johnson</td>\n",
       "            <td>bobj</td>\n",
       "            <td>21</td>\n",
       "            <td>3.2</td>\n",
       "        </tr>\n",
       "        <tr>\n",
       "            <td>S004</td>\n",
       "            <td>Alice Brown</td>\n",
       "            <td>aliceb</td>\n",
       "            <td>23</td>\n",
       "            <td>3.7</td>\n",
       "        </tr>\n",
       "        <tr>\n",
       "            <td>S005</td>\n",
       "            <td>Eva Wilson</td>\n",
       "            <td>evaw</td>\n",
       "            <td>19</td>\n",
       "            <td>3.8</td>\n",
       "        </tr>\n",
       "    </tbody>\n",
       "</table>"
      ]
     },
     "metadata": {},
     "execution_count": 50
    }
   ]
  },
  {
   "cell_type": "code",
   "source": [
    "%%sql\n",
    "insert into Enrolled values ('S002', 'C123', 'A+');"
   ],
   "metadata": {
    "colab": {
     "base_uri": "https://localhost:8080/"
    },
    "id": "cHjEsLZaJ0um",
    "outputId": "3b1ac096-6ac6-4569-b566-0a80c0259f6a"
   },
   "execution_count": null,
   "outputs": [
    {
     "output_type": "stream",
     "name": "stdout",
     "text": [
      " * sqlite:///lab2_SQL.db\n",
      "1 rows affected.\n"
     ]
    },
    {
     "output_type": "execute_result",
     "data": {
      "text/plain": [
       "[]"
      ]
     },
     "metadata": {},
     "execution_count": 51
    }
   ]
  },
  {
   "cell_type": "code",
   "source": [
    "%%sql\n",
    "-- Insert a record into Enrolled with an invalid sid value\n",
    "INSERT INTO Enrolled (student_id, cid, grade)\n",
    "VALUES ('S006', 'C004', 'B');\n"
   ],
   "metadata": {
    "colab": {
     "base_uri": "https://localhost:8080/"
    },
    "id": "hwIVJK6uJkR8",
    "outputId": "d316181b-4e52-4b0c-c967-1307bf7b0bf7"
   },
   "execution_count": null,
   "outputs": [
    {
     "output_type": "stream",
     "name": "stdout",
     "text": [
      " * sqlite:///lab2_SQL.db\n",
      "(sqlite3.IntegrityError) FOREIGN KEY constraint failed\n",
      "[SQL: -- Insert a record into Enrolled with an invalid sid value\n",
      "INSERT INTO Enrolled (student_id, cid, grade)\n",
      "VALUES ('S006', 'C004', 'B');]\n",
      "(Background on this error at: https://sqlalche.me/e/20/gkpj)\n"
     ]
    }
   ]
  },
  {
   "cell_type": "code",
   "source": [
    "%%sql\n",
    "select * from Enrolled;"
   ],
   "metadata": {
    "colab": {
     "base_uri": "https://localhost:8080/",
     "height": 96
    },
    "id": "mtlaM1OIKA0k",
    "outputId": "04d55e4d-f91c-4a6c-ffa7-b68dc0f50b86"
   },
   "execution_count": null,
   "outputs": [
    {
     "output_type": "stream",
     "name": "stdout",
     "text": [
      " * sqlite:///lab2_SQL.db\n",
      "Done.\n"
     ]
    },
    {
     "output_type": "execute_result",
     "data": {
      "text/plain": [
       "[('S002', 'C123', 'A+')]"
      ],
      "text/html": [
       "<table>\n",
       "    <thead>\n",
       "        <tr>\n",
       "            <th>student_id</th>\n",
       "            <th>cid</th>\n",
       "            <th>grade</th>\n",
       "        </tr>\n",
       "    </thead>\n",
       "    <tbody>\n",
       "        <tr>\n",
       "            <td>S002</td>\n",
       "            <td>C123</td>\n",
       "            <td>A+</td>\n",
       "        </tr>\n",
       "    </tbody>\n",
       "</table>"
      ]
     },
     "metadata": {},
     "execution_count": 53
    }
   ]
  },
  {
   "cell_type": "markdown",
   "source": [
    "### Exercise 1\n",
    "create a table named company with columns [cname, stock, country]"
   ],
   "metadata": {
    "id": "IO_fxQQSQj0r"
   }
  },
  {
   "cell_type": "code",
   "source": [
    "%%sql\n",
    "drop table if exists company;\n",
    "create table company(\n",
    "  cname varchar primary key,\n",
    "  stock integer,\n",
    "  country varchar\n",
    ");\n",
    "insert into company values('GWorks', 25, 'USA');\n",
    "insert into company values('Canon', 65, 'Japan');\n",
    "insert into company values('Hitachi', 15, 'Japan');"
   ],
   "metadata": {
    "colab": {
     "base_uri": "https://localhost:8080/"
    },
    "id": "8RGbTcAtLEHL",
    "outputId": "87fad873-02b2-4585-831a-c6f05f6c95dd"
   },
   "execution_count": null,
   "outputs": [
    {
     "output_type": "stream",
     "name": "stdout",
     "text": [
      " * sqlite:///lab2_SQL.db\n",
      "Done.\n",
      "Done.\n",
      "1 rows affected.\n",
      "1 rows affected.\n",
      "1 rows affected.\n"
     ]
    },
    {
     "output_type": "execute_result",
     "data": {
      "text/plain": [
       "[]"
      ]
     },
     "metadata": {},
     "execution_count": 2
    }
   ]
  },
  {
   "cell_type": "markdown",
   "source": [
    "### Exercise 2\n",
    "Find all products under $200 manufactured in Japan, and return their names and prices.\n"
   ],
   "metadata": {
    "id": "VuUH8vUBQtDd"
   }
  },
  {
   "cell_type": "code",
   "source": [
    "## Create the \"Products\" table\n",
    "%%sql\n",
    "drop table if exists Product;\n",
    "create table Product (\n",
    "    PName varchar,\n",
    "    Price decimal(8, 2),\n",
    "    Category varchar,\n",
    "    Manufacturer varchar\n",
    ");\n",
    "insert into Product values ('Gizmo', 19.99, 'Gadgets', 'GWorks');\n",
    "insert into Product values ('Powergizmo', 29.99, 'Gadgets', 'GWorks');\n",
    "insert into Product values ('SingleTouch', 149.99, 'Photography', 'Canon');\n",
    "insert into Product values ('MultiTouch', 203.99, 'Household', 'Hitachi');"
   ],
   "metadata": {
    "colab": {
     "base_uri": "https://localhost:8080/"
    },
    "id": "gIYzdlUeLEAR",
    "outputId": "8b70f269-b177-4d01-94f1-aa3cce455b63"
   },
   "execution_count": null,
   "outputs": [
    {
     "output_type": "stream",
     "name": "stdout",
     "text": [
      " * sqlite:///lab2_SQL.db\n",
      "Done.\n",
      "Done.\n",
      "1 rows affected.\n",
      "1 rows affected.\n",
      "1 rows affected.\n",
      "1 rows affected.\n"
     ]
    },
    {
     "output_type": "execute_result",
     "data": {
      "text/plain": [
       "[]"
      ]
     },
     "metadata": {},
     "execution_count": 8
    }
   ]
  },
  {
   "cell_type": "code",
   "source": [
    "%%sql\n",
    "SELECT PName, price\n",
    "FROM   Product, company\n",
    "WHERE  Manufacturer = cname\n",
    "        AND country='Japan'\n",
    "         AND price <= 200\n"
   ],
   "metadata": {
    "colab": {
     "base_uri": "https://localhost:8080/",
     "height": 96
    },
    "id": "hsJmmG4uLD1V",
    "outputId": "4fbf3791-7418-410b-c882-f2665ce28781"
   },
   "execution_count": null,
   "outputs": [
    {
     "output_type": "stream",
     "name": "stdout",
     "text": [
      " * sqlite:///lab2_SQL.db\n",
      "Done.\n"
     ]
    },
    {
     "output_type": "execute_result",
     "data": {
      "text/plain": [
       "[('SingleTouch', 149.99)]"
      ],
      "text/html": [
       "<table>\n",
       "    <thead>\n",
       "        <tr>\n",
       "            <th>PName</th>\n",
       "            <th>Price</th>\n",
       "        </tr>\n",
       "    </thead>\n",
       "    <tbody>\n",
       "        <tr>\n",
       "            <td>SingleTouch</td>\n",
       "            <td>149.99</td>\n",
       "        </tr>\n",
       "    </tbody>\n",
       "</table>"
      ]
     },
     "metadata": {},
     "execution_count": 11
    }
   ]
  },
  {
   "cell_type": "markdown",
   "source": [
    "### Exercise 3\n",
    "Find sailor ids who’ve reserved a red or a green boat; list each matching sailor id once"
   ],
   "metadata": {
    "id": "Y8Y-bHxvQWWk"
   }
  },
  {
   "cell_type": "code",
   "source": [
    "%%sql\n",
    "-- Create the \"Sailors\" table\n",
    "drop table if exists Sailors;\n",
    "drop table if exists Reserves;\n",
    "drop table if exists Boats;\n",
    "CREATE TABLE Sailors (\n",
    "    sid int PRIMARY KEY,\n",
    "    sname VARCHAR,\n",
    "    rating int,\n",
    "    age real\n",
    ");\n",
    "\n",
    "-- Create the \"Reserves\" table\n",
    "CREATE TABLE Reserves (\n",
    "    sid int,\n",
    "    bid int,\n",
    "    day DATE,\n",
    "    PRIMARY KEY (sid, bid),\n",
    "    FOREIGN KEY (sid) REFERENCES Sailors(sid),\n",
    "    FOREIGN KEY (bid) REFERENCES Boats(bid)\n",
    ");\n",
    "\n",
    "-- Create the \"Boats\" table\n",
    "CREATE TABLE Boats (\n",
    "    bid int PRIMARY KEY,\n",
    "    name VARCHAR,\n",
    "    color VARCHAR\n",
    ");\n",
    "\n",
    "-- Insert rows into the \"Sailors\" table\n",
    "delete from Sailors;\n",
    "INSERT INTO Sailors (sid, sname, rating, age) VALUES\n",
    "    (22, 'Dustin', 7, 45),\n",
    "    (29, 'Brutus', 1, 33),\n",
    "    (31, 'Lubber', 8, 55.5),\n",
    "    (32, 'Andy', 8, 25.5),\n",
    "    (58, 'Rusty', 10, 35),\n",
    "    (64, 'Horatio', 7, 35),\n",
    "    (71, 'Zorba', 10, 16),\n",
    "    (74, 'Horatio', 9, 35),\n",
    "    (85, 'Art', 3, 25.5),\n",
    "    (95, 'Bob', 3, 63.5);\n",
    "\n",
    "-- Insert rows into the \"Boats\" table\n",
    "delete from Boats;\n",
    "INSERT INTO Boats (bid, name, color) VALUES\n",
    "    (101, 'Interlake', 'blue'),\n",
    "    (102, 'Interlake', 'red'),\n",
    "    (103, 'Clipper', 'green'),\n",
    "    (104, 'Marine', 'red');\n",
    "\n",
    "-- Insert rows into the \"Reserves\" table\n",
    "delete from Reserves;\n",
    "INSERT INTO Reserves (sid, bid, day) VALUES\n",
    "    (22, 101, '10/10/98'),\n",
    "    (22, 102, '10/11/98'),\n",
    "    (22, 103, '10/8/98'),\n",
    "    (22, 104, '10/7/98'),\n",
    "    (31, 102, '11/10/98'),\n",
    "    (31, 103, '10/6/98'),\n",
    "    (31, 104, '11/12/98'),\n",
    "    (64, 101, '9/5/98'),\n",
    "    (64, 102, '9/8/98'),\n",
    "    (74, 103, '9/8/98');\n",
    "\n"
   ],
   "metadata": {
    "colab": {
     "base_uri": "https://localhost:8080/"
    },
    "id": "e5AUxYtFQWM9",
    "outputId": "f5eb201a-292b-48eb-a651-3c3589caeba3"
   },
   "execution_count": null,
   "outputs": [
    {
     "output_type": "stream",
     "name": "stdout",
     "text": [
      "   sqlite:///class6.db\n",
      " * sqlite:///lab2_SQL.db\n",
      "Done.\n",
      "Done.\n",
      "Done.\n",
      "Done.\n",
      "Done.\n",
      "Done.\n",
      "0 rows affected.\n",
      "10 rows affected.\n",
      "0 rows affected.\n",
      "4 rows affected.\n",
      "0 rows affected.\n",
      "10 rows affected.\n"
     ]
    },
    {
     "output_type": "execute_result",
     "data": {
      "text/plain": [
       "[]"
      ]
     },
     "metadata": {},
     "execution_count": 23
    }
   ]
  },
  {
   "cell_type": "code",
   "source": [
    "%%sql\n",
    "select distinct R.sid\n",
    "From Reserves R, Boats B\n",
    "where R.bid = B.bid\n",
    "and (B.color='red' or B.color ='green')"
   ],
   "metadata": {
    "colab": {
     "base_uri": "https://localhost:8080/",
     "height": 176
    },
    "id": "gJ-DkUIyQ8Cq",
    "outputId": "571008a0-580f-41fe-9dff-d9687a6d9d17"
   },
   "execution_count": null,
   "outputs": [
    {
     "output_type": "stream",
     "name": "stdout",
     "text": [
      "   sqlite:///class6.db\n",
      " * sqlite:///lab2_SQL.db\n",
      "Done.\n"
     ]
    },
    {
     "output_type": "execute_result",
     "data": {
      "text/plain": [
       "[(22,), (31,), (64,), (74,)]"
      ],
      "text/html": [
       "<table>\n",
       "    <thead>\n",
       "        <tr>\n",
       "            <th>sid</th>\n",
       "        </tr>\n",
       "    </thead>\n",
       "    <tbody>\n",
       "        <tr>\n",
       "            <td>22</td>\n",
       "        </tr>\n",
       "        <tr>\n",
       "            <td>31</td>\n",
       "        </tr>\n",
       "        <tr>\n",
       "            <td>64</td>\n",
       "        </tr>\n",
       "        <tr>\n",
       "            <td>74</td>\n",
       "        </tr>\n",
       "    </tbody>\n",
       "</table>"
      ]
     },
     "metadata": {},
     "execution_count": 24
    }
   ]
  },
  {
   "cell_type": "markdown",
   "source": [
    "### Exercise 4\n",
    "Find sailor ids who’ve reserved a red and a green boat\n"
   ],
   "metadata": {
    "id": "MWdnfg3zT531"
   }
  },
  {
   "cell_type": "code",
   "source": [
    "%%sql\n",
    "select S.sid\n",
    "From Sailors S, Boats B1, Reserves R1, Boats B2, Reserves R2\n",
    "Where S.sid = R1.sid and R1.bid = B1.bid\n",
    "and S.sid = R2.sid and R2.bid=B2.bid\n",
    "and (B1.color='red' and B2.color = 'green')"
   ],
   "metadata": {
    "colab": {
     "base_uri": "https://localhost:8080/",
     "height": 176
    },
    "id": "dEgEV9uJUJSB",
    "outputId": "eadf5e27-1dbf-45bd-d006-f38f120e46bc"
   },
   "execution_count": null,
   "outputs": [
    {
     "output_type": "stream",
     "name": "stdout",
     "text": [
      "   sqlite:///class6.db\n",
      " * sqlite:///lab2_SQL.db\n",
      "Done.\n"
     ]
    },
    {
     "output_type": "execute_result",
     "data": {
      "text/plain": [
       "[(22,), (22,), (31,), (31,)]"
      ],
      "text/html": [
       "<table>\n",
       "    <thead>\n",
       "        <tr>\n",
       "            <th>sid</th>\n",
       "        </tr>\n",
       "    </thead>\n",
       "    <tbody>\n",
       "        <tr>\n",
       "            <td>22</td>\n",
       "        </tr>\n",
       "        <tr>\n",
       "            <td>22</td>\n",
       "        </tr>\n",
       "        <tr>\n",
       "            <td>31</td>\n",
       "        </tr>\n",
       "        <tr>\n",
       "            <td>31</td>\n",
       "        </tr>\n",
       "    </tbody>\n",
       "</table>"
      ]
     },
     "metadata": {},
     "execution_count": 31
    }
   ]
  },
  {
   "cell_type": "code",
   "source": [
    "%%sql\n",
    "select * from Boats\n",
    "where color='red' or color='green';"
   ],
   "metadata": {
    "colab": {
     "base_uri": "https://localhost:8080/",
     "height": 155
    },
    "id": "G5pTL2JiiVw8",
    "outputId": "fd37c236-8162-4604-f62b-6d8b81d3ba16"
   },
   "execution_count": null,
   "outputs": [
    {
     "output_type": "stream",
     "name": "stdout",
     "text": [
      "   sqlite:///class6.db\n",
      " * sqlite:///lab2_SQL.db\n",
      "Done.\n"
     ]
    },
    {
     "output_type": "execute_result",
     "data": {
      "text/plain": [
       "[(102, 'Interlake', 'red'), (103, 'Clipper', 'green'), (104, 'Marine', 'red')]"
      ],
      "text/html": [
       "<table>\n",
       "    <thead>\n",
       "        <tr>\n",
       "            <th>bid</th>\n",
       "            <th>name</th>\n",
       "            <th>color</th>\n",
       "        </tr>\n",
       "    </thead>\n",
       "    <tbody>\n",
       "        <tr>\n",
       "            <td>102</td>\n",
       "            <td>Interlake</td>\n",
       "            <td>red</td>\n",
       "        </tr>\n",
       "        <tr>\n",
       "            <td>103</td>\n",
       "            <td>Clipper</td>\n",
       "            <td>green</td>\n",
       "        </tr>\n",
       "        <tr>\n",
       "            <td>104</td>\n",
       "            <td>Marine</td>\n",
       "            <td>red</td>\n",
       "        </tr>\n",
       "    </tbody>\n",
       "</table>"
      ]
     },
     "metadata": {},
     "execution_count": 27
    }
   ]
  },
  {
   "cell_type": "code",
   "source": [
    "%%sql\n",
    "select * from Reserves\n",
    "where bid = 102 or bid=103 or bid=104;"
   ],
   "metadata": {
    "colab": {
     "base_uri": "https://localhost:8080/",
     "height": 260
    },
    "id": "-eYgADjEiqa7",
    "outputId": "85f4ee93-b53e-4860-b680-5b01b53930bc"
   },
   "execution_count": null,
   "outputs": [
    {
     "output_type": "stream",
     "name": "stdout",
     "text": [
      "   sqlite:///class6.db\n",
      " * sqlite:///lab2_SQL.db\n",
      "Done.\n"
     ]
    },
    {
     "output_type": "execute_result",
     "data": {
      "text/plain": [
       "[(22, 102, '10/11/98'),\n",
       " (22, 103, '10/8/98'),\n",
       " (22, 104, '10/7/98'),\n",
       " (31, 102, '11/10/98'),\n",
       " (31, 103, '10/6/98'),\n",
       " (31, 104, '11/12/98'),\n",
       " (64, 102, '9/8/98'),\n",
       " (74, 103, '9/8/98')]"
      ],
      "text/html": [
       "<table>\n",
       "    <thead>\n",
       "        <tr>\n",
       "            <th>sid</th>\n",
       "            <th>bid</th>\n",
       "            <th>day</th>\n",
       "        </tr>\n",
       "    </thead>\n",
       "    <tbody>\n",
       "        <tr>\n",
       "            <td>22</td>\n",
       "            <td>102</td>\n",
       "            <td>10/11/98</td>\n",
       "        </tr>\n",
       "        <tr>\n",
       "            <td>22</td>\n",
       "            <td>103</td>\n",
       "            <td>10/8/98</td>\n",
       "        </tr>\n",
       "        <tr>\n",
       "            <td>22</td>\n",
       "            <td>104</td>\n",
       "            <td>10/7/98</td>\n",
       "        </tr>\n",
       "        <tr>\n",
       "            <td>31</td>\n",
       "            <td>102</td>\n",
       "            <td>11/10/98</td>\n",
       "        </tr>\n",
       "        <tr>\n",
       "            <td>31</td>\n",
       "            <td>103</td>\n",
       "            <td>10/6/98</td>\n",
       "        </tr>\n",
       "        <tr>\n",
       "            <td>31</td>\n",
       "            <td>104</td>\n",
       "            <td>11/12/98</td>\n",
       "        </tr>\n",
       "        <tr>\n",
       "            <td>64</td>\n",
       "            <td>102</td>\n",
       "            <td>9/8/98</td>\n",
       "        </tr>\n",
       "        <tr>\n",
       "            <td>74</td>\n",
       "            <td>103</td>\n",
       "            <td>9/8/98</td>\n",
       "        </tr>\n",
       "    </tbody>\n",
       "</table>"
      ]
     },
     "metadata": {},
     "execution_count": 28
    }
   ]
  },
  {
   "cell_type": "markdown",
   "metadata": {
    "id": "O0svKukMDLbw"
   },
   "source": [
    "## In-class/Lab Exercises"
   ]
  },
  {
   "cell_type": "markdown",
   "metadata": {
    "id": "Gx4I6gRUDLbw"
   },
   "source": [
    "### Exercise 1"
   ]
  },
  {
   "cell_type": "markdown",
   "metadata": {
    "id": "eX_xNuMfDLbx"
   },
   "source": [
    "Write SQL declarations for creating the schemas of the following three tables. Include necessary key constraints.\n",
    "\n",
    "1. Employee(<u>eid</u>:integer, ename:string, age:integer, salary:real)\n",
    "\n",
    "2. Works(<u>eid</u>:integer, <u>did</u>:integer, pct_time:integer)\n",
    "\n",
    "3. Department(<u>did</u>:integer, dname:string, budge:real, managerid:integer)\n",
    "\n",
    "The keys are underlined in each relation. Relation **Employee** stores employee information such as unique identifier **eid**, employee name **ename**, **age** and **salary**. Relation **Department** stores the department unique identifier **did**, department name **dname**, the department **budget** and **managerid** which is the **eid** of the employee who is managing the department. The **managerid** value must always be found in the **eid** field of a record of the Employee relation. The Works relation tracks which\n",
    "employee works in which department, and what **percentage** of the time s/he allocates to that department. Note that, an employee can work in several departments."
   ]
  },
  {
   "cell_type": "code",
   "execution_count": null,
   "metadata": {
    "id": "b_gspMStDLbx"
   },
   "outputs": [],
   "source": [
    "%%sql\n",
    "\n",
    "drop table if exists Employee;\n",
    "drop table if exists Department;\n",
    "drop table if exists Works;\n",
    "\n",
    "-- your code goes below\n",
    "\n"
   ]
  },
  {
   "cell_type": "markdown",
   "metadata": {
    "id": "uDwQmAeoDLbx"
   },
   "source": [
    "### Insert values to tables\n",
    "Execute the cell below to insert values to the three tables.\n",
    "1. Employee\n",
    "\n",
    "| eid     | ename         | age | salary |  \n",
    "|---------|---------------|-----|--------|\n",
    "| 101     | Andrew Fuller | 40  | 50000  |\n",
    "| 102     | Justin Peacock| 25  | 20000  |\n",
    "| 103     | Nancy Buchanan| 35  | 30000  |\n",
    "| 104     | Robert King   | 30  | 20000  |\n",
    "\n",
    "2. Works:\n",
    "\n",
    "| eid     | did  | pct_time |\n",
    "|---------|------|----------|\n",
    "| 101     | 1001 | 100      |\n",
    "| 102     | 1001 | 20       |\n",
    "| 102     | 1002 | 50       |\n",
    "| 102     | 1003 | 10       |\n",
    "| 103     | 1003 | 90       |\n",
    "| 103     | 1001 | 10       |\n",
    "| 104     | 1001 | 20       |\n",
    "| 104     | 1002 | 70       |\n",
    "\n",
    "3. Department:\n",
    "\n",
    "| did     | dname    | budget  | managerid |\n",
    "|---------|----------|---------|-----------|\n",
    "| 1001    | IT       | 500000  | 101       |\n",
    "| 1002    | Computing| 750000  | 104       |\n",
    "| 1003    | Finance  | 350000  | 103       |\n",
    "\n",
    "\n"
   ]
  },
  {
   "cell_type": "code",
   "execution_count": null,
   "metadata": {
    "id": "xDD0fem7DLby"
   },
   "outputs": [],
   "source": [
    "%%sql\n",
    "DELETE FROM Employee;\n",
    "DELETE FROM Works;\n",
    "DELETE FROM Department;\n",
    "insert into Employee values ( 101,'Andrew Fuller', 40, 50000);\n",
    "insert into Employee values ( 102, 'Justin Peacock', 25, 20000);\n",
    "insert into Employee values ( 103, 'Nancy Buchanan', 35, 30000);\n",
    "insert into Employee values ( 104, 'Robert King', 30, 20000);\n",
    "\n",
    "insert into Department values (1001, 'IT', 500000, 101);\n",
    "insert into Department values (1002, 'Computing', 750000, 104);\n",
    "insert into Department values (1003, 'Finance', 350000, 103);\n",
    "\n",
    "insert into Works values (101, 1001, 100);\n",
    "insert into Works values (102, 1001, 20);\n",
    "insert into Works values (102, 1002, 50);\n",
    "insert into Works values (102, 1003, 10);\n",
    "insert into Works values (103, 1003, 90);\n",
    "insert into Works values (103, 1001, 10);\n",
    "insert into Works values (104, 1001, 20);\n",
    "insert into Works values (104, 1002, 70);"
   ]
  },
  {
   "cell_type": "markdown",
   "metadata": {
    "id": "gcb5f5ywDLby"
   },
   "source": [
    "### Exercise 2\n",
    "Find the salaries of employees that work in a department 'Computing'"
   ]
  },
  {
   "cell_type": "code",
   "execution_count": null,
   "metadata": {
    "scrolled": true,
    "id": "v_3ahLuADLby"
   },
   "outputs": [],
   "source": [
    "%%sql\n",
    "\n"
   ]
  },
  {
   "cell_type": "markdown",
   "metadata": {
    "id": "AoAw47zrDLby"
   },
   "source": [
    "### Exercise 3\n",
    "Find the ages of employees who work more than 30% of their time in a single department. List each age only once."
   ]
  },
  {
   "cell_type": "code",
   "execution_count": null,
   "metadata": {
    "scrolled": true,
    "id": "QatEhCZJDLbz"
   },
   "outputs": [],
   "source": [
    "%%sql\n",
    "\n"
   ]
  },
  {
   "cell_type": "markdown",
   "source": [
    "### Exercise 4\n",
    "Update Andrew Fuller's age to 38"
   ],
   "metadata": {
    "collapsed": false
   }
  },
  {
   "cell_type": "code",
   "execution_count": null,
   "outputs": [],
   "source": [
    "%%sql\n"
   ],
   "metadata": {
    "collapsed": false
   }
  },
  {
   "cell_type": "markdown",
   "source": [
    "### Exercise 5\n",
    "Give a 10% salary raise to employees who work in IT department with age at least 35, as the new_salary, and show employee name and their new_salary"
   ],
   "metadata": {
    "collapsed": false
   }
  },
  {
   "cell_type": "code",
   "execution_count": null,
   "outputs": [],
   "source": [
    "%%sql\n",
    "\n"
   ],
   "metadata": {
    "collapsed": false
   }
  },
  {
   "cell_type": "markdown",
   "source": [],
   "metadata": {
    "collapsed": false
   }
  }
 ],
 "metadata": {
  "kernelspec": {
   "display_name": "Python 3",
   "language": "python",
   "name": "python3"
  },
  "language_info": {
   "codemirror_mode": {
    "name": "ipython",
    "version": 3
   },
   "file_extension": ".py",
   "mimetype": "text/x-python",
   "name": "python",
   "nbconvert_exporter": "python",
   "pygments_lexer": "ipython3",
   "version": "3.6.9"
  },
  "colab": {
   "provenance": [],
   "include_colab_link": true
  }
 },
 "nbformat": 4,
 "nbformat_minor": 0
}
