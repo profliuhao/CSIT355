{
  "cells": [
    {
      "cell_type": "markdown",
      "metadata": {
        "id": "view-in-github",
        "colab_type": "text"
      },
      "source": [
        "<a href=\"https://colab.research.google.com/github/profliuhao/CSIT355/blob/main/CSIT_355_Module_6_Null_Outer_Join_Constraints.ipynb\" target=\"_parent\"><img src=\"https://colab.research.google.com/assets/colab-badge.svg\" alt=\"Open In Colab\"/></a>"
      ]
    },
    {
      "cell_type": "markdown",
      "metadata": {
        "id": "32cqsmxwCNJI"
      },
      "source": [
        "CSIT 355 In Class Exercise: NULL, Outer Join & More Constraints\n",
        "============================================="
      ]
    },
    {
      "cell_type": "code",
      "execution_count": 1,
      "metadata": {
        "id": "UVue5y8YCNJK"
      },
      "outputs": [],
      "source": [
        "#Let's connect to a database **lab4.db** using:\n",
        "%load_ext sql\n",
        "#%reload_ext sql\n",
        "%sql sqlite:///lab4.db"
      ]
    },
    {
      "cell_type": "code",
      "source": [
        "%config SqlMagic.style='_DEPRECATED_DEFAULT'"
      ],
      "metadata": {
        "id": "eRkpdpnH65-C"
      },
      "execution_count": 10,
      "outputs": []
    },
    {
      "cell_type": "code",
      "source": [
        "%%sql\n",
        "\n",
        "DROP TABLE IF EXISTS Sailors;\n",
        "-- Create the Sailors table\n",
        "CREATE TABLE Sailors (\n",
        "    sid INTEGER PRIMARY KEY,\n",
        "    name VARCHAR(50),\n",
        "    rating INTEGER,\n",
        "    age INTEGER\n",
        ");\n",
        "\n",
        "-- Insert sample data with NULL values\n",
        "INSERT INTO Sailors (sid, name, rating, age) VALUES\n",
        "    (1, 'John', 8, 25),\n",
        "    (2, NULL, 9, 30),\n",
        "    (3, 'Mike', NULL, 35),\n",
        "    (4, 'Sarah', 7, NULL),\n",
        "    (5, NULL, NULL, 28),\n",
        "    (6, 'Tom', 8, 42),\n",
        "    (7, 'Tom', NULL, 42),    -- Duplicate name with NULL rating\n",
        "    (8, NULL, 8, 42),        -- NULL name with same age as others\n",
        "    (9, 'Tom', 8, 42),  -- Complete duplicate of sid 6\n",
        "    (10, NULL, 8, 42);    -- Duplicate with null values in name"
      ],
      "metadata": {
        "id": "nVYvmtjH4NfP",
        "outputId": "dbfc6825-14d6-4a46-b3e4-60fcc8071a6a",
        "colab": {
          "base_uri": "https://localhost:8080/"
        }
      },
      "execution_count": 11,
      "outputs": [
        {
          "output_type": "stream",
          "name": "stdout",
          "text": [
            " * sqlite:///lab4.db\n",
            "Done.\n",
            "Done.\n",
            "10 rows affected.\n"
          ]
        },
        {
          "output_type": "execute_result",
          "data": {
            "text/plain": [
              "[]"
            ]
          },
          "metadata": {},
          "execution_count": 11
        }
      ]
    },
    {
      "cell_type": "code",
      "source": [
        "%%sql\n",
        "-- Demo 1: COUNT(*) vs COUNT(column)\n",
        "SELECT 'COUNT(*) Demo' as demo,\n",
        "    COUNT(*) as total_count,\n",
        "    COUNT(name) as name_count,\n",
        "    COUNT(rating) as rating_count,\n",
        "    COUNT(age) as age_count\n",
        "FROM Sailors;"
      ],
      "metadata": {
        "id": "Rta9FnTI4TRz",
        "outputId": "91bf9b88-75aa-43b3-923b-839850dbd08d",
        "colab": {
          "base_uri": "https://localhost:8080/",
          "height": 96
        }
      },
      "execution_count": 12,
      "outputs": [
        {
          "output_type": "stream",
          "name": "stdout",
          "text": [
            " * sqlite:///lab4.db\n",
            "Done.\n"
          ]
        },
        {
          "output_type": "execute_result",
          "data": {
            "text/plain": [
              "[('COUNT(*) Demo', 10, 6, 7, 9)]"
            ],
            "text/html": [
              "<table>\n",
              "    <thead>\n",
              "        <tr>\n",
              "            <th>demo</th>\n",
              "            <th>total_count</th>\n",
              "            <th>name_count</th>\n",
              "            <th>rating_count</th>\n",
              "            <th>age_count</th>\n",
              "        </tr>\n",
              "    </thead>\n",
              "    <tbody>\n",
              "        <tr>\n",
              "            <td>COUNT(*) Demo</td>\n",
              "            <td>10</td>\n",
              "            <td>6</td>\n",
              "            <td>7</td>\n",
              "            <td>9</td>\n",
              "        </tr>\n",
              "    </tbody>\n",
              "</table>"
            ]
          },
          "metadata": {},
          "execution_count": 12
        }
      ]
    },
    {
      "cell_type": "code",
      "source": [
        "%%sql\n",
        "\n",
        "-- Demo 2: Aggregates with NULL values\n",
        "SELECT 'Aggregate Demo' as demo,\n",
        "    AVG(rating) as avg_rating,\n",
        "    MAX(rating) as max_rating,\n",
        "    MIN(rating) as min_rating\n",
        "FROM Sailors;"
      ],
      "metadata": {
        "id": "5EfNRRvz4hRH",
        "outputId": "43ae3135-317f-4b12-8e4f-2af1e6a935ee",
        "colab": {
          "base_uri": "https://localhost:8080/",
          "height": 96
        }
      },
      "execution_count": 13,
      "outputs": [
        {
          "output_type": "stream",
          "name": "stdout",
          "text": [
            " * sqlite:///lab4.db\n",
            "Done.\n"
          ]
        },
        {
          "output_type": "execute_result",
          "data": {
            "text/plain": [
              "[('Aggregate Demo', 8.0, 9, 7)]"
            ],
            "text/html": [
              "<table>\n",
              "    <thead>\n",
              "        <tr>\n",
              "            <th>demo</th>\n",
              "            <th>avg_rating</th>\n",
              "            <th>max_rating</th>\n",
              "            <th>min_rating</th>\n",
              "        </tr>\n",
              "    </thead>\n",
              "    <tbody>\n",
              "        <tr>\n",
              "            <td>Aggregate Demo</td>\n",
              "            <td>8.0</td>\n",
              "            <td>9</td>\n",
              "            <td>7</td>\n",
              "        </tr>\n",
              "    </tbody>\n",
              "</table>"
            ]
          },
          "metadata": {},
          "execution_count": 13
        }
      ]
    },
    {
      "cell_type": "code",
      "source": [
        "%%sql\n",
        "SELECT COUNT(*) as total_count\n",
        "FROM Sailors;"
      ],
      "metadata": {
        "id": "F-NXE3wUFoW1",
        "outputId": "84d99392-26a9-401e-a0df-52f256d1edc0",
        "colab": {
          "base_uri": "https://localhost:8080/",
          "height": 96
        }
      },
      "execution_count": 14,
      "outputs": [
        {
          "output_type": "stream",
          "name": "stdout",
          "text": [
            " * sqlite:///lab4.db\n",
            "Done.\n"
          ]
        },
        {
          "output_type": "execute_result",
          "data": {
            "text/plain": [
              "[(10,)]"
            ],
            "text/html": [
              "<table>\n",
              "    <thead>\n",
              "        <tr>\n",
              "            <th>total_count</th>\n",
              "        </tr>\n",
              "    </thead>\n",
              "    <tbody>\n",
              "        <tr>\n",
              "            <td>10</td>\n",
              "        </tr>\n",
              "    </tbody>\n",
              "</table>"
            ]
          },
          "metadata": {},
          "execution_count": 14
        }
      ]
    },
    {
      "cell_type": "code",
      "source": [
        "%%sql\n",
        "SELECT COUNT(rating) as rating_count\n",
        "FROM Sailors;"
      ],
      "metadata": {
        "id": "UNUZkk7nFvHI",
        "outputId": "9ed4350c-6675-4ccc-95f3-59036e504340",
        "colab": {
          "base_uri": "https://localhost:8080/",
          "height": 96
        }
      },
      "execution_count": 15,
      "outputs": [
        {
          "output_type": "stream",
          "name": "stdout",
          "text": [
            " * sqlite:///lab4.db\n",
            "Done.\n"
          ]
        },
        {
          "output_type": "execute_result",
          "data": {
            "text/plain": [
              "[(7,)]"
            ],
            "text/html": [
              "<table>\n",
              "    <thead>\n",
              "        <tr>\n",
              "            <th>rating_count</th>\n",
              "        </tr>\n",
              "    </thead>\n",
              "    <tbody>\n",
              "        <tr>\n",
              "            <td>7</td>\n",
              "        </tr>\n",
              "    </tbody>\n",
              "</table>"
            ]
          },
          "metadata": {},
          "execution_count": 15
        }
      ]
    },
    {
      "cell_type": "code",
      "source": [
        "%%sql\n",
        "\n",
        "-- Demo 3: Non-equivalent queries with NULLs\n",
        "SELECT 'Query Comparison Demo' as demo;\n",
        "\n",
        "SELECT COUNT(*) as total_count\n",
        "FROM Sailors;\n",
        "\n",
        "SELECT COUNT(rating) as rating_count\n",
        "FROM Sailors;\n",
        "\n",
        "SELECT COUNT(*) as all_ratings\n",
        "FROM Sailors\n",
        "WHERE (rating > 8) OR (rating <= 8);"
      ],
      "metadata": {
        "id": "CXUgpxMC4lbx",
        "outputId": "749d3222-f84a-4ff6-aab1-ec36ee873459",
        "colab": {
          "base_uri": "https://localhost:8080/",
          "height": 148
        }
      },
      "execution_count": 16,
      "outputs": [
        {
          "output_type": "stream",
          "name": "stdout",
          "text": [
            " * sqlite:///lab4.db\n",
            "Done.\n",
            "Done.\n",
            "Done.\n",
            "Done.\n"
          ]
        },
        {
          "output_type": "execute_result",
          "data": {
            "text/plain": [
              "[(7,)]"
            ],
            "text/html": [
              "<table>\n",
              "    <thead>\n",
              "        <tr>\n",
              "            <th>all_ratings</th>\n",
              "        </tr>\n",
              "    </thead>\n",
              "    <tbody>\n",
              "        <tr>\n",
              "            <td>7</td>\n",
              "        </tr>\n",
              "    </tbody>\n",
              "</table>"
            ]
          },
          "metadata": {},
          "execution_count": 16
        }
      ]
    },
    {
      "cell_type": "code",
      "source": [
        "%%sql\n",
        "\n",
        "-- Demo 4: DISTINCT with NULL values\n",
        "SELECT 'DISTINCT Demo' as demo;\n",
        "\n",
        "SELECT DISTINCT name, rating, age\n",
        "FROM Sailors\n",
        "ORDER BY name NULLS FIRST;"
      ],
      "metadata": {
        "id": "aTAxzK3C4sFC",
        "outputId": "78414904-8244-4622-ffcc-91f2f53b5e9f",
        "colab": {
          "base_uri": "https://localhost:8080/",
          "height": 263
        }
      },
      "execution_count": 17,
      "outputs": [
        {
          "output_type": "stream",
          "name": "stdout",
          "text": [
            " * sqlite:///lab4.db\n",
            "Done.\n",
            "Done.\n"
          ]
        },
        {
          "output_type": "execute_result",
          "data": {
            "text/plain": [
              "[(None, 9, 30),\n",
              " (None, None, 28),\n",
              " (None, 8, 42),\n",
              " ('John', 8, 25),\n",
              " ('Mike', None, 35),\n",
              " ('Sarah', 7, None),\n",
              " ('Tom', 8, 42),\n",
              " ('Tom', None, 42)]"
            ],
            "text/html": [
              "<table>\n",
              "    <thead>\n",
              "        <tr>\n",
              "            <th>name</th>\n",
              "            <th>rating</th>\n",
              "            <th>age</th>\n",
              "        </tr>\n",
              "    </thead>\n",
              "    <tbody>\n",
              "        <tr>\n",
              "            <td>None</td>\n",
              "            <td>9</td>\n",
              "            <td>30</td>\n",
              "        </tr>\n",
              "        <tr>\n",
              "            <td>None</td>\n",
              "            <td>None</td>\n",
              "            <td>28</td>\n",
              "        </tr>\n",
              "        <tr>\n",
              "            <td>None</td>\n",
              "            <td>8</td>\n",
              "            <td>42</td>\n",
              "        </tr>\n",
              "        <tr>\n",
              "            <td>John</td>\n",
              "            <td>8</td>\n",
              "            <td>25</td>\n",
              "        </tr>\n",
              "        <tr>\n",
              "            <td>Mike</td>\n",
              "            <td>None</td>\n",
              "            <td>35</td>\n",
              "        </tr>\n",
              "        <tr>\n",
              "            <td>Sarah</td>\n",
              "            <td>7</td>\n",
              "            <td>None</td>\n",
              "        </tr>\n",
              "        <tr>\n",
              "            <td>Tom</td>\n",
              "            <td>8</td>\n",
              "            <td>42</td>\n",
              "        </tr>\n",
              "        <tr>\n",
              "            <td>Tom</td>\n",
              "            <td>None</td>\n",
              "            <td>42</td>\n",
              "        </tr>\n",
              "    </tbody>\n",
              "</table>"
            ]
          },
          "metadata": {},
          "execution_count": 17
        }
      ]
    },
    {
      "cell_type": "code",
      "source": [
        "%%sql\n",
        "\n",
        "-- Demo 5: GROUP BY with NULL values\n",
        "SELECT 'GROUP BY Demo' as demo,\n",
        "    name,\n",
        "    COUNT(*) as count,\n",
        "    AVG(rating) as avg_rating\n",
        "FROM Sailors\n",
        "GROUP BY name;"
      ],
      "metadata": {
        "id": "3fVmrMc243Rb",
        "outputId": "fb3affdc-d79c-437a-b768-4ee7705bf2b9",
        "colab": {
          "base_uri": "https://localhost:8080/",
          "height": 182
        }
      },
      "execution_count": 18,
      "outputs": [
        {
          "output_type": "stream",
          "name": "stdout",
          "text": [
            " * sqlite:///lab4.db\n",
            "Done.\n"
          ]
        },
        {
          "output_type": "execute_result",
          "data": {
            "text/plain": [
              "[('GROUP BY Demo', None, 4, 8.333333333333334),\n",
              " ('GROUP BY Demo', 'John', 1, 8.0),\n",
              " ('GROUP BY Demo', 'Mike', 1, None),\n",
              " ('GROUP BY Demo', 'Sarah', 1, 7.0),\n",
              " ('GROUP BY Demo', 'Tom', 3, 8.0)]"
            ],
            "text/html": [
              "<table>\n",
              "    <thead>\n",
              "        <tr>\n",
              "            <th>demo</th>\n",
              "            <th>name</th>\n",
              "            <th>count</th>\n",
              "            <th>avg_rating</th>\n",
              "        </tr>\n",
              "    </thead>\n",
              "    <tbody>\n",
              "        <tr>\n",
              "            <td>GROUP BY Demo</td>\n",
              "            <td>None</td>\n",
              "            <td>4</td>\n",
              "            <td>8.333333333333334</td>\n",
              "        </tr>\n",
              "        <tr>\n",
              "            <td>GROUP BY Demo</td>\n",
              "            <td>John</td>\n",
              "            <td>1</td>\n",
              "            <td>8.0</td>\n",
              "        </tr>\n",
              "        <tr>\n",
              "            <td>GROUP BY Demo</td>\n",
              "            <td>Mike</td>\n",
              "            <td>1</td>\n",
              "            <td>None</td>\n",
              "        </tr>\n",
              "        <tr>\n",
              "            <td>GROUP BY Demo</td>\n",
              "            <td>Sarah</td>\n",
              "            <td>1</td>\n",
              "            <td>7.0</td>\n",
              "        </tr>\n",
              "        <tr>\n",
              "            <td>GROUP BY Demo</td>\n",
              "            <td>Tom</td>\n",
              "            <td>3</td>\n",
              "            <td>8.0</td>\n",
              "        </tr>\n",
              "    </tbody>\n",
              "</table>"
            ]
          },
          "metadata": {},
          "execution_count": 18
        }
      ]
    },
    {
      "cell_type": "code",
      "source": [
        "%%sql\n",
        "\n",
        "-- Demo 6: Set operations with NULL values\n",
        "SELECT 'UNION Demo' as demo;\n",
        "\n",
        "-- Create temporary table for set operation demo\n",
        "CREATE TEMPORARY TABLE SailorsCopy AS\n",
        "SELECT * FROM Sailors WHERE sid IN (1, 2, 5, 6, 7);\n",
        "\n",
        "-- Demonstrate UNION behavior with NULL values\n",
        "SELECT name, rating, age FROM Sailors\n",
        "UNION\n",
        "SELECT name, rating, age FROM SailorsCopy\n",
        "ORDER BY name NULLS FIRST;\n"
      ],
      "metadata": {
        "id": "PBo0aBh-4HrD",
        "outputId": "779fb53f-b604-4b08-8fff-59ee02e4bf24",
        "colab": {
          "base_uri": "https://localhost:8080/",
          "height": 281
        }
      },
      "execution_count": 19,
      "outputs": [
        {
          "output_type": "stream",
          "name": "stdout",
          "text": [
            " * sqlite:///lab4.db\n",
            "Done.\n",
            "Done.\n",
            "Done.\n"
          ]
        },
        {
          "output_type": "execute_result",
          "data": {
            "text/plain": [
              "[(None, None, 28),\n",
              " (None, 8, 42),\n",
              " (None, 9, 30),\n",
              " ('John', 8, 25),\n",
              " ('Mike', None, 35),\n",
              " ('Sarah', 7, None),\n",
              " ('Tom', None, 42),\n",
              " ('Tom', 8, 42)]"
            ],
            "text/html": [
              "<table>\n",
              "    <thead>\n",
              "        <tr>\n",
              "            <th>name</th>\n",
              "            <th>rating</th>\n",
              "            <th>age</th>\n",
              "        </tr>\n",
              "    </thead>\n",
              "    <tbody>\n",
              "        <tr>\n",
              "            <td>None</td>\n",
              "            <td>None</td>\n",
              "            <td>28</td>\n",
              "        </tr>\n",
              "        <tr>\n",
              "            <td>None</td>\n",
              "            <td>8</td>\n",
              "            <td>42</td>\n",
              "        </tr>\n",
              "        <tr>\n",
              "            <td>None</td>\n",
              "            <td>9</td>\n",
              "            <td>30</td>\n",
              "        </tr>\n",
              "        <tr>\n",
              "            <td>John</td>\n",
              "            <td>8</td>\n",
              "            <td>25</td>\n",
              "        </tr>\n",
              "        <tr>\n",
              "            <td>Mike</td>\n",
              "            <td>None</td>\n",
              "            <td>35</td>\n",
              "        </tr>\n",
              "        <tr>\n",
              "            <td>Sarah</td>\n",
              "            <td>7</td>\n",
              "            <td>None</td>\n",
              "        </tr>\n",
              "        <tr>\n",
              "            <td>Tom</td>\n",
              "            <td>None</td>\n",
              "            <td>42</td>\n",
              "        </tr>\n",
              "        <tr>\n",
              "            <td>Tom</td>\n",
              "            <td>8</td>\n",
              "            <td>42</td>\n",
              "        </tr>\n",
              "    </tbody>\n",
              "</table>"
            ]
          },
          "metadata": {},
          "execution_count": 19
        }
      ]
    },
    {
      "cell_type": "markdown",
      "metadata": {
        "id": "ZQVqPERbCNJL"
      },
      "source": [
        "\n",
        "## Exercise: Outer Join\n",
        "We are going to work on the following three tables:\n",
        "1. Game(<u>Team</u>:string, wins:integer, losses:integer)\n",
        "\n",
        "2. Arena(<u>Arena</u>:string, <u>city</u>:string, team:string)\n"
      ]
    },
    {
      "cell_type": "code",
      "execution_count": 20,
      "metadata": {
        "colab": {
          "base_uri": "https://localhost:8080/"
        },
        "id": "iM84yPKcCNJL",
        "outputId": "35997e15-3242-4252-bb57-60b5136b915f"
      },
      "outputs": [
        {
          "output_type": "stream",
          "name": "stdout",
          "text": [
            " * sqlite:///lab4.db\n",
            "Done.\n",
            "Done.\n",
            "Done.\n",
            "Done.\n"
          ]
        },
        {
          "output_type": "execute_result",
          "data": {
            "text/plain": [
              "[]"
            ]
          },
          "metadata": {},
          "execution_count": 20
        }
      ],
      "source": [
        "%%sql\n",
        "drop table if exists game;\n",
        "drop table if exists arena;\n",
        "CREATE TABLE game(\n",
        "       team        varchar primary key,\n",
        "       wins     integer,\n",
        "       losses   integer\n",
        ");\n",
        "\n",
        "CREATE TABLE arena(\n",
        "       arena        varchar primary key,\n",
        "       city        varchar,\n",
        "       team        varchar,\n",
        "       Foreign key (team) references game\n",
        ");"
      ]
    },
    {
      "cell_type": "code",
      "execution_count": 21,
      "metadata": {
        "scrolled": true,
        "colab": {
          "base_uri": "https://localhost:8080/"
        },
        "id": "05SD9fX1CNJM",
        "outputId": "73d33a12-1c54-4edd-fc26-0d2984841c4e"
      },
      "outputs": [
        {
          "output_type": "stream",
          "name": "stdout",
          "text": [
            " * sqlite:///lab4.db\n",
            "1 rows affected.\n",
            "1 rows affected.\n",
            "1 rows affected.\n",
            "1 rows affected.\n",
            "1 rows affected.\n",
            "1 rows affected.\n",
            "1 rows affected.\n",
            "1 rows affected.\n"
          ]
        },
        {
          "output_type": "execute_result",
          "data": {
            "text/plain": [
              "[]"
            ]
          },
          "metadata": {},
          "execution_count": 21
        }
      ],
      "source": [
        "%%sql\n",
        "insert into game values('Boston Celtics', 53, 29);\n",
        "insert into game values('New York Knicks', 31, 51);\n",
        "insert into game values('Brooklyn Nets', 20, 62);\n",
        "insert into game values('Huston Rockets', 65, 17);\n",
        "insert into arena values('Barclays Center', 'New York', 'Brooklyn Nets');\n",
        "insert into arena values('Madison Square Garden', 'New York', 'New York Knicks');\n",
        "insert into arena values('TD Garden', 'Boston', 'Boston Celtics');\n",
        "insert into arena values('United Center', 'Chicago', 'Chicago Bulls');"
      ]
    },
    {
      "cell_type": "code",
      "execution_count": 22,
      "metadata": {
        "scrolled": true,
        "colab": {
          "base_uri": "https://localhost:8080/",
          "height": 160
        },
        "id": "o4Bd_UVpCNJM",
        "outputId": "0111e2d5-97fb-4164-826e-b7828d114469"
      },
      "outputs": [
        {
          "output_type": "stream",
          "name": "stdout",
          "text": [
            " * sqlite:///lab4.db\n",
            "Done.\n"
          ]
        },
        {
          "output_type": "execute_result",
          "data": {
            "text/plain": [
              "[('Boston Celtics', 53, 29),\n",
              " ('New York Knicks', 31, 51),\n",
              " ('Brooklyn Nets', 20, 62),\n",
              " ('Huston Rockets', 65, 17)]"
            ],
            "text/html": [
              "<table>\n",
              "    <thead>\n",
              "        <tr>\n",
              "            <th>team</th>\n",
              "            <th>wins</th>\n",
              "            <th>losses</th>\n",
              "        </tr>\n",
              "    </thead>\n",
              "    <tbody>\n",
              "        <tr>\n",
              "            <td>Boston Celtics</td>\n",
              "            <td>53</td>\n",
              "            <td>29</td>\n",
              "        </tr>\n",
              "        <tr>\n",
              "            <td>New York Knicks</td>\n",
              "            <td>31</td>\n",
              "            <td>51</td>\n",
              "        </tr>\n",
              "        <tr>\n",
              "            <td>Brooklyn Nets</td>\n",
              "            <td>20</td>\n",
              "            <td>62</td>\n",
              "        </tr>\n",
              "        <tr>\n",
              "            <td>Huston Rockets</td>\n",
              "            <td>65</td>\n",
              "            <td>17</td>\n",
              "        </tr>\n",
              "    </tbody>\n",
              "</table>"
            ]
          },
          "metadata": {},
          "execution_count": 22
        }
      ],
      "source": [
        "%sql select * from game;"
      ]
    },
    {
      "cell_type": "code",
      "execution_count": 23,
      "metadata": {
        "scrolled": true,
        "colab": {
          "base_uri": "https://localhost:8080/",
          "height": 160
        },
        "id": "oQKvSfFjCNJM",
        "outputId": "98aa5dec-3230-4e52-fb3e-cb9378b004d2"
      },
      "outputs": [
        {
          "output_type": "stream",
          "name": "stdout",
          "text": [
            " * sqlite:///lab4.db\n",
            "Done.\n"
          ]
        },
        {
          "output_type": "execute_result",
          "data": {
            "text/plain": [
              "[('Barclays Center', 'New York', 'Brooklyn Nets'),\n",
              " ('Madison Square Garden', 'New York', 'New York Knicks'),\n",
              " ('TD Garden', 'Boston', 'Boston Celtics'),\n",
              " ('United Center', 'Chicago', 'Chicago Bulls')]"
            ],
            "text/html": [
              "<table>\n",
              "    <thead>\n",
              "        <tr>\n",
              "            <th>arena</th>\n",
              "            <th>city</th>\n",
              "            <th>team</th>\n",
              "        </tr>\n",
              "    </thead>\n",
              "    <tbody>\n",
              "        <tr>\n",
              "            <td>Barclays Center</td>\n",
              "            <td>New York</td>\n",
              "            <td>Brooklyn Nets</td>\n",
              "        </tr>\n",
              "        <tr>\n",
              "            <td>Madison Square Garden</td>\n",
              "            <td>New York</td>\n",
              "            <td>New York Knicks</td>\n",
              "        </tr>\n",
              "        <tr>\n",
              "            <td>TD Garden</td>\n",
              "            <td>Boston</td>\n",
              "            <td>Boston Celtics</td>\n",
              "        </tr>\n",
              "        <tr>\n",
              "            <td>United Center</td>\n",
              "            <td>Chicago</td>\n",
              "            <td>Chicago Bulls</td>\n",
              "        </tr>\n",
              "    </tbody>\n",
              "</table>"
            ]
          },
          "metadata": {},
          "execution_count": 23
        }
      ],
      "source": [
        "%sql select * from arena"
      ]
    },
    {
      "cell_type": "markdown",
      "metadata": {
        "id": "IBtjKOueCNJN"
      },
      "source": [
        "### Exercise 1\n",
        "List the names in team and their arena, preserve the teams in **Game** even if they have no arenas in **Arena**.\n"
      ]
    },
    {
      "cell_type": "code",
      "execution_count": null,
      "metadata": {
        "id": "p7wOhSGDCNJN"
      },
      "outputs": [],
      "source": [
        "%%sql\n",
        "-- your answer here\n",
        "\n"
      ]
    },
    {
      "cell_type": "markdown",
      "metadata": {
        "id": "_Se3SSlmCNJN"
      },
      "source": [
        "### Exercise 2\n",
        "List the names in team and their arena, preserve all the arenas in **Arena** even if there is no infomation of their teams in **Game**."
      ]
    },
    {
      "cell_type": "code",
      "execution_count": null,
      "metadata": {
        "id": "3jNDFMBdCNJN"
      },
      "outputs": [],
      "source": [
        "%%sql\n",
        "-- use right join\n"
      ]
    },
    {
      "cell_type": "code",
      "source": [
        "%%sql\n",
        "-- use left join\n"
      ],
      "metadata": {
        "id": "EfiAatQoC7q-"
      },
      "execution_count": null,
      "outputs": []
    },
    {
      "cell_type": "markdown",
      "metadata": {
        "id": "kvX_NRetCNJO"
      },
      "source": [
        "## Exercise： More Constraints\n",
        "\n",
        "\n",
        "Given the following three schemas:\n",
        "\n",
        "sailors(<u>sid</u>:integer, sname:string, rating:integer, age:real)\n",
        "\n",
        "reserves(<u>sid</u>:integer, <u>bid</u>:integer, day:date)\n",
        "\n",
        "boats(<u>bid</u>:integer, bname:string, color:string)"
      ]
    },
    {
      "cell_type": "markdown",
      "metadata": {
        "id": "i3jmWLzMCNJO"
      },
      "source": [
        "### Exercise 3.1\n",
        "Creating the table **Sailors** and constrain the rating range between 1 and 10, and the age range between 0 and 100."
      ]
    },
    {
      "cell_type": "code",
      "source": [
        "%%sql\n",
        "-- Create the \"Sailors\" table\n",
        "drop table if exists Sailors;\n",
        "-- fill in here\n",
        "\n"
      ],
      "metadata": {
        "id": "tfoQm2frFGfA"
      },
      "execution_count": null,
      "outputs": []
    },
    {
      "cell_type": "code",
      "execution_count": null,
      "metadata": {
        "scrolled": false,
        "id": "hYrnuTufCNJO"
      },
      "outputs": [],
      "source": [
        "%%sql\n",
        "-- Create the \"Reserves\" table\n",
        "drop table if exists Reserves;\n",
        "\n",
        "-- fill in here\n",
        "\n",
        "\n",
        "\n",
        "-- Create the \"Boats\" table\n",
        "drop table if exists Boats;\n",
        "\n",
        "-- fill in here\n",
        "\n",
        "\n",
        "\n"
      ]
    },
    {
      "cell_type": "markdown",
      "metadata": {
        "id": "zvl3CfrsCNJO"
      },
      "source": [
        "Execute the following commands to insert tuples in **sailors**."
      ]
    },
    {
      "cell_type": "code",
      "execution_count": 34,
      "metadata": {
        "id": "bprr8CaWCNJO",
        "outputId": "6c30e57d-2d61-4c00-d6a2-af75b7a040c0",
        "colab": {
          "base_uri": "https://localhost:8080/"
        }
      },
      "outputs": [
        {
          "output_type": "stream",
          "name": "stdout",
          "text": [
            " * sqlite:///lab4.db\n",
            "0 rows affected.\n",
            "10 rows affected.\n",
            "0 rows affected.\n",
            "4 rows affected.\n",
            "0 rows affected.\n",
            "10 rows affected.\n"
          ]
        },
        {
          "output_type": "execute_result",
          "data": {
            "text/plain": [
              "[]"
            ]
          },
          "metadata": {},
          "execution_count": 34
        }
      ],
      "source": [
        "%%sql\n",
        "-- Insert rows into the \"Sailors\" table\n",
        "delete from Sailors;\n",
        "INSERT INTO Sailors (sid, sname, rating, age) VALUES\n",
        "    (22, 'Dustin', 7, 45),\n",
        "    (29, 'Brutus', 1, 33),\n",
        "    (31, 'Lubber', 8, 55.5),\n",
        "    (32, 'Andy', 8, 25.5),\n",
        "    (58, 'Rusty', 10, 35),\n",
        "    (64, 'Horatio', 7, 35),\n",
        "    (71, 'Zorba', 10, 16),\n",
        "    (74, 'Horatio', 9, 35),\n",
        "    (85, 'Art', 3, 25.5),\n",
        "    (95, 'Bob', 3, 63.5);\n",
        "\n",
        "-- Insert rows into the \"Boats\" table\n",
        "delete from Boats;\n",
        "INSERT INTO Boats (bid, name, color) VALUES\n",
        "    (101, 'Interlake', 'blue'),\n",
        "    (102, 'Interlake', 'red'),\n",
        "    (103, 'Clipper', 'green'),\n",
        "    (104, 'Marine', 'red');\n",
        "\n",
        "-- Insert rows into the \"Reserves\" table\n",
        "delete from Reserves;\n",
        "INSERT INTO Reserves (sid, bid, day) VALUES\n",
        "    (22, 101, '10/10/98'),\n",
        "    (22, 102, '10/11/98'),\n",
        "    (22, 103, '10/8/98'),\n",
        "    (22, 104, '10/7/98'),\n",
        "    (31, 102, '11/10/98'),\n",
        "    (31, 103, '10/6/98'),\n",
        "    (31, 104, '11/12/98'),\n",
        "    (64, 101, '9/5/98'),\n",
        "    (64, 102, '9/8/98'),\n",
        "    (74, 103, '9/8/98');"
      ]
    },
    {
      "cell_type": "markdown",
      "metadata": {
        "id": "QOUgDygiCNJO"
      },
      "source": [
        "### Exercise 3.2\n",
        "What will happend if you execute the following statement?"
      ]
    },
    {
      "cell_type": "code",
      "execution_count": null,
      "metadata": {
        "id": "qxWFciKYCNJO"
      },
      "outputs": [],
      "source": [
        "%sql insert into sailors values(111, 'James', 2, 163.5);"
      ]
    },
    {
      "cell_type": "markdown",
      "source": [
        "### Foreign key, update and delete cascade"
      ],
      "metadata": {
        "id": "pNangEJFMoFc"
      }
    },
    {
      "cell_type": "code",
      "source": [
        "%%sql\n",
        "DROP TABLE IF EXISTS Students;\n",
        "\n",
        "CREATE TABLE Students (\n",
        "  sid CHAR(20) PRIMARY KEY,\n",
        "  name CHAR(20),\n",
        "  login CHAR(10),\n",
        "  age INT,\n",
        "  gpa FLOAT\n",
        ");\n",
        "\n",
        "-- insert students values\n",
        "INSERT INTO Students (sid, name, login, age, gpa)\n",
        "VALUES\n",
        "('S000', 'Unknown', 'unknown', 0, 0),\n",
        "  ('S001', 'John Doe', 'johnd', 22, 3.5),\n",
        "  ('S002', 'Jane Smith', 'janes', 20, 3.9),\n",
        "  ('S003', 'Bob Johnson', 'bobj', 21, 3.2),\n",
        "  ('S004', 'Alice Brown', 'aliceb', 23, 3.7),\n",
        "  ('S005', 'Eva Wilson', 'evaw', 19, 3.8);"
      ],
      "metadata": {
        "id": "RdpFZXCYMmjv"
      },
      "execution_count": null,
      "outputs": []
    },
    {
      "cell_type": "code",
      "source": [
        "%%sql\n",
        "-- Create the Enrolled table\n",
        "-- on delete sid, set default to S000\n",
        "-- on update sid, cascade\n",
        "DROP TABLE IF EXISTS Enrolled;\n",
        "\n",
        "-- fill in here\n",
        "\n",
        "\n"
      ],
      "metadata": {
        "id": "yRZZTbrLJXxu"
      },
      "execution_count": null,
      "outputs": []
    },
    {
      "cell_type": "code",
      "source": [
        "%%sql\n",
        "PRAGMA foreign_keys = ON;\n",
        "-- PRAGMA foreign_keys = OFF;\n",
        "-- PRAGMA table_info([Enrolled]);\n"
      ],
      "metadata": {
        "id": "V_oRmVjdKpZ0"
      },
      "execution_count": null,
      "outputs": []
    },
    {
      "cell_type": "code",
      "source": [
        "%%sql\n",
        "select * from Students;"
      ],
      "metadata": {
        "id": "K2po9ILVJfId"
      },
      "execution_count": null,
      "outputs": []
    },
    {
      "cell_type": "code",
      "source": [
        "%%sql\n",
        "insert into Enrolled values ('S002', 'C123', 'A+');"
      ],
      "metadata": {
        "id": "cHjEsLZaJ0um"
      },
      "execution_count": null,
      "outputs": []
    },
    {
      "cell_type": "code",
      "source": [
        "%%sql\n",
        "-- Insert a record into Enrolled with an invalid sid value\n",
        "INSERT INTO Enrolled (sid, cid, grade)\n",
        "VALUES ('S006', 'C004', 'B');\n"
      ],
      "metadata": {
        "id": "hwIVJK6uJkR8"
      },
      "execution_count": null,
      "outputs": []
    },
    {
      "cell_type": "code",
      "source": [
        "%%sql\n",
        "-- check the enrolled table before update student id\n",
        "select * from Enrolled;"
      ],
      "metadata": {
        "id": "mtlaM1OIKA0k"
      },
      "execution_count": null,
      "outputs": []
    },
    {
      "cell_type": "code",
      "source": [
        "%%sql\n",
        "-- update sid 'S002' with 'S022' from the students table\n",
        "-- fill in here"
      ],
      "metadata": {
        "id": "xBhfWQRLH9Fn"
      },
      "execution_count": null,
      "outputs": []
    },
    {
      "cell_type": "code",
      "source": [
        "%%sql\n",
        "-- check  the enrolled table  after update student id in students table\n",
        "select * from Enrolled;"
      ],
      "metadata": {
        "id": "Mz-6Oy9vIWi2"
      },
      "execution_count": null,
      "outputs": []
    },
    {
      "cell_type": "code",
      "source": [
        "%%sql\n",
        "-- delete sid = 'S022' from the students table\n",
        "-- fill in here"
      ],
      "metadata": {
        "colab": {
          "base_uri": "https://localhost:8080/"
        },
        "id": "1wt6vmwpHVg9",
        "outputId": "57b2acb4-c411-4988-a0a2-81b57ed33d6c"
      },
      "execution_count": null,
      "outputs": [
        {
          "output_type": "stream",
          "name": "stdout",
          "text": [
            " * sqlite:///lab4.db\n",
            "1 rows affected.\n"
          ]
        },
        {
          "output_type": "execute_result",
          "data": {
            "text/plain": [
              "[]"
            ]
          },
          "metadata": {},
          "execution_count": 56
        }
      ]
    },
    {
      "cell_type": "code",
      "source": [
        "%%sql\n",
        "-- check the enrolled table after delete student id in students table\n",
        "select * from Enrolled;"
      ],
      "metadata": {
        "id": "mNbip2CwKdvg"
      },
      "execution_count": null,
      "outputs": []
    },
    {
      "cell_type": "markdown",
      "source": [
        "### Delete on cascade\n"
      ],
      "metadata": {
        "id": "rdp_n6dkLSb-"
      }
    },
    {
      "cell_type": "code",
      "source": [
        "%%sql\n",
        "PRAGMA foreign_keys = OFF;"
      ],
      "metadata": {
        "id": "OrjWEYAgLbiR"
      },
      "execution_count": null,
      "outputs": []
    },
    {
      "cell_type": "code",
      "source": [
        "%%sql\n",
        "-- Create the Enrolled table\n",
        "-- on delete sid, cascade\n",
        "-- on update sid, cascade\n",
        "DROP TABLE IF EXISTS Enrolled;\n",
        "\n",
        "-- fill in here"
      ],
      "metadata": {
        "id": "2MxBShTZLZGa"
      },
      "execution_count": null,
      "outputs": []
    },
    {
      "cell_type": "code",
      "source": [
        "%%sql\n",
        "PRAGMA foreign_keys = ON;\n"
      ],
      "metadata": {
        "id": "ueYWgA88Lh2v"
      },
      "execution_count": null,
      "outputs": []
    },
    {
      "cell_type": "code",
      "source": [
        "%%sql\n",
        "select * from Students;"
      ],
      "metadata": {
        "id": "MPbfqShkLrUG"
      },
      "execution_count": null,
      "outputs": []
    },
    {
      "cell_type": "code",
      "source": [
        "%%sql\n",
        "insert into Enrolled values ('S004', 'C123', 'A+');"
      ],
      "metadata": {
        "id": "16V5VHkrLjlJ"
      },
      "execution_count": null,
      "outputs": []
    },
    {
      "cell_type": "code",
      "source": [
        "%%sql\n",
        "-- delete sid S004 from the students table\n",
        "-- fill in here"
      ],
      "metadata": {
        "id": "vViktPLALufr"
      },
      "execution_count": null,
      "outputs": []
    },
    {
      "cell_type": "code",
      "source": [
        "%%sql\n",
        "-- check the enrolled table after delete student id in students table\n",
        "select * from Enrolled;"
      ],
      "metadata": {
        "id": "9L_rb9MgLyRz"
      },
      "execution_count": null,
      "outputs": []
    }
  ],
  "metadata": {
    "kernelspec": {
      "display_name": "Python 3",
      "language": "python",
      "name": "python3"
    },
    "language_info": {
      "codemirror_mode": {
        "name": "ipython",
        "version": 3
      },
      "file_extension": ".py",
      "mimetype": "text/x-python",
      "name": "python",
      "nbconvert_exporter": "python",
      "pygments_lexer": "ipython3",
      "version": "3.6.9"
    },
    "colab": {
      "provenance": [],
      "include_colab_link": true
    }
  },
  "nbformat": 4,
  "nbformat_minor": 0
}