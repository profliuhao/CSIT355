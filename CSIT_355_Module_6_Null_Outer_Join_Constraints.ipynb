{
  "cells": [
    {
      "cell_type": "markdown",
      "metadata": {
        "id": "view-in-github",
        "colab_type": "text"
      },
      "source": [
        "<a href=\"https://colab.research.google.com/github/profliuhao/CSIT355/blob/main/CSIT_355_Module_6_Null_Outer_Join_Constraints.ipynb\" target=\"_parent\"><img src=\"https://colab.research.google.com/assets/colab-badge.svg\" alt=\"Open In Colab\"/></a>"
      ]
    },
    {
      "cell_type": "markdown",
      "metadata": {
        "id": "32cqsmxwCNJI"
      },
      "source": [
        "CSIT 355 In Class Exercise: NULL, Outer Join & More Constraints\n",
        "============================================="
      ]
    },
    {
      "cell_type": "code",
      "execution_count": null,
      "metadata": {
        "id": "UVue5y8YCNJK"
      },
      "outputs": [],
      "source": [
        "#Let's connect to a database **lab4.db** using:\n",
        "%load_ext sql\n",
        "#%reload_ext sql\n",
        "%sql sqlite:///lab4.db"
      ]
    },
    {
      "cell_type": "markdown",
      "metadata": {
        "id": "ZQVqPERbCNJL"
      },
      "source": [
        "\n",
        "## Exercise: Outer Join\n",
        "We are going to work on the following three tables:\n",
        "1. Game(<u>Team</u>:string, wins:integer, losses:integer)\n",
        "\n",
        "2. Arena(<u>Arena</u>:string, <u>city</u>:string, team:string)\n"
      ]
    },
    {
      "cell_type": "code",
      "execution_count": null,
      "metadata": {
        "colab": {
          "base_uri": "https://localhost:8080/"
        },
        "id": "iM84yPKcCNJL",
        "outputId": "4dc2eae8-d715-4dc3-9af7-800f04a6e58b"
      },
      "outputs": [
        {
          "output_type": "stream",
          "name": "stdout",
          "text": [
            " * sqlite:///lab4.db\n",
            "Done.\n",
            "Done.\n",
            "Done.\n",
            "Done.\n"
          ]
        },
        {
          "output_type": "execute_result",
          "data": {
            "text/plain": [
              "[]"
            ]
          },
          "metadata": {},
          "execution_count": 2
        }
      ],
      "source": [
        "%%sql\n",
        "drop table if exists game;\n",
        "drop table if exists arena;\n",
        "CREATE TABLE game(\n",
        "       team        varchar primary key,\n",
        "       wins     integer,\n",
        "       losses   integer\n",
        ");\n",
        "\n",
        "CREATE TABLE arena(\n",
        "       arena        varchar primary key,\n",
        "       city        varchar,\n",
        "       team        varchar,\n",
        "       Foreign key (team) references game\n",
        ");"
      ]
    },
    {
      "cell_type": "code",
      "execution_count": null,
      "metadata": {
        "scrolled": true,
        "colab": {
          "base_uri": "https://localhost:8080/"
        },
        "id": "05SD9fX1CNJM",
        "outputId": "933ec492-3bbf-4e3a-87d1-85f09623de83"
      },
      "outputs": [
        {
          "output_type": "stream",
          "name": "stdout",
          "text": [
            " * sqlite:///lab4.db\n",
            "1 rows affected.\n",
            "1 rows affected.\n",
            "1 rows affected.\n",
            "1 rows affected.\n",
            "1 rows affected.\n",
            "1 rows affected.\n",
            "1 rows affected.\n",
            "1 rows affected.\n"
          ]
        },
        {
          "output_type": "execute_result",
          "data": {
            "text/plain": [
              "[]"
            ]
          },
          "metadata": {},
          "execution_count": 3
        }
      ],
      "source": [
        "%%sql\n",
        "insert into game values('Boston Celtics', 53, 29);\n",
        "insert into game values('New York Knicks', 31, 51);\n",
        "insert into game values('Brooklyn Nets', 20, 62);\n",
        "insert into game values('Huston Rockets', 65, 17);\n",
        "insert into arena values('Barclays Center', 'New York', 'Brooklyn Nets');\n",
        "insert into arena values('Madison Square Garden', 'New York', 'New York Knicks');\n",
        "insert into arena values('TD Garden', 'Boston', 'Boston Celtics');\n",
        "insert into arena values('United Center', 'Chicago', 'Chicago Bulls');"
      ]
    },
    {
      "cell_type": "code",
      "execution_count": null,
      "metadata": {
        "scrolled": true,
        "colab": {
          "base_uri": "https://localhost:8080/",
          "height": 159
        },
        "id": "o4Bd_UVpCNJM",
        "outputId": "918bf242-34fe-419b-bbec-09986781d74c"
      },
      "outputs": [
        {
          "output_type": "stream",
          "name": "stdout",
          "text": [
            " * sqlite:///lab4.db\n",
            "Done.\n"
          ]
        },
        {
          "output_type": "execute_result",
          "data": {
            "text/plain": [
              "[('Boston Celtics', 53, 29),\n",
              " ('New York Knicks', 31, 51),\n",
              " ('Brooklyn Nets', 20, 62),\n",
              " ('Huston Rockets', 65, 17)]"
            ],
            "text/html": [
              "<table>\n",
              "    <thead>\n",
              "        <tr>\n",
              "            <th>team</th>\n",
              "            <th>wins</th>\n",
              "            <th>losses</th>\n",
              "        </tr>\n",
              "    </thead>\n",
              "    <tbody>\n",
              "        <tr>\n",
              "            <td>Boston Celtics</td>\n",
              "            <td>53</td>\n",
              "            <td>29</td>\n",
              "        </tr>\n",
              "        <tr>\n",
              "            <td>New York Knicks</td>\n",
              "            <td>31</td>\n",
              "            <td>51</td>\n",
              "        </tr>\n",
              "        <tr>\n",
              "            <td>Brooklyn Nets</td>\n",
              "            <td>20</td>\n",
              "            <td>62</td>\n",
              "        </tr>\n",
              "        <tr>\n",
              "            <td>Huston Rockets</td>\n",
              "            <td>65</td>\n",
              "            <td>17</td>\n",
              "        </tr>\n",
              "    </tbody>\n",
              "</table>"
            ]
          },
          "metadata": {},
          "execution_count": 4
        }
      ],
      "source": [
        "%sql select * from game"
      ]
    },
    {
      "cell_type": "code",
      "execution_count": null,
      "metadata": {
        "scrolled": true,
        "colab": {
          "base_uri": "https://localhost:8080/",
          "height": 159
        },
        "id": "oQKvSfFjCNJM",
        "outputId": "c88502ba-356f-4fd2-e7f2-e2d164f04015"
      },
      "outputs": [
        {
          "output_type": "stream",
          "name": "stdout",
          "text": [
            " * sqlite:///lab4.db\n",
            "Done.\n"
          ]
        },
        {
          "output_type": "execute_result",
          "data": {
            "text/plain": [
              "[('Barclays Center', 'New York', 'Brooklyn Nets'),\n",
              " ('Madison Square Garden', 'New York', 'New York Knicks'),\n",
              " ('TD Garden', 'Boston', 'Boston Celtics'),\n",
              " ('United Center', 'Chicago', 'Chicago Bulls')]"
            ],
            "text/html": [
              "<table>\n",
              "    <thead>\n",
              "        <tr>\n",
              "            <th>arena</th>\n",
              "            <th>city</th>\n",
              "            <th>team</th>\n",
              "        </tr>\n",
              "    </thead>\n",
              "    <tbody>\n",
              "        <tr>\n",
              "            <td>Barclays Center</td>\n",
              "            <td>New York</td>\n",
              "            <td>Brooklyn Nets</td>\n",
              "        </tr>\n",
              "        <tr>\n",
              "            <td>Madison Square Garden</td>\n",
              "            <td>New York</td>\n",
              "            <td>New York Knicks</td>\n",
              "        </tr>\n",
              "        <tr>\n",
              "            <td>TD Garden</td>\n",
              "            <td>Boston</td>\n",
              "            <td>Boston Celtics</td>\n",
              "        </tr>\n",
              "        <tr>\n",
              "            <td>United Center</td>\n",
              "            <td>Chicago</td>\n",
              "            <td>Chicago Bulls</td>\n",
              "        </tr>\n",
              "    </tbody>\n",
              "</table>"
            ]
          },
          "metadata": {},
          "execution_count": 5
        }
      ],
      "source": [
        "%sql select * from arena"
      ]
    },
    {
      "cell_type": "markdown",
      "metadata": {
        "id": "IBtjKOueCNJN"
      },
      "source": [
        "### Exercise 1\n",
        "List the names in team and their arena, preserve the teams in **Game** even if they have no arenas in **Arena**.\n"
      ]
    },
    {
      "cell_type": "code",
      "execution_count": null,
      "metadata": {
        "id": "p7wOhSGDCNJN"
      },
      "outputs": [],
      "source": [
        "%%sql\n",
        "\n",
        "\n"
      ]
    },
    {
      "cell_type": "markdown",
      "metadata": {
        "id": "_Se3SSlmCNJN"
      },
      "source": [
        "### Exercise 2\n",
        "List the names in team and their arena, preserve all the arenas in **Arena** even if there is no infomation of their teams in **Game**."
      ]
    },
    {
      "cell_type": "code",
      "execution_count": null,
      "metadata": {
        "id": "3jNDFMBdCNJN"
      },
      "outputs": [],
      "source": [
        "%%sql\n",
        "-- use right join\n",
        "\n"
      ]
    },
    {
      "cell_type": "code",
      "source": [
        "%%sql\n",
        "-- use left join\n"
      ],
      "metadata": {
        "id": "EfiAatQoC7q-"
      },
      "execution_count": null,
      "outputs": []
    },
    {
      "cell_type": "markdown",
      "metadata": {
        "id": "kvX_NRetCNJO"
      },
      "source": [
        "## Exercise： More Constraints\n",
        "\n",
        "\n",
        "Given the following three schemas:\n",
        "\n",
        "sailors(<u>sid</u>:integer, sname:string, rating:integer, age:real)\n",
        "\n",
        "reserves(<u>sid</u>:integer, <u>bid</u>:integer, day:date)\n",
        "\n",
        "boats(<u>bid</u>:integer, bname:string, color:string)"
      ]
    },
    {
      "cell_type": "markdown",
      "metadata": {
        "id": "i3jmWLzMCNJO"
      },
      "source": [
        "### Exercise 3.1\n",
        "Creating the table **Sailors** and constrain the rating range between 1 and 10, and the age range between 0 and 100."
      ]
    },
    {
      "cell_type": "code",
      "source": [
        "%%sql\n",
        "-- Create the \"Sailors\" table\n",
        "drop table if exists Sailors;\n",
        "-- fill in here\n"
      ],
      "metadata": {
        "id": "tfoQm2frFGfA"
      },
      "execution_count": null,
      "outputs": []
    },
    {
      "cell_type": "code",
      "execution_count": null,
      "metadata": {
        "scrolled": false,
        "id": "hYrnuTufCNJO"
      },
      "outputs": [],
      "source": [
        "%%sql\n",
        "-- Create the \"Reserves\" table\n",
        "drop table if exists Reserves;\n",
        "\n",
        "-- fill in here\n",
        "\n",
        "\n",
        "-- Create the \"Boats\" table\n",
        "drop table if exists Boats;\n",
        "\n",
        "-- fill in here\n",
        "\n",
        "\n",
        "\n"
      ]
    },
    {
      "cell_type": "markdown",
      "metadata": {
        "id": "zvl3CfrsCNJO"
      },
      "source": [
        "Execute the following commands to insert tuples in **sailors**."
      ]
    },
    {
      "cell_type": "code",
      "execution_count": null,
      "metadata": {
        "id": "bprr8CaWCNJO"
      },
      "outputs": [],
      "source": [
        "%%sql\n",
        "-- Insert rows into the \"Sailors\" table\n",
        "delete from Sailors;\n",
        "INSERT INTO Sailors (sid, sname, rating, age) VALUES\n",
        "    (22, 'Dustin', 7, 45),\n",
        "    (29, 'Brutus', 1, 33),\n",
        "    (31, 'Lubber', 8, 55.5),\n",
        "    (32, 'Andy', 8, 25.5),\n",
        "    (58, 'Rusty', 10, 35),\n",
        "    (64, 'Horatio', 7, 35),\n",
        "    (71, 'Zorba', 10, 16),\n",
        "    (74, 'Horatio', 9, 35),\n",
        "    (85, 'Art', 3, 25.5),\n",
        "    (95, 'Bob', 3, 63.5);\n",
        "\n",
        "-- Insert rows into the \"Boats\" table\n",
        "delete from Boats;\n",
        "INSERT INTO Boats (bid, name, color) VALUES\n",
        "    (101, 'Interlake', 'blue'),\n",
        "    (102, 'Interlake', 'red'),\n",
        "    (103, 'Clipper', 'green'),\n",
        "    (104, 'Marine', 'red');\n",
        "\n",
        "-- Insert rows into the \"Reserves\" table\n",
        "delete from Reserves;\n",
        "INSERT INTO Reserves (sid, bid, day) VALUES\n",
        "    (22, 101, '10/10/98'),\n",
        "    (22, 102, '10/11/98'),\n",
        "    (22, 103, '10/8/98'),\n",
        "    (22, 104, '10/7/98'),\n",
        "    (31, 102, '11/10/98'),\n",
        "    (31, 103, '10/6/98'),\n",
        "    (31, 104, '11/12/98'),\n",
        "    (64, 101, '9/5/98'),\n",
        "    (64, 102, '9/8/98'),\n",
        "    (74, 103, '9/8/98');"
      ]
    },
    {
      "cell_type": "markdown",
      "metadata": {
        "id": "QOUgDygiCNJO"
      },
      "source": [
        "### Exercise 3.2\n",
        "What will happend if you execute the following statement?"
      ]
    },
    {
      "cell_type": "code",
      "execution_count": null,
      "metadata": {
        "id": "qxWFciKYCNJO"
      },
      "outputs": [],
      "source": [
        "%sql insert into sailors values(101, 'James', 12, 63.5);"
      ]
    },
    {
      "cell_type": "markdown",
      "source": [
        "### Foreign key, update and delete cascade"
      ],
      "metadata": {
        "id": "pNangEJFMoFc"
      }
    },
    {
      "cell_type": "code",
      "source": [
        "%%sql\n",
        "DROP TABLE IF EXISTS Students;\n",
        "\n",
        "CREATE TABLE Students (\n",
        "  sid CHAR(20) PRIMARY KEY,\n",
        "  name CHAR(20),\n",
        "  login CHAR(10),\n",
        "  age INT,\n",
        "  gpa FLOAT\n",
        ");\n",
        "\n",
        "-- insert students values\n",
        "INSERT INTO Students (sid, name, login, age, gpa)\n",
        "VALUES\n",
        "('S000', 'Unknown', 'unknown', 0, 0),\n",
        "  ('S001', 'John Doe', 'johnd', 22, 3.5),\n",
        "  ('S002', 'Jane Smith', 'janes', 20, 3.9),\n",
        "  ('S003', 'Bob Johnson', 'bobj', 21, 3.2),\n",
        "  ('S004', 'Alice Brown', 'aliceb', 23, 3.7),\n",
        "  ('S005', 'Eva Wilson', 'evaw', 19, 3.8);"
      ],
      "metadata": {
        "id": "RdpFZXCYMmjv"
      },
      "execution_count": null,
      "outputs": []
    },
    {
      "cell_type": "code",
      "source": [
        "%%sql\n",
        "-- Create the Enrolled table\n",
        "-- on delete sid, set default to S000\n",
        "-- on update sid, cascade\n",
        "DROP TABLE IF EXISTS Enrolled;\n",
        "\n",
        "-- fill in here\n",
        "\n",
        "\n"
      ],
      "metadata": {
        "id": "yRZZTbrLJXxu"
      },
      "execution_count": null,
      "outputs": []
    },
    {
      "cell_type": "code",
      "source": [
        "%%sql\n",
        "PRAGMA foreign_keys = ON;\n",
        "-- PRAGMA foreign_keys = OFF;\n",
        "-- PRAGMA table_info([Enrolled]);\n"
      ],
      "metadata": {
        "id": "V_oRmVjdKpZ0"
      },
      "execution_count": null,
      "outputs": []
    },
    {
      "cell_type": "code",
      "source": [
        "%%sql\n",
        "select * from Students;"
      ],
      "metadata": {
        "id": "K2po9ILVJfId"
      },
      "execution_count": null,
      "outputs": []
    },
    {
      "cell_type": "code",
      "source": [
        "%%sql\n",
        "insert into Enrolled values ('S002', 'C123', 'A+');"
      ],
      "metadata": {
        "id": "cHjEsLZaJ0um"
      },
      "execution_count": null,
      "outputs": []
    },
    {
      "cell_type": "code",
      "source": [
        "%%sql\n",
        "-- Insert a record into Enrolled with an invalid sid value\n",
        "INSERT INTO Enrolled (sid, cid, grade)\n",
        "VALUES ('S006', 'C004', 'B');\n"
      ],
      "metadata": {
        "id": "hwIVJK6uJkR8"
      },
      "execution_count": null,
      "outputs": []
    },
    {
      "cell_type": "code",
      "source": [
        "%%sql\n",
        "-- check the enrolled table before update student id\n",
        "select * from Enrolled;"
      ],
      "metadata": {
        "id": "mtlaM1OIKA0k"
      },
      "execution_count": null,
      "outputs": []
    },
    {
      "cell_type": "code",
      "source": [
        "%%sql\n",
        "-- update sid 'S002' with 'S022' from the students table\n",
        "-- fill in here"
      ],
      "metadata": {
        "id": "xBhfWQRLH9Fn"
      },
      "execution_count": null,
      "outputs": []
    },
    {
      "cell_type": "code",
      "source": [
        "%%sql\n",
        "-- check  the enrolled table  after update student id in students table\n",
        "select * from Enrolled;"
      ],
      "metadata": {
        "id": "Mz-6Oy9vIWi2"
      },
      "execution_count": null,
      "outputs": []
    },
    {
      "cell_type": "code",
      "source": [
        "%%sql\n",
        "-- delete sid = 'S022' from the students table\n",
        "-- fill in here"
      ],
      "metadata": {
        "colab": {
          "base_uri": "https://localhost:8080/"
        },
        "id": "1wt6vmwpHVg9",
        "outputId": "57b2acb4-c411-4988-a0a2-81b57ed33d6c"
      },
      "execution_count": null,
      "outputs": [
        {
          "output_type": "stream",
          "name": "stdout",
          "text": [
            " * sqlite:///lab4.db\n",
            "1 rows affected.\n"
          ]
        },
        {
          "output_type": "execute_result",
          "data": {
            "text/plain": [
              "[]"
            ]
          },
          "metadata": {},
          "execution_count": 56
        }
      ]
    },
    {
      "cell_type": "code",
      "source": [
        "%%sql\n",
        "-- check the enrolled table after delete student id in students table\n",
        "select * from Enrolled;"
      ],
      "metadata": {
        "id": "mNbip2CwKdvg"
      },
      "execution_count": null,
      "outputs": []
    },
    {
      "cell_type": "markdown",
      "source": [
        "### Delete on cascade\n"
      ],
      "metadata": {
        "id": "rdp_n6dkLSb-"
      }
    },
    {
      "cell_type": "code",
      "source": [
        "%%sql\n",
        "PRAGMA foreign_keys = OFF;"
      ],
      "metadata": {
        "id": "OrjWEYAgLbiR"
      },
      "execution_count": null,
      "outputs": []
    },
    {
      "cell_type": "code",
      "source": [
        "%%sql\n",
        "-- Create the Enrolled table\n",
        "-- on delete sid, cascade\n",
        "-- on update sid, cascade\n",
        "DROP TABLE IF EXISTS Enrolled;\n",
        "\n",
        "-- fill in here"
      ],
      "metadata": {
        "id": "2MxBShTZLZGa"
      },
      "execution_count": null,
      "outputs": []
    },
    {
      "cell_type": "code",
      "source": [
        "%%sql\n",
        "PRAGMA foreign_keys = ON;\n"
      ],
      "metadata": {
        "id": "ueYWgA88Lh2v"
      },
      "execution_count": null,
      "outputs": []
    },
    {
      "cell_type": "code",
      "source": [
        "%%sql\n",
        "select * from Students;"
      ],
      "metadata": {
        "id": "MPbfqShkLrUG"
      },
      "execution_count": null,
      "outputs": []
    },
    {
      "cell_type": "code",
      "source": [
        "%%sql\n",
        "insert into Enrolled values ('S004', 'C123', 'A+');"
      ],
      "metadata": {
        "id": "16V5VHkrLjlJ"
      },
      "execution_count": null,
      "outputs": []
    },
    {
      "cell_type": "code",
      "source": [
        "%%sql\n",
        "-- delete sid S004 from the students table\n",
        "-- fill in here"
      ],
      "metadata": {
        "id": "vViktPLALufr"
      },
      "execution_count": null,
      "outputs": []
    },
    {
      "cell_type": "code",
      "source": [
        "%%sql\n",
        "-- check the enrolled table after delete student id in students table\n",
        "select * from Enrolled;"
      ],
      "metadata": {
        "id": "9L_rb9MgLyRz"
      },
      "execution_count": null,
      "outputs": []
    }
  ],
  "metadata": {
    "kernelspec": {
      "display_name": "Python 3",
      "language": "python",
      "name": "python3"
    },
    "language_info": {
      "codemirror_mode": {
        "name": "ipython",
        "version": 3
      },
      "file_extension": ".py",
      "mimetype": "text/x-python",
      "name": "python",
      "nbconvert_exporter": "python",
      "pygments_lexer": "ipython3",
      "version": "3.6.9"
    },
    "colab": {
      "provenance": [],
      "toc_visible": true,
      "include_colab_link": true
    }
  },
  "nbformat": 4,
  "nbformat_minor": 0
}