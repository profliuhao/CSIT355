{
  "cells": [
    {
      "cell_type": "markdown",
      "metadata": {
        "id": "CE-7x0ppuDNb"
      },
      "source": [
        "# Lab 3: SQL Aggregation Queries\n",
        "\n",
        "### [name]\n",
        "### [student ID]"
      ]
    },
    {
      "cell_type": "markdown",
      "metadata": {
        "id": "GLP6EsuBuDNc"
      },
      "source": [
        "## Instruction\n",
        "You need to finish all questions of In-class exercises. Name your ipynb file as StudentName_lab3.ipynb and download it as .py file. And then submit it on Canvas.\n",
        "\n",
        "PLEASE ENSURE THAT THE SCRIPT CAN CORRECTLY EXECUTE!!!"
      ]
    },
    {
      "cell_type": "code",
      "execution_count": null,
      "metadata": {
        "id": "kW_1_vWfuDNc"
      },
      "outputs": [],
      "source": [
        "#Let's connect to a database **lab3.db** using:\n",
        "%load_ext sql\n",
        "#%reload_ext sql\n",
        "%sql sqlite:///lab3.db"
      ]
    },
    {
      "cell_type": "markdown",
      "metadata": {
        "id": "hNhrqojpuDNd"
      },
      "source": [
        "We will continue to use the following three tables.\n",
        "\n",
        "1. Employee(<u>eid</u>:integer, ename:string, age:integer, salary:real)\n",
        "\n",
        "2. Works(<u>eid</u>:integer, <u>did</u>:integer, pct_time:integer)\n",
        "\n",
        "3. Department(<u>did</u>:integer, dname:string, budge:real, managerid:integer)\n",
        "\n",
        "The keys are underlined in each relation. Relation **Employee** stores employee information such as unique identifier **eid**, employee name **ename**, **age** and **salary**. Relation **Department** stores the department unique identifier **did**, department name **dname**, the department **budget** and **managerid** which is the **eid** of the employee who is managing the department. The **managerid** value must always be found in the **eid** field of a record of the Employee relation. The Works relation tracks which\n",
        "employee works in which department, and what **percentage** of the time s/he allocates to that department. Note that, an employee can work in several departments."
      ]
    },
    {
      "cell_type": "code",
      "source": [
        "%%sql\n",
        "CREATE TABLE Employee (eid integer PRIMARY KEY,\n",
        "                       ename varchar(20),\n",
        "                       age integer,\n",
        "                       salary number(8,2));\n",
        "CREATE TABLE Department (did integer PRIMARY KEY,\n",
        "                         dname varchar(20),\n",
        "                         budget number(8,2),\n",
        "                         managerid integer,\n",
        "                         FOREIGN KEY (managerid) REFERENCES Employee(eid));\n",
        "CREATE TABLE Works (eid integer,\n",
        "                    did integer,\n",
        "                    pct_time integer,\n",
        "                    PRIMARY KEY(eid, did),\n",
        "                    FOREIGN KEY (eid) REFERENCES Employee,\n",
        "                    FOREIGN KEY (did) REFERENCES Department);"
      ],
      "metadata": {
        "id": "qO0PL6HGu_Pv"
      },
      "execution_count": null,
      "outputs": []
    },
    {
      "cell_type": "markdown",
      "metadata": {
        "id": "TAs5-lfsuDNd"
      },
      "source": [
        "\n",
        "1. Employee\n",
        "\n",
        "| eid     | ename         | age | salary |  \n",
        "|---------|---------------|-----|--------|\n",
        "| 101     | Andrew Fuller | 40  | 50000  |\n",
        "| 102     | Justin Peacock| 25  | 15000  |\n",
        "| 103     | Nancy Buchanan| 35  | 30000  |\n",
        "| 104     | Robert King   | 30  | 20000  |\n",
        "\n",
        "2. Works:\n",
        "\n",
        "| eid     | did  | pct_time |\n",
        "|---------|------|----------|\n",
        "| 101     | 1001 | 100      |\n",
        "| 102     | 1001 | 20       |\n",
        "| 102     | 1002 | 50       |\n",
        "| 102     | 1003 | 10       |\n",
        "| 103     | 1003 | 90       |\n",
        "| 103     | 1001 | 10       |\n",
        "| 104     | 1001 | 20       |\n",
        "| 104     | 1002 | 70       |\n",
        "\n",
        "3. Department:\n",
        "\n",
        "| did     | dname    | budget  | managerid |\n",
        "|---------|----------|---------|-----------|\n",
        "| 1001    | IT       | 500000  | 101       |\n",
        "| 1002    | Computing| 750000  | 110       |\n",
        "| 1003    | Finance  | 350000  | 103       |\n",
        "\n",
        "\n"
      ]
    },
    {
      "cell_type": "code",
      "source": [
        "%%sql\n",
        "DELETE FROM Employee;\n",
        "DELETE FROM Works;\n",
        "DELETE FROM Department;\n",
        "insert into Employee values ( 101,'Andrew Fuller', 40, 50000);\n",
        "insert into Employee values ( 102, 'Justin Peacock', 25, 20000);\n",
        "insert into Employee values ( 103, 'Nancy Buchanan', 35, 30000);\n",
        "insert into Employee values ( 104, 'Robert King', 30, 20000);\n",
        "\n",
        "insert into Department values (1001, 'IT', 500000, 101);\n",
        "insert into Department values (1002, 'Computing', 750000, 110);\n",
        "insert into Department values (1003, 'Finance', 350000, 103);\n",
        "\n",
        "insert into Works values (101, 1001, 100);\n",
        "insert into Works values (102, 1001, 20);\n",
        "insert into Works values (102, 1002, 50);\n",
        "insert into Works values (102, 1003, 10);\n",
        "insert into Works values (103, 1003, 90);\n",
        "insert into Works values (103, 1001, 10);\n",
        "insert into Works values (104, 1001, 20);\n",
        "insert into Works values (104, 1002, 70);"
      ],
      "metadata": {
        "id": "Uh4EQcvTvLFX"
      },
      "execution_count": null,
      "outputs": []
    },
    {
      "cell_type": "code",
      "execution_count": null,
      "metadata": {
        "id": "XYGwWDfHuDNd"
      },
      "outputs": [],
      "source": [
        "%sql Select * from Employee"
      ]
    },
    {
      "cell_type": "code",
      "source": [
        "%sql Select * from Works"
      ],
      "metadata": {
        "id": "GrgIefqOvTIT"
      },
      "execution_count": null,
      "outputs": []
    },
    {
      "cell_type": "code",
      "source": [
        "%sql Select * from Department"
      ],
      "metadata": {
        "id": "wks9Z1RSvTAj"
      },
      "execution_count": null,
      "outputs": []
    },
    {
      "cell_type": "markdown",
      "metadata": {
        "id": "QZnPeb2wuDNd"
      },
      "source": [
        "## In-class Assignment"
      ]
    },
    {
      "cell_type": "markdown",
      "metadata": {
        "id": "9v44QwPguDNd"
      },
      "source": [
        "### Exercise 1  \n",
        "Find the average salary over all employees."
      ]
    },
    {
      "cell_type": "code",
      "execution_count": null,
      "metadata": {
        "id": "rV6sY7TAuDNd"
      },
      "outputs": [],
      "source": [
        "\n",
        "\n",
        "\n",
        "\n"
      ]
    },
    {
      "cell_type": "markdown",
      "metadata": {
        "id": "19qKaK9ruDNe"
      },
      "source": [
        "### Exercise 2\n",
        "Find the average age of employees for each department where every employee is 30 years old or\n",
        "younger. Please list the corresponding department id as well."
      ]
    },
    {
      "cell_type": "code",
      "execution_count": null,
      "metadata": {
        "id": "4oTvqW5SuDNe"
      },
      "outputs": [],
      "source": [
        "\n",
        "\n",
        "\n",
        "\n"
      ]
    },
    {
      "cell_type": "markdown",
      "metadata": {
        "id": "noMt3oHsuDNe"
      },
      "source": [
        "### Exercise 3  \n",
        "Find for each manager (listed in the output by eid) the average salary of employees working for\n",
        "that manager."
      ]
    },
    {
      "cell_type": "code",
      "execution_count": null,
      "metadata": {
        "id": "cIqgxoWYuDNe"
      },
      "outputs": [],
      "source": [
        "\n",
        "\n",
        "\n"
      ]
    },
    {
      "cell_type": "markdown",
      "metadata": {
        "id": "4SC4hoiQuDNe"
      },
      "source": [
        "### Exercise 4\n",
        "Find the maximum salary among employees 30 years old or yonger for each department with at least 2 employees of any age. Please list the corresponding department id as well."
      ]
    },
    {
      "cell_type": "code",
      "execution_count": null,
      "metadata": {
        "id": "MJH4TxbbuDNe"
      },
      "outputs": [],
      "source": [
        "\n",
        "\n",
        "\n"
      ]
    }
  ],
  "metadata": {
    "kernelspec": {
      "display_name": "Python 3",
      "language": "python",
      "name": "python3"
    },
    "language_info": {
      "codemirror_mode": {
        "name": "ipython",
        "version": 3
      },
      "file_extension": ".py",
      "mimetype": "text/x-python",
      "name": "python",
      "nbconvert_exporter": "python",
      "pygments_lexer": "ipython3",
      "version": "3.6.9"
    },
    "colab": {
      "provenance": []
    }
  },
  "nbformat": 4,
  "nbformat_minor": 0
}