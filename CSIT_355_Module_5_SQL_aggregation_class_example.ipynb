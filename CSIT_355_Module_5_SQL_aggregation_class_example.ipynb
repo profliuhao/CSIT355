{
  "cells": [
    {
      "cell_type": "markdown",
      "metadata": {
        "id": "view-in-github",
        "colab_type": "text"
      },
      "source": [
        "<a href=\"https://colab.research.google.com/github/profliuhao/CSIT355/blob/main/CSIT_355_Module_5_SQL_aggregation_class_example.ipynb\" target=\"_parent\"><img src=\"https://colab.research.google.com/assets/colab-badge.svg\" alt=\"Open In Colab\"/></a>"
      ]
    },
    {
      "cell_type": "markdown",
      "metadata": {
        "id": "CE-7x0ppuDNb"
      },
      "source": [
        "# Lab 3: SQL Aggregation Queries\n",
        "\n",
        "### [name]\n",
        "### [student ID]"
      ]
    },
    {
      "cell_type": "markdown",
      "metadata": {
        "id": "GLP6EsuBuDNc"
      },
      "source": [
        "## Instruction\n",
        "You need to finish all questions of In-class exercises. Name your ipynb file as StudentName_lab3.ipynb and download it as .py file. And then submit it on Canvas.\n",
        "\n",
        "PLEASE ENSURE THAT THE SCRIPT CAN CORRECTLY EXECUTE!!!"
      ]
    },
    {
      "cell_type": "code",
      "execution_count": 1,
      "metadata": {
        "id": "kW_1_vWfuDNc"
      },
      "outputs": [],
      "source": [
        "#Let's connect to a database **lab3.db** using:\n",
        "%load_ext sql\n",
        "#%reload_ext sql\n",
        "%sql sqlite:///lab3.db"
      ]
    },
    {
      "cell_type": "markdown",
      "source": [
        "# Product Schema Description\n",
        "\n",
        "## Table: Product\n",
        "\n",
        "| Field Name | Data Type | Description |\n",
        "|------------|-----------|-------------|\n",
        "| PName | VARCHAR(100) | Product Name |\n",
        "| Price | DECIMAL(10, 2) | Product Price |\n",
        "| Category | VARCHAR(50) | Product Category |\n",
        "| Maker | VARCHAR(50) | Product Manufacturer |\n",
        "| Year | INT | Manufacturing Year |\n",
        "\n",
        "### Field Descriptions\n",
        "\n",
        "#### PName (VARCHAR(100))\n",
        "- Stands for \"Product Name\"\n",
        "- Stores the name or model of the product\n",
        "- **Example**: \"Corolla\", \"F-150\", \"Model 3\"\n",
        "\n",
        "#### Price (DECIMAL(10, 2))\n",
        "- Represents the price of the product\n",
        "- Stored as a decimal number with up to 10 digits in total, including 2 decimal places\n",
        "- **Example**: 20000.00, 45000.00\n",
        "\n",
        "#### Category (VARCHAR(50))\n",
        "- Indicates the category or type of the product\n",
        "- Helps in classifying products into groups\n",
        "- **Example**: \"Sedan\", \"Truck\", \"Electric\"\n",
        "\n",
        "#### Maker (VARCHAR(50))\n",
        "- Specifies the manufacturer or brand of the product\n",
        "- Useful for grouping products by their makers\n",
        "- **Example**: \"Toyota\", \"Ford\", \"Tesla\"\n",
        "\n",
        "#### Year (INT)\n",
        "- Represents the manufacturing year of the product\n",
        "- Stored as an integer value\n",
        "- **Example**: 2022, 2023\n",
        "\n",
        "### Schema Usage\n",
        "\n",
        "This schema allows for various queries and analyses, such as:\n",
        "\n",
        "- Finding products by category, maker, or year\n",
        "- Calculating average prices for specific makers or categories\n",
        "- Identifying the newest or oldest products\n",
        "- Determining the price range of products\n",
        "\n",
        "### Design Considerations\n",
        "\n",
        "1. **Data Types**:\n",
        "   - VARCHAR for text fields allows flexibility in string length\n",
        "   - DECIMAL for Price ensures precise storage of monetary values\n",
        "   - INT for Year is sufficient for four-digit year values\n",
        "\n",
        "2. **Normalization**:\n",
        "   - This schema is in a denormalized form\n",
        "   - Consider separating Maker into its own table for further normalization\n",
        "\n",
        "3. **Indexing**:\n",
        "   - Potential index candidates: Maker, Category, Year\n",
        "\n",
        "4. **Constraints**:\n",
        "   - Consider adding NOT NULL constraints where appropriate\n",
        "   - Possible CHECK constraints:\n",
        "     - Year <= CURRENT_YEAR\n",
        "     - Price > 0"
      ],
      "metadata": {
        "id": "bZGKn5UsaLAl"
      }
    },
    {
      "cell_type": "code",
      "source": [
        "%%sql\n",
        "-- Create the Product table\n",
        "CREATE TABLE Product (\n",
        "    PName VARCHAR(100),\n",
        "    Price DECIMAL(10, 2),\n",
        "    Category VARCHAR(50),\n",
        "    Maker VARCHAR(50),\n",
        "    Year INT\n",
        ");\n",
        "\n",
        "-- Insert sample data\n",
        "INSERT INTO Product (PName, Price, Category, Maker, Year) VALUES\n",
        "('Corolla', 20000.00, 'Sedan', 'Toyota', 2022),\n",
        "('Camry', 25000.00, 'Sedan', 'Toyota', 2023),\n",
        "('Civic', 22000.00, 'Sedan', 'Honda', 2022),\n",
        "('F-150', 45000.00, 'Truck', 'Ford', 2023),\n",
        "('Model 3', 40000.00, 'Electric', 'Tesla', 2023),\n",
        "('Altima', 23000.00, 'Sedan', 'Nissan', 2022),\n",
        "('Mustang', 35000.00, 'Sports Car', 'Ford', 1995),\n",
        "('Prius', 28000.00, 'Hybrid', 'Toyota', 2023),\n",
        "('Accord', 27000.00, 'Sedan', 'Honda', 2023),\n",
        "('RAV4', 30000.00, 'SUV', 'Toyota', 2022);\n",
        "\n"
      ],
      "metadata": {
        "colab": {
          "base_uri": "https://localhost:8080/"
        },
        "id": "nBZPvIuKaKq2",
        "outputId": "d73d9763-7d5d-4766-fb85-775c04cda042"
      },
      "execution_count": 2,
      "outputs": [
        {
          "output_type": "stream",
          "name": "stdout",
          "text": [
            " * sqlite:///lab3.db\n",
            "Done.\n",
            "10 rows affected.\n"
          ]
        },
        {
          "output_type": "execute_result",
          "data": {
            "text/plain": [
              "[]"
            ]
          },
          "metadata": {},
          "execution_count": 2
        }
      ]
    },
    {
      "cell_type": "code",
      "source": [
        "%%sql\n",
        "\n",
        "-- Query 1: Count products after 1995\n",
        "SELECT COUNT(*) FROM Product WHERE Year > 1995;\n",
        "\n"
      ],
      "metadata": {
        "colab": {
          "base_uri": "https://localhost:8080/",
          "height": 96
        },
        "id": "sF92qs1yaL7u",
        "outputId": "c6093937-4c52-473d-949b-847af12ec566"
      },
      "execution_count": 3,
      "outputs": [
        {
          "output_type": "stream",
          "name": "stdout",
          "text": [
            " * sqlite:///lab3.db\n",
            "Done.\n"
          ]
        },
        {
          "output_type": "execute_result",
          "data": {
            "text/plain": [
              "[(9,)]"
            ],
            "text/html": [
              "<table>\n",
              "    <thead>\n",
              "        <tr>\n",
              "            <th>COUNT(*)</th>\n",
              "        </tr>\n",
              "    </thead>\n",
              "    <tbody>\n",
              "        <tr>\n",
              "            <td>9</td>\n",
              "        </tr>\n",
              "    </tbody>\n",
              "</table>"
            ]
          },
          "metadata": {},
          "execution_count": 3
        }
      ]
    },
    {
      "cell_type": "code",
      "source": [
        "%%sql\n",
        "-- Query 2: Average price of Toyota products\n",
        "SELECT AVG(Price) FROM Product WHERE Maker = 'Toyota';\n",
        "\n"
      ],
      "metadata": {
        "colab": {
          "base_uri": "https://localhost:8080/",
          "height": 96
        },
        "id": "Y6OnLhUhaR55",
        "outputId": "44bbad90-d30f-4085-e839-c526e542ff71"
      },
      "execution_count": 4,
      "outputs": [
        {
          "output_type": "stream",
          "name": "stdout",
          "text": [
            " * sqlite:///lab3.db\n",
            "Done.\n"
          ]
        },
        {
          "output_type": "execute_result",
          "data": {
            "text/plain": [
              "[(25750.0,)]"
            ],
            "text/html": [
              "<table>\n",
              "    <thead>\n",
              "        <tr>\n",
              "            <th>AVG(Price)</th>\n",
              "        </tr>\n",
              "    </thead>\n",
              "    <tbody>\n",
              "        <tr>\n",
              "            <td>25750.0</td>\n",
              "        </tr>\n",
              "    </tbody>\n",
              "</table>"
            ]
          },
          "metadata": {},
          "execution_count": 4
        }
      ]
    },
    {
      "cell_type": "code",
      "source": [
        "%%sql\n",
        "\n",
        "-- Query 3: Product(s) with the highest price\n",
        "SELECT P.PName\n",
        "FROM Product P\n",
        "WHERE P.Price = (SELECT MAX(P2.Price) FROM Product P2);"
      ],
      "metadata": {
        "colab": {
          "base_uri": "https://localhost:8080/",
          "height": 96
        },
        "id": "rffPeCgVaRtT",
        "outputId": "0d2f185f-2fe2-43a8-edb7-00b9d56cf7df"
      },
      "execution_count": 5,
      "outputs": [
        {
          "output_type": "stream",
          "name": "stdout",
          "text": [
            " * sqlite:///lab3.db\n",
            "Done.\n"
          ]
        },
        {
          "output_type": "execute_result",
          "data": {
            "text/plain": [
              "[('F-150',)]"
            ],
            "text/html": [
              "<table>\n",
              "    <thead>\n",
              "        <tr>\n",
              "            <th>PName</th>\n",
              "        </tr>\n",
              "    </thead>\n",
              "    <tbody>\n",
              "        <tr>\n",
              "            <td>F-150</td>\n",
              "        </tr>\n",
              "    </tbody>\n",
              "</table>"
            ]
          },
          "metadata": {},
          "execution_count": 5
        }
      ]
    },
    {
      "cell_type": "markdown",
      "source": [],
      "metadata": {
        "id": "DFHfZdtcblx5"
      }
    },
    {
      "cell_type": "code",
      "execution_count": 6,
      "metadata": {
        "id": "MJH4TxbbuDNe",
        "colab": {
          "base_uri": "https://localhost:8080/"
        },
        "outputId": "973cb555-107e-432c-b6d6-8ffe719588d0"
      },
      "outputs": [
        {
          "output_type": "stream",
          "name": "stdout",
          "text": [
            " * sqlite:///lab3.db\n",
            "Done.\n",
            "8 rows affected.\n"
          ]
        },
        {
          "output_type": "execute_result",
          "data": {
            "text/plain": [
              "[]"
            ]
          },
          "metadata": {},
          "execution_count": 6
        }
      ],
      "source": [
        "%%sql\n",
        "-- Create the Purchase table\n",
        "CREATE TABLE Purchase (\n",
        "    Product VARCHAR(50),\n",
        "    Date DATE,\n",
        "    Price DECIMAL(10, 2),\n",
        "    Quantity INT\n",
        ");\n",
        "\n",
        "-- Insert sample data\n",
        "INSERT INTO Purchase (Product, Date, Price, Quantity) VALUES\n",
        "('Bagel', '2005-10-21', 1.00, 20),\n",
        "('Bagel', '2005-10-25', 1.50, 20),\n",
        "('Banana', '2005-10-03', 0.50, 10),\n",
        "('Banana', '2005-10-10', 1.00, 10),\n",
        "('Apple', '2005-09-30', 0.75, 15),\n",
        "('Apple', '2005-10-05', 0.80, 15),\n",
        "('Orange', '2005-10-15', 0.60, 25),\n",
        "('Orange', '2005-10-20', 0.70, 25);\n",
        "\n",
        "\n"
      ]
    },
    {
      "cell_type": "code",
      "source": [
        "%%sql\n",
        "-- The query to calculate total sales per product after 10/1/2005\n",
        "SELECT\n",
        "    Product,\n",
        "    SUM(Price * Quantity) AS TotalSales\n",
        "FROM\n",
        "    Purchase\n",
        "WHERE\n",
        "    Date > '2005-10-01'\n",
        "GROUP BY\n",
        "    Product;"
      ],
      "metadata": {
        "colab": {
          "base_uri": "https://localhost:8080/",
          "height": 160
        },
        "id": "4GT1y8xQbpo-",
        "outputId": "c254042e-9ec5-420a-be4a-f7ceb3d201b3"
      },
      "execution_count": 7,
      "outputs": [
        {
          "output_type": "stream",
          "name": "stdout",
          "text": [
            " * sqlite:///lab3.db\n",
            "Done.\n"
          ]
        },
        {
          "output_type": "execute_result",
          "data": {
            "text/plain": [
              "[('Apple', 12.0), ('Bagel', 50.0), ('Banana', 15.0), ('Orange', 32.5)]"
            ],
            "text/html": [
              "<table>\n",
              "    <thead>\n",
              "        <tr>\n",
              "            <th>Product</th>\n",
              "            <th>TotalSales</th>\n",
              "        </tr>\n",
              "    </thead>\n",
              "    <tbody>\n",
              "        <tr>\n",
              "            <td>Apple</td>\n",
              "            <td>12.0</td>\n",
              "        </tr>\n",
              "        <tr>\n",
              "            <td>Bagel</td>\n",
              "            <td>50.0</td>\n",
              "        </tr>\n",
              "        <tr>\n",
              "            <td>Banana</td>\n",
              "            <td>15.0</td>\n",
              "        </tr>\n",
              "        <tr>\n",
              "            <td>Orange</td>\n",
              "            <td>32.5</td>\n",
              "        </tr>\n",
              "    </tbody>\n",
              "</table>"
            ]
          },
          "metadata": {},
          "execution_count": 7
        }
      ]
    },
    {
      "cell_type": "code",
      "source": [
        "%%sql\n",
        "-- The query to calculate total sales per product after 10/1/2005 with more than 10 items\n",
        "SELECT\n",
        "    Product,\n",
        "    SUM(Price * Quantity) AS TotalSales\n",
        "FROM\n",
        "    Purchase\n",
        "WHERE\n",
        "    Date > '2005-10-01'\n",
        "GROUP BY\n",
        "    Product\n",
        "HAVING\n",
        "  SUM(quantity) > 15;"
      ],
      "metadata": {
        "colab": {
          "base_uri": "https://localhost:8080/",
          "height": 139
        },
        "id": "ed85yi1qb03z",
        "outputId": "dd25191f-4db0-4dd3-98c1-1f50ec09cbed"
      },
      "execution_count": 11,
      "outputs": [
        {
          "output_type": "stream",
          "name": "stdout",
          "text": [
            " * sqlite:///lab3.db\n",
            "Done.\n"
          ]
        },
        {
          "output_type": "execute_result",
          "data": {
            "text/plain": [
              "[('Bagel', 50.0), ('Banana', 15.0), ('Orange', 32.5)]"
            ],
            "text/html": [
              "<table>\n",
              "    <thead>\n",
              "        <tr>\n",
              "            <th>Product</th>\n",
              "            <th>TotalSales</th>\n",
              "        </tr>\n",
              "    </thead>\n",
              "    <tbody>\n",
              "        <tr>\n",
              "            <td>Bagel</td>\n",
              "            <td>50.0</td>\n",
              "        </tr>\n",
              "        <tr>\n",
              "            <td>Banana</td>\n",
              "            <td>15.0</td>\n",
              "        </tr>\n",
              "        <tr>\n",
              "            <td>Orange</td>\n",
              "            <td>32.5</td>\n",
              "        </tr>\n",
              "    </tbody>\n",
              "</table>"
            ]
          },
          "metadata": {},
          "execution_count": 11
        }
      ]
    }
  ],
  "metadata": {
    "kernelspec": {
      "display_name": "Python 3",
      "language": "python",
      "name": "python3"
    },
    "language_info": {
      "codemirror_mode": {
        "name": "ipython",
        "version": 3
      },
      "file_extension": ".py",
      "mimetype": "text/x-python",
      "name": "python",
      "nbconvert_exporter": "python",
      "pygments_lexer": "ipython3",
      "version": "3.6.9"
    },
    "colab": {
      "provenance": [],
      "include_colab_link": true
    }
  },
  "nbformat": 4,
  "nbformat_minor": 0
}