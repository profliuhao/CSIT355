{
  "nbformat": 4,
  "nbformat_minor": 0,
  "metadata": {
    "colab": {
      "provenance": [],
      "authorship_tag": "ABX9TyOmwFooGcVr+EKt4CSljinV",
      "include_colab_link": true
    },
    "kernelspec": {
      "name": "python3",
      "display_name": "Python 3"
    },
    "language_info": {
      "name": "python"
    }
  },
  "cells": [
    {
      "cell_type": "markdown",
      "metadata": {
        "id": "view-in-github",
        "colab_type": "text"
      },
      "source": [
        "<a href=\"https://colab.research.google.com/github/profliuhao/CSIT355/blob/main/CSIT_355_Module_5_SQL_aggregation_exercise_2.ipynb\" target=\"_parent\"><img src=\"https://colab.research.google.com/assets/colab-badge.svg\" alt=\"Open In Colab\"/></a>"
      ]
    },
    {
      "cell_type": "markdown",
      "metadata": {
        "id": "CE-7x0ppuDNb"
      },
      "source": [
        "# Lab 3: SQL Aggregation Queries - Part 2\n",
        "\n",
        "### [name]\n",
        "### [student ID]"
      ]
    },
    {
      "cell_type": "markdown",
      "source": [
        "## Instruction\n",
        "You need to finish all questions of In-class exercises. Name your ipynb file as StudentName_lab3.ipynb and download it as .py file. And then submit it on Canvas.\n",
        "\n",
        "PLEASE ENSURE THAT THE SCRIPT CAN CORRECTLY EXECUTE!!!"
      ],
      "metadata": {
        "id": "VsoIhlZ5PWM2"
      }
    },
    {
      "cell_type": "code",
      "source": [
        "#Let's connect to a database **lab3.db** using:\n",
        "%load_ext sql\n",
        "#%reload_ext sql\n",
        "%sql sqlite:///lab3.db"
      ],
      "metadata": {
        "id": "09lkq5ckPSfA"
      },
      "execution_count": 1,
      "outputs": []
    },
    {
      "cell_type": "code",
      "source": [
        "%%sql\n",
        "-- Create the \"Sailors\" table\n",
        "drop table if exists Sailors;\n",
        "drop table if exists Reserves;\n",
        "drop table if exists Boats;\n",
        "CREATE TABLE Sailors (\n",
        "    sid int PRIMARY KEY,\n",
        "    sname VARCHAR,\n",
        "    rating int,\n",
        "    age real\n",
        ");\n",
        "\n",
        "-- Create the \"Reserves\" table\n",
        "CREATE TABLE Reserves (\n",
        "    sid int,\n",
        "    bid int,\n",
        "    day DATE,\n",
        "    PRIMARY KEY (sid, bid),\n",
        "    FOREIGN KEY (sid) REFERENCES Sailors(sid),\n",
        "    FOREIGN KEY (bid) REFERENCES Boats(bid)\n",
        ");\n",
        "\n",
        "-- Create the \"Boats\" table\n",
        "CREATE TABLE Boats (\n",
        "    bid int PRIMARY KEY,\n",
        "    name VARCHAR,\n",
        "    color VARCHAR\n",
        ");\n",
        "\n",
        "-- Insert rows into the \"Sailors\" table\n",
        "delete from Sailors;\n",
        "INSERT INTO Sailors (sid, sname, rating, age) VALUES\n",
        "    (22, 'Dustin', 7, 45),\n",
        "    (29, 'Brutus', 1, 33),\n",
        "    (31, 'Lubber', 8, 55.5),\n",
        "    (32, 'Andy', 8, 25.5),\n",
        "    (58, 'Rusty', 10, 35),\n",
        "    (64, 'Horatio', 7, 35),\n",
        "    (71, 'Zorba', 10, 16),\n",
        "    (74, 'Horatio', 9, 35),\n",
        "    (85, 'Art', 3, 25.5),\n",
        "    (95, 'Bob', 3, 63.5);\n",
        "\n",
        "-- Insert rows into the \"Boats\" table\n",
        "delete from Boats;\n",
        "INSERT INTO Boats (bid, name, color) VALUES\n",
        "    (101, 'Interlake', 'blue'),\n",
        "    (102, 'Interlake', 'red'),\n",
        "    (103, 'Clipper', 'green'),\n",
        "    (104, 'Marine', 'red');\n",
        "\n",
        "-- Insert rows into the \"Reserves\" table\n",
        "delete from Reserves;\n",
        "INSERT INTO Reserves (sid, bid, day) VALUES\n",
        "    (22, 101, '10/10/98'),\n",
        "    (22, 102, '10/11/98'),\n",
        "    (22, 103, '10/8/98'),\n",
        "    (22, 104, '10/7/98'),\n",
        "    (31, 102, '11/10/98'),\n",
        "    (31, 103, '10/6/98'),\n",
        "    (31, 104, '11/12/98'),\n",
        "    (64, 101, '9/5/98'),\n",
        "    (64, 102, '9/8/98'),\n",
        "    (74, 103, '9/8/98');"
      ],
      "metadata": {
        "colab": {
          "base_uri": "https://localhost:8080/"
        },
        "id": "QDVu8VosPL0X",
        "outputId": "53d0a989-905e-4efe-90d8-f22cb21eaaa9"
      },
      "execution_count": 2,
      "outputs": [
        {
          "output_type": "stream",
          "name": "stdout",
          "text": [
            " * sqlite:///lab3.db\n",
            "Done.\n",
            "Done.\n",
            "Done.\n",
            "Done.\n",
            "Done.\n",
            "Done.\n",
            "0 rows affected.\n",
            "10 rows affected.\n",
            "0 rows affected.\n",
            "4 rows affected.\n",
            "0 rows affected.\n",
            "10 rows affected.\n"
          ]
        },
        {
          "output_type": "execute_result",
          "data": {
            "text/plain": [
              "[]"
            ]
          },
          "metadata": {},
          "execution_count": 2
        }
      ]
    },
    {
      "cell_type": "markdown",
      "source": [
        "Find rating that has lowest average sailor age"
      ],
      "metadata": {
        "id": "tM48hzLaUW6P"
      }
    },
    {
      "cell_type": "code",
      "source": [
        "%%sql\n",
        "SELECT S.rating\n",
        "FROM Sailors S\n",
        "WHERE S.age = (SELECT MIN (AVG(S2.age))\n",
        "        FROM Sailors S2)"
      ],
      "metadata": {
        "colab": {
          "base_uri": "https://localhost:8080/"
        },
        "id": "YKgRNVYLUWgv",
        "outputId": "98c7f2b6-ec68-46d3-b3bd-2a502ef6525b"
      },
      "execution_count": 3,
      "outputs": [
        {
          "output_type": "stream",
          "name": "stdout",
          "text": [
            " * sqlite:///lab3.db\n",
            "(sqlite3.OperationalError) misuse of aggregate function AVG()\n",
            "[SQL: SELECT S.rating\n",
            "FROM Sailors S\n",
            "WHERE S.age = (SELECT MIN (AVG(S2.age))\n",
            "        FROM Sailors S2)]\n",
            "(Background on this error at: https://sqlalche.me/e/20/e3q8)\n"
          ]
        }
      ]
    },
    {
      "cell_type": "code",
      "source": [
        "%%sql\n",
        "SELECT S2.rating, AVG(S2.age)\n",
        "FROM Sailors S2\n",
        "Group by S2.rating"
      ],
      "metadata": {
        "colab": {
          "base_uri": "https://localhost:8080/",
          "height": 203
        },
        "id": "arkf8oZCUFH_",
        "outputId": "9402b4fa-a630-4cb5-daf6-4ab8c1078ae7"
      },
      "execution_count": 4,
      "outputs": [
        {
          "output_type": "stream",
          "name": "stdout",
          "text": [
            " * sqlite:///lab3.db\n",
            "Done.\n"
          ]
        },
        {
          "output_type": "execute_result",
          "data": {
            "text/plain": [
              "[(1, 33.0), (3, 44.5), (7, 40.0), (8, 40.5), (9, 35.0), (10, 25.5)]"
            ],
            "text/html": [
              "<table>\n",
              "    <thead>\n",
              "        <tr>\n",
              "            <th>rating</th>\n",
              "            <th>AVG(S2.age)</th>\n",
              "        </tr>\n",
              "    </thead>\n",
              "    <tbody>\n",
              "        <tr>\n",
              "            <td>1</td>\n",
              "            <td>33.0</td>\n",
              "        </tr>\n",
              "        <tr>\n",
              "            <td>3</td>\n",
              "            <td>44.5</td>\n",
              "        </tr>\n",
              "        <tr>\n",
              "            <td>7</td>\n",
              "            <td>40.0</td>\n",
              "        </tr>\n",
              "        <tr>\n",
              "            <td>8</td>\n",
              "            <td>40.5</td>\n",
              "        </tr>\n",
              "        <tr>\n",
              "            <td>9</td>\n",
              "            <td>35.0</td>\n",
              "        </tr>\n",
              "        <tr>\n",
              "            <td>10</td>\n",
              "            <td>25.5</td>\n",
              "        </tr>\n",
              "    </tbody>\n",
              "</table>"
            ]
          },
          "metadata": {},
          "execution_count": 4
        }
      ]
    },
    {
      "cell_type": "code",
      "source": [
        "%%sql\n",
        "SELECT MIN (AVG(S2.age))\n",
        "FROM Sailors S2\n",
        "Group by S2.rating"
      ],
      "metadata": {
        "colab": {
          "base_uri": "https://localhost:8080/"
        },
        "id": "KAjXLeplT5q6",
        "outputId": "8ca46c81-27c1-4ed6-e9dd-d957397a8cca"
      },
      "execution_count": 5,
      "outputs": [
        {
          "output_type": "stream",
          "name": "stdout",
          "text": [
            " * sqlite:///lab3.db\n",
            "(sqlite3.OperationalError) misuse of aggregate function AVG()\n",
            "[SQL: SELECT MIN (AVG(S2.age))\n",
            "FROM Sailors S2\n",
            "Group by S2.rating]\n",
            "(Background on this error at: https://sqlalche.me/e/20/e3q8)\n"
          ]
        }
      ]
    },
    {
      "cell_type": "code",
      "source": [
        "%%sql\n",
        "\n",
        "select Temp.rating, MIN(Temp.average)\n",
        "\n",
        "from (SELECT S.rating, AVG(S.age) AS average\n",
        "        FROM Sailors S\n",
        "        GROUP BY S.rating) Temp"
      ],
      "metadata": {
        "colab": {
          "base_uri": "https://localhost:8080/",
          "height": 97
        },
        "id": "85BojiVrPh9g",
        "outputId": "00d7a91d-22b7-4101-fdbd-e6b4e2bf0733"
      },
      "execution_count": 6,
      "outputs": [
        {
          "output_type": "stream",
          "name": "stdout",
          "text": [
            " * sqlite:///lab3.db\n",
            "Done.\n"
          ]
        },
        {
          "output_type": "execute_result",
          "data": {
            "text/plain": [
              "[(10, 25.5)]"
            ],
            "text/html": [
              "<table>\n",
              "    <thead>\n",
              "        <tr>\n",
              "            <th>rating</th>\n",
              "            <th>MIN(Temp.average)</th>\n",
              "        </tr>\n",
              "    </thead>\n",
              "    <tbody>\n",
              "        <tr>\n",
              "            <td>10</td>\n",
              "            <td>25.5</td>\n",
              "        </tr>\n",
              "    </tbody>\n",
              "</table>"
            ]
          },
          "metadata": {},
          "execution_count": 6
        }
      ]
    },
    {
      "cell_type": "code",
      "source": [
        "%%sql\n",
        "SELECT Temp.rating, Temp.average as average\n",
        "FROM (\n",
        "  SELECT S.rating, AVG(S.age) AS average\n",
        "        FROM Sailors S\n",
        "        GROUP BY S.rating\n",
        "        ) Temp\n",
        "WHERE Temp.average = (\n",
        "  SELECT MIN(Temp2.average)\n",
        "    FROM (\n",
        "      SELECT S.rating, AVG(S.age) AS average\n",
        "      FROM Sailors S\n",
        "      GROUP BY S.rating\n",
        "      ) Temp2\n",
        "  );"
      ],
      "metadata": {
        "colab": {
          "base_uri": "https://localhost:8080/",
          "height": 97
        },
        "id": "k2vOVHEfQDqk",
        "outputId": "5e83034a-4702-4b49-8703-67e846c596ec"
      },
      "execution_count": 7,
      "outputs": [
        {
          "output_type": "stream",
          "name": "stdout",
          "text": [
            " * sqlite:///lab3.db\n",
            "Done.\n"
          ]
        },
        {
          "output_type": "execute_result",
          "data": {
            "text/plain": [
              "[(10, 25.5)]"
            ],
            "text/html": [
              "<table>\n",
              "    <thead>\n",
              "        <tr>\n",
              "            <th>rating</th>\n",
              "            <th>average</th>\n",
              "        </tr>\n",
              "    </thead>\n",
              "    <tbody>\n",
              "        <tr>\n",
              "            <td>10</td>\n",
              "            <td>25.5</td>\n",
              "        </tr>\n",
              "    </tbody>\n",
              "</table>"
            ]
          },
          "metadata": {},
          "execution_count": 7
        }
      ]
    },
    {
      "cell_type": "code",
      "source": [
        "%%sql\n",
        "SELECT Temp.rating, Temp.average AS average\n",
        "FROM (\n",
        "    SELECT S.rating, AVG(S.age) AS average\n",
        "    FROM Sailors S\n",
        "    GROUP BY S.rating\n",
        ") Temp\n",
        "WHERE Temp.average = (\n",
        "    SELECT MIN(Temp.average)\n",
        "    FROM Temp\n",
        ");\n"
      ],
      "metadata": {
        "colab": {
          "base_uri": "https://localhost:8080/"
        },
        "id": "Bw3zrR_tR62J",
        "outputId": "76898e06-9fa6-48a1-b20e-952bacb639be"
      },
      "execution_count": 8,
      "outputs": [
        {
          "output_type": "stream",
          "name": "stdout",
          "text": [
            " * sqlite:///lab3.db\n",
            "(sqlite3.OperationalError) no such table: Temp\n",
            "[SQL: SELECT Temp.rating, Temp.average AS average\n",
            "FROM (\n",
            "    SELECT S.rating, AVG(S.age) AS average\n",
            "    FROM Sailors S\n",
            "    GROUP BY S.rating\n",
            ") Temp\n",
            "WHERE Temp.average = (\n",
            "    SELECT MIN(Temp.average)\n",
            "    FROM Temp\n",
            ");]\n",
            "(Background on this error at: https://sqlalche.me/e/20/e3q8)\n"
          ]
        }
      ]
    },
    {
      "cell_type": "markdown",
      "source": [
        "Find the average age of students taking some course with 3 credits"
      ],
      "metadata": {
        "id": "VUhxYA1vWvnX"
      }
    },
    {
      "cell_type": "code",
      "source": [
        "%%sql\n",
        "DROP TABLE IF EXISTS Students;\n",
        "\n",
        "CREATE TABLE Students (\n",
        "  sid CHAR(20),\n",
        "  name CHAR(20),\n",
        "  login CHAR(10),\n",
        "  age INT,\n",
        "  gpa FLOAT\n",
        ");\n",
        "\n",
        "-- insert students values\n",
        "\n",
        "INSERT INTO Students (sid, name, login, age, gpa) VALUES ('S001', 'John Smith', 'johns', 24, 3.5);\n",
        "INSERT INTO Students (sid, name, login, age, gpa) VALUES ('S002', 'Emma Johnson', 'emma_j', 21, 3.7);\n",
        "INSERT INTO Students (sid, name, login, age, gpa) VALUES ('S003', 'Michael Brown', 'mike_b', 22, 3.2);\n",
        "INSERT INTO Students (sid, name, login, age, gpa) VALUES ('S004', 'Sophia Davis', 'soph_d', 29, 3.9);\n",
        "INSERT INTO Students (sid, name, login, age, gpa) VALUES ('S005', 'William Wilson', 'will_w', 25, 3.6);\n",
        "INSERT INTO Students (sid, name, login, age, gpa) VALUES ('S006', 'Olivia Martinez', 'olivia_m', 19, 3.8);\n",
        "INSERT INTO Students (sid, name, login, age, gpa) VALUES ('S007', 'James Taylor', 'james_t', 21, 3.4);\n",
        "INSERT INTO Students (sid, name, login, age, gpa) VALUES ('S008', 'Ava Anderson', 'ava_a', 20, 3.9);\n",
        "INSERT INTO Students (sid, name, login, age, gpa) VALUES ('S009', 'Alexander Thomas', 'alex_t', 26, 3.5);\n",
        "INSERT INTO Students (sid, name, login, age, gpa) VALUES ('S010', 'Mia Hernandez', 'mia_h', 23, 3.7);\n",
        "\n",
        "\n",
        "-- Create the Enrolled table\n",
        "DROP TABLE IF EXISTS Enrolled;\n",
        "\n",
        "CREATE TABLE Enrolled (\n",
        "  sid CHAR(20),\n",
        "  cid CHAR(20),\n",
        "  grade CHAR(2)\n",
        ");\n",
        "\n",
        "-- Insert fake data into the Enrolled table\n",
        "INSERT INTO Enrolled (sid, cid, grade) VALUES ('S001', 'C001', 'A');\n",
        "INSERT INTO Enrolled (sid, cid, grade) VALUES ('S002', 'C002', 'B+');\n",
        "INSERT INTO Enrolled (sid, cid, grade) VALUES ('S003', 'C003', 'A-');\n",
        "INSERT INTO Enrolled (sid, cid, grade) VALUES ('S004', 'C004', 'B');\n",
        "INSERT INTO Enrolled (sid, cid, grade) VALUES ('S001', 'C005', 'C');\n",
        "INSERT INTO Enrolled (sid, cid, grade) VALUES ('S002', 'C006', 'B+');\n",
        "INSERT INTO Enrolled (sid, cid, grade) VALUES ('S002', 'C002', 'A');\n",
        "INSERT INTO Enrolled (sid, cid, grade) VALUES ('S003', 'C003', 'B-');\n",
        "INSERT INTO Enrolled (sid, cid, grade) VALUES ('S004', 'C002', 'A');\n",
        "INSERT INTO Enrolled (sid, cid, grade) VALUES ('S005', 'C001', 'C+');\n",
        "INSERT INTO Enrolled (sid, cid, grade) VALUES ('S001', 'C009', 'C');\n",
        "INSERT INTO Enrolled (sid, cid, grade) VALUES ('S002', 'C001', 'B+');\n",
        "INSERT INTO Enrolled (sid, cid, grade) VALUES ('S002', 'C007', 'A');\n",
        "INSERT INTO Enrolled (sid, cid, grade) VALUES ('S003', 'C001', 'B-');\n",
        "INSERT INTO Enrolled (sid, cid, grade) VALUES ('S004', 'C005', 'A');\n",
        "INSERT INTO Enrolled (sid, cid, grade) VALUES ('S005', 'C003', 'C+');\n",
        "\n",
        "\n",
        "\n",
        "-- Create the Courses table\n",
        "DROP TABLE IF EXISTS Courses;\n",
        "\n",
        "CREATE TABLE Courses (\n",
        "  cid CHAR(20),\n",
        "  cname CHAR(20),\n",
        "  credits INT\n",
        ");\n",
        "\n",
        "-- Insert fake data into the Courses table\n",
        "INSERT INTO Courses (cid, cname, credits) VALUES ('C001', 'Introduction to Computer Science', 3);\n",
        "INSERT INTO Courses (cid, cname, credits) VALUES ('C002', 'Data Structures and Algorithms', 4);\n",
        "INSERT INTO Courses (cid, cname, credits) VALUES ('C003', 'Database Management Systems', 3);\n",
        "INSERT INTO Courses (cid, cname, credits) VALUES ('C004', 'Software Engineering', 4);\n",
        "INSERT INTO Courses (cid, cname, credits) VALUES ('C005', 'Operating Systems', 3);\n",
        "INSERT INTO Courses (cid, cname, credits) VALUES ('C006', 'Computer Networks', 3);\n",
        "INSERT INTO Courses (cid, cname, credits) VALUES ('C007', 'Artificial Intelligence', 4);\n",
        "INSERT INTO Courses (cid, cname, credits) VALUES ('C008', 'Web Development', 3);\n",
        "INSERT INTO Courses (cid, cname, credits) VALUES ('C009', 'Machine Learning', 4);\n",
        "INSERT INTO Courses (cid, cname, credits) VALUES ('C010', 'Cybersecurity', 3);\n"
      ],
      "metadata": {
        "colab": {
          "base_uri": "https://localhost:8080/"
        },
        "id": "18gqaaviXB9r",
        "outputId": "45b42454-c3e8-45d3-bdb6-a2ff867e1a3f"
      },
      "execution_count": 9,
      "outputs": [
        {
          "output_type": "stream",
          "name": "stdout",
          "text": [
            " * sqlite:///lab3.db\n",
            "Done.\n",
            "Done.\n",
            "1 rows affected.\n",
            "1 rows affected.\n",
            "1 rows affected.\n",
            "1 rows affected.\n",
            "1 rows affected.\n",
            "1 rows affected.\n",
            "1 rows affected.\n",
            "1 rows affected.\n",
            "1 rows affected.\n",
            "1 rows affected.\n",
            "Done.\n",
            "Done.\n",
            "1 rows affected.\n",
            "1 rows affected.\n",
            "1 rows affected.\n",
            "1 rows affected.\n",
            "1 rows affected.\n",
            "1 rows affected.\n",
            "1 rows affected.\n",
            "1 rows affected.\n",
            "1 rows affected.\n",
            "1 rows affected.\n",
            "1 rows affected.\n",
            "1 rows affected.\n",
            "1 rows affected.\n",
            "1 rows affected.\n",
            "1 rows affected.\n",
            "1 rows affected.\n",
            "Done.\n",
            "Done.\n",
            "1 rows affected.\n",
            "1 rows affected.\n",
            "1 rows affected.\n",
            "1 rows affected.\n",
            "1 rows affected.\n",
            "1 rows affected.\n",
            "1 rows affected.\n",
            "1 rows affected.\n",
            "1 rows affected.\n",
            "1 rows affected.\n"
          ]
        },
        {
          "output_type": "execute_result",
          "data": {
            "text/plain": [
              "[]"
            ]
          },
          "metadata": {},
          "execution_count": 9
        }
      ]
    },
    {
      "cell_type": "code",
      "source": [
        "%%sql\n",
        "SELECT AVG(S.age)\n",
        "FROM Students S, Enrolled E, Courses C\n",
        "WHERE S.sid = E.sid AND E.cid=C.cid AND C.credits=3"
      ],
      "metadata": {
        "colab": {
          "base_uri": "https://localhost:8080/",
          "height": 97
        },
        "id": "5G01ShiMWv61",
        "outputId": "9f949670-5b46-4b42-9fab-953f6fb1b9ad"
      },
      "execution_count": 10,
      "outputs": [
        {
          "output_type": "stream",
          "name": "stdout",
          "text": [
            " * sqlite:///lab3.db\n",
            "Done.\n"
          ]
        },
        {
          "output_type": "execute_result",
          "data": {
            "text/plain": [
              "[(23.5,)]"
            ],
            "text/html": [
              "<table>\n",
              "    <thead>\n",
              "        <tr>\n",
              "            <th>AVG(S.age)</th>\n",
              "        </tr>\n",
              "    </thead>\n",
              "    <tbody>\n",
              "        <tr>\n",
              "            <td>23.5</td>\n",
              "        </tr>\n",
              "    </tbody>\n",
              "</table>"
            ]
          },
          "metadata": {},
          "execution_count": 10
        }
      ]
    },
    {
      "cell_type": "code",
      "source": [
        "%%sql\n",
        "SELECT S.name\n",
        "FROM Students S, Enrolled E, Courses C\n",
        "WHERE S.sid = E.sid AND E.cid=C.cid AND C.credits=3"
      ],
      "metadata": {
        "colab": {
          "base_uri": "https://localhost:8080/",
          "height": 288
        },
        "id": "UaaLtgOIY_x0",
        "outputId": "8cc70007-8bdf-48a2-de5d-2fc604ec2149"
      },
      "execution_count": 11,
      "outputs": [
        {
          "output_type": "stream",
          "name": "stdout",
          "text": [
            " * sqlite:///lab3.db\n",
            "Done.\n"
          ]
        },
        {
          "output_type": "execute_result",
          "data": {
            "text/plain": [
              "[('John Smith',),\n",
              " ('Emma Johnson',),\n",
              " ('Michael Brown',),\n",
              " ('William Wilson',),\n",
              " ('Michael Brown',),\n",
              " ('Michael Brown',),\n",
              " ('William Wilson',),\n",
              " ('John Smith',),\n",
              " ('Sophia Davis',),\n",
              " ('Emma Johnson',)]"
            ],
            "text/html": [
              "<table>\n",
              "    <thead>\n",
              "        <tr>\n",
              "            <th>name</th>\n",
              "        </tr>\n",
              "    </thead>\n",
              "    <tbody>\n",
              "        <tr>\n",
              "            <td>John Smith</td>\n",
              "        </tr>\n",
              "        <tr>\n",
              "            <td>Emma Johnson</td>\n",
              "        </tr>\n",
              "        <tr>\n",
              "            <td>Michael Brown</td>\n",
              "        </tr>\n",
              "        <tr>\n",
              "            <td>William Wilson</td>\n",
              "        </tr>\n",
              "        <tr>\n",
              "            <td>Michael Brown</td>\n",
              "        </tr>\n",
              "        <tr>\n",
              "            <td>Michael Brown</td>\n",
              "        </tr>\n",
              "        <tr>\n",
              "            <td>William Wilson</td>\n",
              "        </tr>\n",
              "        <tr>\n",
              "            <td>John Smith</td>\n",
              "        </tr>\n",
              "        <tr>\n",
              "            <td>Sophia Davis</td>\n",
              "        </tr>\n",
              "        <tr>\n",
              "            <td>Emma Johnson</td>\n",
              "        </tr>\n",
              "    </tbody>\n",
              "</table>"
            ]
          },
          "metadata": {},
          "execution_count": 11
        }
      ]
    },
    {
      "cell_type": "code",
      "source": [
        "%%sql\n",
        "SELECT AVG(S1.age)\n",
        "FROM Students S1\n",
        "WHERE\n",
        "S1.sid IN (SELECT S.sid\n",
        "            FROM Students S, Enrolled E, Courses C\n",
        "            WHERE S.sid=E.sid AND E.cid=C.cid AND\n",
        "            C.credits=3)"
      ],
      "metadata": {
        "colab": {
          "base_uri": "https://localhost:8080/",
          "height": 97
        },
        "id": "cL2wFNheYZrc",
        "outputId": "bdc0607a-2688-4a95-f05d-cebafeda8704"
      },
      "execution_count": 12,
      "outputs": [
        {
          "output_type": "stream",
          "name": "stdout",
          "text": [
            " * sqlite:///lab3.db\n",
            "Done.\n"
          ]
        },
        {
          "output_type": "execute_result",
          "data": {
            "text/plain": [
              "[(24.2,)]"
            ],
            "text/html": [
              "<table>\n",
              "    <thead>\n",
              "        <tr>\n",
              "            <th>AVG(S1.age)</th>\n",
              "        </tr>\n",
              "    </thead>\n",
              "    <tbody>\n",
              "        <tr>\n",
              "            <td>24.2</td>\n",
              "        </tr>\n",
              "    </tbody>\n",
              "</table>"
            ]
          },
          "metadata": {},
          "execution_count": 12
        }
      ]
    },
    {
      "cell_type": "code",
      "source": [
        "%%sql\n",
        "SELECT S1.name\n",
        "FROM Students S1\n",
        "WHERE\n",
        "S1.sid IN (SELECT S.sid\n",
        "            FROM Students S, Enrolled E, Courses C\n",
        "            WHERE S.sid=E.sid AND E.cid=C.cid AND\n",
        "            C.credits=3)"
      ],
      "metadata": {
        "colab": {
          "base_uri": "https://localhost:8080/",
          "height": 182
        },
        "id": "o0OXZ5TDZEF3",
        "outputId": "ce994f57-bfe2-49c2-fdf4-04980853a835"
      },
      "execution_count": 13,
      "outputs": [
        {
          "output_type": "stream",
          "name": "stdout",
          "text": [
            " * sqlite:///lab3.db\n",
            "Done.\n"
          ]
        },
        {
          "output_type": "execute_result",
          "data": {
            "text/plain": [
              "[('John Smith',),\n",
              " ('Emma Johnson',),\n",
              " ('Michael Brown',),\n",
              " ('Sophia Davis',),\n",
              " ('William Wilson',)]"
            ],
            "text/html": [
              "<table>\n",
              "    <thead>\n",
              "        <tr>\n",
              "            <th>name</th>\n",
              "        </tr>\n",
              "    </thead>\n",
              "    <tbody>\n",
              "        <tr>\n",
              "            <td>John Smith</td>\n",
              "        </tr>\n",
              "        <tr>\n",
              "            <td>Emma Johnson</td>\n",
              "        </tr>\n",
              "        <tr>\n",
              "            <td>Michael Brown</td>\n",
              "        </tr>\n",
              "        <tr>\n",
              "            <td>Sophia Davis</td>\n",
              "        </tr>\n",
              "        <tr>\n",
              "            <td>William Wilson</td>\n",
              "        </tr>\n",
              "    </tbody>\n",
              "</table>"
            ]
          },
          "metadata": {},
          "execution_count": 13
        }
      ]
    },
    {
      "cell_type": "markdown",
      "source": [
        "Find the average age over enrolled students that are 25 or younger for\n",
        "each course with at least 2 enrolled students (of any age)"
      ],
      "metadata": {
        "id": "89fSbpKPa4tn"
      }
    },
    {
      "cell_type": "code",
      "source": [
        "%%sql\n",
        "\n",
        "SELECT C.cname, AVG(S.age)\n",
        "FROM Students S, Enrolled E, Courses C\n",
        "WHERE S.sid = E.sid AND E.cid = C.cid AND S.age <= 25\n",
        "GROUP BY C.cid, C.cname\n",
        "HAVING 2 < (\n",
        "  SELECT COUNT(*)\n",
        "  FROM Enrolled E1\n",
        "  WHERE E1.cid = C.cid\n",
        "  )"
      ],
      "metadata": {
        "colab": {
          "base_uri": "https://localhost:8080/",
          "height": 139
        },
        "id": "1Pv2WsC9a4c9",
        "outputId": "5e76531d-15b2-4a3a-c351-c7f82cf87eb6"
      },
      "execution_count": 14,
      "outputs": [
        {
          "output_type": "stream",
          "name": "stdout",
          "text": [
            " * sqlite:///lab3.db\n",
            "Done.\n"
          ]
        },
        {
          "output_type": "execute_result",
          "data": {
            "text/plain": [
              "[('Introduction to Computer Science', 23.0),\n",
              " ('Data Structures and Algorithms', 21.0),\n",
              " ('Database Management Systems', 23.0)]"
            ],
            "text/html": [
              "<table>\n",
              "    <thead>\n",
              "        <tr>\n",
              "            <th>cname</th>\n",
              "            <th>AVG(S.age)</th>\n",
              "        </tr>\n",
              "    </thead>\n",
              "    <tbody>\n",
              "        <tr>\n",
              "            <td>Introduction to Computer Science</td>\n",
              "            <td>23.0</td>\n",
              "        </tr>\n",
              "        <tr>\n",
              "            <td>Data Structures and Algorithms</td>\n",
              "            <td>21.0</td>\n",
              "        </tr>\n",
              "        <tr>\n",
              "            <td>Database Management Systems</td>\n",
              "            <td>23.0</td>\n",
              "        </tr>\n",
              "    </tbody>\n",
              "</table>"
            ]
          },
          "metadata": {},
          "execution_count": 14
        }
      ]
    },
    {
      "cell_type": "markdown",
      "source": [
        "# Exercise 1\n",
        "Find the average age of enrolled students for each course with at least 10 enrolled students.\n",
        "List the course name(s) as well."
      ],
      "metadata": {
        "id": "KwPtciTsc7Nc"
      }
    },
    {
      "cell_type": "code",
      "source": [
        "%%sql\n",
        "\n"
      ],
      "metadata": {
        "colab": {
          "base_uri": "https://localhost:8080/"
        },
        "id": "w0p4ENRPc_n2",
        "outputId": "32c2c33f-a7f1-47fd-bc40-234499d58fb3"
      },
      "execution_count": 15,
      "outputs": [
        {
          "output_type": "stream",
          "name": "stdout",
          "text": [
            " * sqlite:///lab3.db\n"
          ]
        }
      ]
    },
    {
      "cell_type": "markdown",
      "source": [
        "# Exercise 2\n",
        "Find the average age of enrolled students for each course satisfying following two conditions: (1)\n",
        "course has at least 2 enrolled students and (2) at least one enrolled student has age higher than 20"
      ],
      "metadata": {
        "id": "miR2jkIAdCyh"
      }
    },
    {
      "cell_type": "code",
      "source": [
        "%%sql\n",
        "\n"
      ],
      "metadata": {
        "colab": {
          "base_uri": "https://localhost:8080/"
        },
        "id": "sq-rXy-ddUCs",
        "outputId": "38fea0cc-e4a9-4937-a4e9-c0c70f3fefde"
      },
      "execution_count": 16,
      "outputs": [
        {
          "output_type": "stream",
          "name": "stdout",
          "text": [
            " * sqlite:///lab3.db\n"
          ]
        }
      ]
    }
  ]
}